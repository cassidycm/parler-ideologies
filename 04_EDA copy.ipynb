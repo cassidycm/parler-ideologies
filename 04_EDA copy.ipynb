{
 "cells": [
  {
   "cell_type": "markdown",
   "id": "2e362cbb-19ac-454b-a2e4-6e6e728cbef6",
   "metadata": {},
   "source": [
    "# EDA"
   ]
  },
  {
   "cell_type": "markdown",
   "id": "1c350d3e-4ac4-4195-93fe-98852e12d2eb",
   "metadata": {},
   "source": [
    "Perform EDA on cleaned datasets. Discoveries during EDA of additional data cleaning steps will be added to notebook 3 and the cleaned csv will be re-exported and re-imported."
   ]
  },
  {
   "cell_type": "code",
   "execution_count": 1,
   "id": "aab65975-f831-4338-95f6-2c40ce8c4055",
   "metadata": {},
   "outputs": [],
   "source": [
    "import numpy as np\n",
    "import pandas as pd \n",
    "import seaborn as sns\n",
    "import matplotlib.pyplot as plt"
   ]
  },
  {
   "cell_type": "code",
   "execution_count": 2,
   "id": "82769eb7-df93-4c3b-8297-aab1c69bb2a2",
   "metadata": {},
   "outputs": [],
   "source": [
    "df = pd.read_csv('data/cleaned_posts_10sample.csv')"
   ]
  },
  {
   "cell_type": "code",
   "execution_count": 3,
   "id": "39a88a5d-f16f-47f3-b0e3-485395271ff8",
   "metadata": {},
   "outputs": [
    {
     "data": {
      "text/html": [
       "<div>\n",
       "<style scoped>\n",
       "    .dataframe tbody tr th:only-of-type {\n",
       "        vertical-align: middle;\n",
       "    }\n",
       "\n",
       "    .dataframe tbody tr th {\n",
       "        vertical-align: top;\n",
       "    }\n",
       "\n",
       "    .dataframe thead th {\n",
       "        text-align: right;\n",
       "    }\n",
       "</style>\n",
       "<table border=\"1\" class=\"dataframe\">\n",
       "  <thead>\n",
       "    <tr style=\"text-align: right;\">\n",
       "      <th></th>\n",
       "      <th>body</th>\n",
       "      <th>createdatformatted</th>\n",
       "      <th>creator</th>\n",
       "      <th>id</th>\n",
       "      <th>username</th>\n",
       "      <th>reposts</th>\n",
       "      <th>score</th>\n",
       "    </tr>\n",
       "  </thead>\n",
       "  <tbody>\n",
       "    <tr>\n",
       "      <th>0</th>\n",
       "      <td>The terrorists need to know who is really in c...</td>\n",
       "      <td>2020-12-05 23:57:56 UTC</td>\n",
       "      <td>2419aa9637e24bdc83857aef11782b4d</td>\n",
       "      <td>5f94412c76e9455695370b59776ba441</td>\n",
       "      <td>Jeribelle</td>\n",
       "      <td>NaN</td>\n",
       "      <td>5.0</td>\n",
       "    </tr>\n",
       "    <tr>\n",
       "      <th>1</th>\n",
       "      <td>I m thinking they will get one vaccine (to pro...</td>\n",
       "      <td>2020-12-21 18:14:19 UTC</td>\n",
       "      <td>15b1010e67b44035a18e259fcb4b189f</td>\n",
       "      <td>e56ce5ec73e34f6f87f5111cc2f40d3a</td>\n",
       "      <td>KarenRL</td>\n",
       "      <td>NaN</td>\n",
       "      <td>0.0</td>\n",
       "    </tr>\n",
       "    <tr>\n",
       "      <th>2</th>\n",
       "      <td>Troll</td>\n",
       "      <td>2020-12-18 03:20:15 UTC</td>\n",
       "      <td>14c8f72190374baf8921f2798af5ad09</td>\n",
       "      <td>ecd618eceb8e40e5ad0deac45a456ffd</td>\n",
       "      <td>Melodydbrush</td>\n",
       "      <td>NaN</td>\n",
       "      <td>0.0</td>\n",
       "    </tr>\n",
       "    <tr>\n",
       "      <th>3</th>\n",
       "      <td>Nothing, can stop what's coming.</td>\n",
       "      <td>2020-11-28 00:36:04 UTC</td>\n",
       "      <td>6a1a0b7a26c34debb9f83d222e0d86b9</td>\n",
       "      <td>8c7c949de74f4d2382aa7d4d8867ebf1</td>\n",
       "      <td>FREEDOMWWGIWGA</td>\n",
       "      <td>8.0</td>\n",
       "      <td>NaN</td>\n",
       "    </tr>\n",
       "    <tr>\n",
       "      <th>4</th>\n",
       "      <td>These people know whats best for society........</td>\n",
       "      <td>2020-09-06 17:43:25 UTC</td>\n",
       "      <td>6976b96a611a4d4ca45c9da49569ae84</td>\n",
       "      <td>6ac232970abe44d38c59b59621b241e0</td>\n",
       "      <td>Ardwick</td>\n",
       "      <td>NaN</td>\n",
       "      <td>2.0</td>\n",
       "    </tr>\n",
       "  </tbody>\n",
       "</table>\n",
       "</div>"
      ],
      "text/plain": [
       "                                                body       createdatformatted  \\\n",
       "0  The terrorists need to know who is really in c...  2020-12-05 23:57:56 UTC   \n",
       "1  I m thinking they will get one vaccine (to pro...  2020-12-21 18:14:19 UTC   \n",
       "2                                              Troll  2020-12-18 03:20:15 UTC   \n",
       "3                   Nothing, can stop what's coming.  2020-11-28 00:36:04 UTC   \n",
       "4   These people know whats best for society........  2020-09-06 17:43:25 UTC   \n",
       "\n",
       "                            creator                                id  \\\n",
       "0  2419aa9637e24bdc83857aef11782b4d  5f94412c76e9455695370b59776ba441   \n",
       "1  15b1010e67b44035a18e259fcb4b189f  e56ce5ec73e34f6f87f5111cc2f40d3a   \n",
       "2  14c8f72190374baf8921f2798af5ad09  ecd618eceb8e40e5ad0deac45a456ffd   \n",
       "3  6a1a0b7a26c34debb9f83d222e0d86b9  8c7c949de74f4d2382aa7d4d8867ebf1   \n",
       "4  6976b96a611a4d4ca45c9da49569ae84  6ac232970abe44d38c59b59621b241e0   \n",
       "\n",
       "         username  reposts  score  \n",
       "0       Jeribelle      NaN    5.0  \n",
       "1         KarenRL      NaN    0.0  \n",
       "2    Melodydbrush      NaN    0.0  \n",
       "3  FREEDOMWWGIWGA      8.0    NaN  \n",
       "4         Ardwick      NaN    2.0  "
      ]
     },
     "execution_count": 3,
     "metadata": {},
     "output_type": "execute_result"
    }
   ],
   "source": [
    "df.head()"
   ]
  },
  {
   "cell_type": "code",
   "execution_count": 4,
   "id": "b0f3de3b-96ea-4a5f-a8ef-d74ccfa3941c",
   "metadata": {},
   "outputs": [
    {
     "name": "stdout",
     "output_type": "stream",
     "text": [
      "['reposts', 'score']\n"
     ]
    }
   ],
   "source": [
    "numeric_cols = list(df.select_dtypes(include='number'))\n",
    "print(numeric_cols)"
   ]
  },
  {
   "cell_type": "code",
   "execution_count": 5,
   "id": "e952f2ba-a225-4b96-b387-3b3cbda621c1",
   "metadata": {},
   "outputs": [
    {
     "name": "stdout",
     "output_type": "stream",
     "text": [
      "reposts\n",
      "0.0       162366\n",
      "1.0        24612\n",
      "2.0        10302\n",
      "3.0         5945\n",
      "4.0         3719\n",
      "           ...  \n",
      "350.0          1\n",
      "462.0          1\n",
      "346.0          1\n",
      "554.0          1\n",
      "5000.0         1\n",
      "Name: reposts, Length: 626, dtype: int64\n",
      "\n",
      "score\n",
      " 0.0      256353\n",
      " 1.0      153279\n",
      " 2.0       71929\n",
      " 3.0       45640\n",
      " 4.0       32566\n",
      "           ...  \n",
      " 583.0         1\n",
      "-155.0         1\n",
      " 167.0         1\n",
      " 542.0         1\n",
      " 213.0         1\n",
      "Name: score, Length: 347, dtype: int64\n",
      "\n"
     ]
    }
   ],
   "source": [
    "for i in numeric_cols:\n",
    "    print(i)\n",
    "    print(df[i].value_counts())\n",
    "    print()"
   ]
  },
  {
   "cell_type": "code",
   "execution_count": 13,
   "id": "758a032e-e842-4fdf-8cfb-95b671872657",
   "metadata": {},
   "outputs": [
    {
     "data": {
      "text/plain": [
       "(905414, 7)"
      ]
     },
     "execution_count": 13,
     "metadata": {},
     "output_type": "execute_result"
    }
   ],
   "source": [
    "df.shape"
   ]
  },
  {
   "cell_type": "code",
   "execution_count": 9,
   "id": "ae2b26bb-ada8-46d6-b4a0-51d880febce1",
   "metadata": {},
   "outputs": [
    {
     "data": {
      "text/plain": [
       "313862"
      ]
     },
     "execution_count": 9,
     "metadata": {},
     "output_type": "execute_result"
    }
   ],
   "source": [
    "len(df['username'].unique())"
   ]
  },
  {
   "cell_type": "code",
   "execution_count": null,
   "id": "909a7def-accb-42fa-91ef-87ee655d5c3c",
   "metadata": {},
   "outputs": [
    {
     "data": {
      "text/plain": [
       "False"
      ]
     },
     "execution_count": 6,
     "metadata": {},
     "output_type": "execute_result"
    }
   ],
   "source": [
    "len(df['creator'].unique()) == len(df['username'].unique())"
   ]
  },
  {
   "cell_type": "markdown",
   "id": "cde03791-1815-4c33-8d59-288fd5d7b2f1",
   "metadata": {},
   "source": [
    "## Timeline"
   ]
  },
  {
   "cell_type": "code",
   "execution_count": 7,
   "id": "25bd8244-7ca7-4c82-bb29-122b8a5eb205",
   "metadata": {},
   "outputs": [],
   "source": [
    "df['createdatformatted'] = pd.to_datetime(df['createdatformatted'])"
   ]
  },
  {
   "cell_type": "code",
   "execution_count": 11,
   "id": "483ee9ac-c535-4516-92d0-318185c9880c",
   "metadata": {},
   "outputs": [
    {
     "data": {
      "image/png": "[encoded data removed]",
      "text/plain": [
       "<Figure size 864x504 with 1 Axes>"
      ]
     },
     "metadata": {
      "needs_background": "light"
     },
     "output_type": "display_data"
    }
   ],
   "source": [
    "plt.figure(figsize=(12, 7))\n",
    "plt.hist(df['createdatformatted'], bins=30)\n",
    "plt.title('All posts over time');"
   ]
  },
  {
   "cell_type": "code",
   "execution_count": 17,
   "id": "ec2c9f57-7fe6-4684-a112-f70645f87955",
   "metadata": {},
   "outputs": [
    {
     "data": {
      "text/plain": [
       "Klonokid          555\n",
       "Mikewin           548\n",
       "ThomasFox         473\n",
       "Gayle7753         458\n",
       "chucknellis       448\n",
       "                 ... \n",
       "Minnconcrete        1\n",
       "Lynnesutton147      1\n",
       "Aussie01            1\n",
       "Mtk20               1\n",
       "SChil               1\n",
       "Name: username, Length: 313862, dtype: int64"
      ]
     },
     "execution_count": 17,
     "metadata": {},
     "output_type": "execute_result"
    }
   ],
   "source": [
    "df['username'].value_counts()"
   ]
  },
  {
   "cell_type": "code",
   "execution_count": null,
   "id": "d1cd8344-dc6c-4195-b540-04d290eec824",
   "metadata": {},
   "outputs": [],
   "source": []
  }
 ],
 "metadata": {
  "kernelspec": {
   "display_name": "Python 3 (ipykernel)",
   "language": "python",
   "name": "python3"
  },
  "language_info": {
   "codemirror_mode": {
    "name": "ipython",
    "version": 3
   },
   "file_extension": ".py",
   "mimetype": "text/x-python",
   "name": "python",
   "nbconvert_exporter": "python",
   "pygments_lexer": "ipython3",
   "version": "3.9.7"
  }
 },
 "nbformat": 4,
 "nbformat_minor": 5
}
