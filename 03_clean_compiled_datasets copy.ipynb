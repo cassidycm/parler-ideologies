{
 "cells": [
  {
   "cell_type": "markdown",
   "id": "c3c8a21c-4579-47b4-9ed8-50a20bfbf9b0",
   "metadata": {},
   "source": [
    "# Clean users and posts compiled datasets "
   ]
  },
  {
   "cell_type": "markdown",
   "id": "db775ca7-9b52-46b0-90f3-a1090671e3c1",
   "metadata": {},
   "source": [
    "For both the users and posts datasets:\n",
    "- Pare down features\n",
    "- Drop nulls and deal with missing data\n",
    "- Remove usernames and html artifacts \n",
    "- Join users to post dataset\n",
    "- Export cleaned data as 2 separate csvs: modeling (for train and test) and validation "
   ]
  },
  {
   "cell_type": "code",
   "execution_count": 1,
   "id": "7847eee5-c6a0-49a2-ba5c-3b1a65fbb480",
   "metadata": {},
   "outputs": [],
   "source": [
    "import numpy as np\n",
    "import pandas as pd\n",
    "import re\n",
    "\n",
    "pd.set_option('display.max_columns', 100)\n",
    "pd.set_option('display.max_colwidth', 500)"
   ]
  },
  {
   "cell_type": "code",
   "execution_count": 2,
   "id": "2feeedfc-7f1b-42c8-bc25-0ce8db71a92a",
   "metadata": {},
   "outputs": [
    {
     "name": "stderr",
     "output_type": "stream",
     "text": [
      "/Users/cassidycampbellmueller/opt/anaconda3/lib/python3.9/site-packages/IPython/core/interactiveshell.py:3457: DtypeWarning: Columns (19,24,27,30,31,34,35,38,39) have mixed types.Specify dtype option on import or set low_memory=False.\n",
      "  exec(code_obj, self.user_global_ns, self.user_ns)\n"
     ]
    },
    {
     "data": {
      "text/plain": [
       "(10197289, 40)"
      ]
     },
     "execution_count": 2,
     "metadata": {},
     "output_type": "execute_result"
    }
   ],
   "source": [
    "# posts = pd.read_csv('data/raw_ndjson/all_posts.csv')\n",
    "# posts.columns = posts.columns.str.lower()\n",
    "# # posts.shape"
   ]
  },
  {
   "cell_type": "code",
   "execution_count": 3,
   "id": "c91bc6b1-25b4-4288-b59a-dd28bf0cd9a9",
   "metadata": {
    "tags": []
   },
   "outputs": [
    {
     "data": {
      "text/html": [
       "<div>\n",
       "<style scoped>\n",
       "    .dataframe tbody tr th:only-of-type {\n",
       "        vertical-align: middle;\n",
       "    }\n",
       "\n",
       "    .dataframe tbody tr th {\n",
       "        vertical-align: top;\n",
       "    }\n",
       "\n",
       "    .dataframe thead th {\n",
       "        text-align: right;\n",
       "    }\n",
       "</style>\n",
       "<table border=\"1\" class=\"dataframe\">\n",
       "  <thead>\n",
       "    <tr style=\"text-align: right;\">\n",
       "      <th></th>\n",
       "      <th>level_0</th>\n",
       "      <th>index</th>\n",
       "      <th>comments</th>\n",
       "      <th>body</th>\n",
       "      <th>bodywithurls</th>\n",
       "      <th>createdat</th>\n",
       "      <th>createdatformatted</th>\n",
       "      <th>creator</th>\n",
       "      <th>datatype</th>\n",
       "      <th>depth</th>\n",
       "      <th>depthraw</th>\n",
       "      <th>followers</th>\n",
       "      <th>following</th>\n",
       "      <th>hashtags</th>\n",
       "      <th>id</th>\n",
       "      <th>lastseents</th>\n",
       "      <th>links</th>\n",
       "      <th>media</th>\n",
       "      <th>posts</th>\n",
       "      <th>sensitive</th>\n",
       "      <th>sharelink</th>\n",
       "      <th>upvotes</th>\n",
       "      <th>urls</th>\n",
       "      <th>username</th>\n",
       "      <th>verified</th>\n",
       "      <th>article</th>\n",
       "      <th>impressions</th>\n",
       "      <th>preview</th>\n",
       "      <th>reposts</th>\n",
       "      <th>state</th>\n",
       "      <th>parent</th>\n",
       "      <th>color</th>\n",
       "      <th>commentdepth</th>\n",
       "      <th>controversy</th>\n",
       "      <th>downvotes</th>\n",
       "      <th>post</th>\n",
       "      <th>score</th>\n",
       "      <th>isprimary</th>\n",
       "      <th>conversation</th>\n",
       "      <th>replyingto</th>\n",
       "    </tr>\n",
       "  </thead>\n",
       "  <tbody>\n",
       "    <tr>\n",
       "      <th>0</th>\n",
       "      <td>0</td>\n",
       "      <td>0</td>\n",
       "      <td>2</td>\n",
       "      <td>‪ CHILLS! \\n\\nI loved hearing Airforce Technical SGT. Nalani Quintello singing the National Anthem in front of President Trump &amp; First Lady, Melania Trump &amp; all the fans at #DAYTONA500  \\n\\nA huge shout out to the amazing Thunderbirds for the fly over! \\n\\nThis is the America I Love🇺🇸\\nECHO if you feel the same!\\n@ClintonMichael @Laura @@katthehammer1 ‬</td>\n",
       "      <td>‪ CHILLS! \\n\\nI loved hearing Airforce Technical SGT. Nalani Quintello singing the National Anthem in front of President Trump &amp; First Lady, Melania Trump &amp; all the fans at #DAYTONA500  \\n\\nA huge shout out to the amazing Thunderbirds for the fly over! \\n\\nThis is the America I Love🇺🇸\\nECHO if you feel the same!\\n@ClintonMichael @Laura @@katthehammer1 ‬\\nhttps://twitter.com/Jamierodr14/status/1229138821654220801/video/1</td>\n",
       "      <td>2.020022e+13</td>\n",
       "      <td>2020-02-16 23:15:56 UTC</td>\n",
       "      <td>59501f9de23142fdbecee0b6592eb17f</td>\n",
       "      <td>posts</td>\n",
       "      <td>0.0</td>\n",
       "      <td>0.0</td>\n",
       "      <td>12000.0</td>\n",
       "      <td>2900.0</td>\n",
       "      <td>['daytona500']</td>\n",
       "      <td>f2c55d1b981e4e109863cd7b30486a3f</td>\n",
       "      <td>2020-12-14T07:02:54.021284+00:00</td>\n",
       "      <td>['SyVr4']</td>\n",
       "      <td>4.0</td>\n",
       "      <td>682.0</td>\n",
       "      <td>0.0</td>\n",
       "      <td>https://parler.com/post/f2c55d1b981e4e109863cd7b30486a3f</td>\n",
       "      <td>31.0</td>\n",
       "      <td>[{'createdAt': '20200216231414', 'domain': 'twitter.com', 'id': 'SyVr4', 'long': 'https://twitter.com/Jamierodr14/status/1229138821654220801/video/1', 'metadata': {'length': -1, 'mimeType': 'text/html'}, 'modified': 'twitter.com/Jamierodr14/status/1229138821654220801/video/1', 'short': 'https://par.pw/l/SyVr4', 'state': 'VALID'}]</td>\n",
       "      <td>Jamierodr14</td>\n",
       "      <td>0.0</td>\n",
       "      <td>0.0</td>\n",
       "      <td>2500.0</td>\n",
       "      <td>‪ CHILLS! \\n\\nI loved hearing Airforce Technical SGT. Nalani Quintello singing the National Anthem in front of President Trump &amp; First Lady, Melania Trump &amp; all the fans at #DAYTONA500  \\n\\nA huge shout out to the amazing Thunderbirds for the fly over! \\n\\nThis is the America I Love🇺🇸\\nECHO if you feel the</td>\n",
       "      <td>16.0</td>\n",
       "      <td>4.0</td>\n",
       "      <td>NaN</td>\n",
       "      <td>NaN</td>\n",
       "      <td>NaN</td>\n",
       "      <td>NaN</td>\n",
       "      <td>NaN</td>\n",
       "      <td>NaN</td>\n",
       "      <td>NaN</td>\n",
       "      <td>NaN</td>\n",
       "      <td>NaN</td>\n",
       "      <td>NaN</td>\n",
       "    </tr>\n",
       "    <tr>\n",
       "      <th>1</th>\n",
       "      <td>1</td>\n",
       "      <td>2</td>\n",
       "      <td>-1</td>\n",
       "      <td>Justice Department Zeroes In On Cuomo's COVID Cover-Up</td>\n",
       "      <td>Justice Department Zeroes In On Cuomo's COVID Cover-Up\\nhttps://www.westernjournal.com/ap-justice-department-zeroes-cuomos-covid-cover/</td>\n",
       "      <td>2.020103e+13</td>\n",
       "      <td>2020-10-29 11:52:15 UTC</td>\n",
       "      <td>eff3c4bd3a114cd69b05786f5dce1dfe</td>\n",
       "      <td>posts</td>\n",
       "      <td>0.0</td>\n",
       "      <td>0.0</td>\n",
       "      <td>9700.0</td>\n",
       "      <td>5600.0</td>\n",
       "      <td>[]</td>\n",
       "      <td>0c4de495eaef430fb6fd8d5dc9be3453</td>\n",
       "      <td>2021-01-10T17:18:28.604038+00:00</td>\n",
       "      <td>['ZUNHN']</td>\n",
       "      <td>728.0</td>\n",
       "      <td>15000.0</td>\n",
       "      <td>0.0</td>\n",
       "      <td>https://parler.com/post/0c4de495eaef430fb6fd8d5dc9be3453</td>\n",
       "      <td>16.0</td>\n",
       "      <td>[{'createdAt': '20201028234744', 'domain': 'westernjournal.com', 'id': 'ZUNHN', 'long': 'https://www.westernjournal.com/ap-justice-department-zeroes-cuomos-covid-cover/', 'metadata': {'length': -1, 'mimeType': 'text/html', 'site': '@WestJournalism'}, 'modified': 'westernjournal.com/ap-justice-department-zeroes-cuomos-covid-cover/', 'short': 'https://api.parler.com/l/ZUNHN', 'state': 'VALID'}]</td>\n",
       "      <td>FordCynthia01</td>\n",
       "      <td>0.0</td>\n",
       "      <td>1.0</td>\n",
       "      <td>678.0</td>\n",
       "      <td>Justice Department Zeroes In On Cuomo's COVID Cover-Up</td>\n",
       "      <td>10.0</td>\n",
       "      <td>4.0</td>\n",
       "      <td>NaN</td>\n",
       "      <td>NaN</td>\n",
       "      <td>NaN</td>\n",
       "      <td>NaN</td>\n",
       "      <td>NaN</td>\n",
       "      <td>NaN</td>\n",
       "      <td>NaN</td>\n",
       "      <td>NaN</td>\n",
       "      <td>NaN</td>\n",
       "      <td>NaN</td>\n",
       "    </tr>\n",
       "    <tr>\n",
       "      <th>2</th>\n",
       "      <td>2</td>\n",
       "      <td>3</td>\n",
       "      <td>-1</td>\n",
       "      <td>Interesting how ultra-liberal, hysterical, Hollywood nut jobs with \"Trump Derangement Syndrome\" have to smoke a joint to be happy. Only through drugs and altering their mental state can they try to experience happiness.</td>\n",
       "      <td>Interesting how ultra-liberal, hysterical, Hollywood nut jobs with \"Trump Derangement Syndrome\" have to smoke a joint to be happy. Only through drugs and altering their mental state can they try to experience happiness.\\nhttps://www.dailymail.co.uk/tvshowbiz/article-8490661/Chelsea-Handler-dons-cannabis-leaf-bikini-smokes-joint-celebration-Independence-Day.html</td>\n",
       "      <td>2.020071e+13</td>\n",
       "      <td>2020-07-05 16:15:00 UTC</td>\n",
       "      <td>81e389f14ce94420a41637214983e592</td>\n",
       "      <td>posts</td>\n",
       "      <td>0.0</td>\n",
       "      <td>0.0</td>\n",
       "      <td>86000.0</td>\n",
       "      <td>27000.0</td>\n",
       "      <td>[]</td>\n",
       "      <td>2f53cc11f5e541309a59cc89802b9c85</td>\n",
       "      <td>2021-01-09T04:37:17.398459+00:00</td>\n",
       "      <td>['DpZjt']</td>\n",
       "      <td>137.0</td>\n",
       "      <td>4300.0</td>\n",
       "      <td>0.0</td>\n",
       "      <td>https://parler.com/post/2f53cc11f5e541309a59cc89802b9c85</td>\n",
       "      <td>52.0</td>\n",
       "      <td>[{'createdAt': '20200705161338', 'domain': 'dailymail.co.uk', 'id': 'DpZjt', 'long': 'https://www.dailymail.co.uk/tvshowbiz/article-8490661/Chelsea-Handler-dons-cannabis-leaf-bikini-smokes-joint-celebration-Independence-Day.html', 'metadata': {'length': 443, 'mimeType': 'text/html'}, 'modified': 'dailymail.co.uk/tvshowbiz/article-8490661/Chelsea-Handler-dons-cannabis-leaf-bikini-smokes-joint-celebration-Independence-Day.html', 'short': 'https://par.pw/l/DpZjt', 'state': 'VALID'}]</td>\n",
       "      <td>realwayneroot</td>\n",
       "      <td>1.0</td>\n",
       "      <td>1.0</td>\n",
       "      <td>4600.0</td>\n",
       "      <td>Interesting how ultra-liberal, hysterical, Hollywood nut jobs with \"Trump Derangement Syndrome\" have to smoke a joint to be happy. Only through drugs and altering their mental state can they try to experience happiness.</td>\n",
       "      <td>33.0</td>\n",
       "      <td>4.0</td>\n",
       "      <td>NaN</td>\n",
       "      <td>NaN</td>\n",
       "      <td>NaN</td>\n",
       "      <td>NaN</td>\n",
       "      <td>NaN</td>\n",
       "      <td>NaN</td>\n",
       "      <td>NaN</td>\n",
       "      <td>NaN</td>\n",
       "      <td>NaN</td>\n",
       "      <td>NaN</td>\n",
       "    </tr>\n",
       "  </tbody>\n",
       "</table>\n",
       "</div>"
      ],
      "text/plain": [
       "   level_0  index  comments  \\\n",
       "0        0      0         2   \n",
       "1        1      2        -1   \n",
       "2        2      3        -1   \n",
       "\n",
       "                                                                                                                                                                                                                                                                                                                                                                  body  \\\n",
       "0  ‪ CHILLS! \\n\\nI loved hearing Airforce Technical SGT. Nalani Quintello singing the National Anthem in front of President Trump & First Lady, Melania Trump & all the fans at #DAYTONA500  \\n\\nA huge shout out to the amazing Thunderbirds for the fly over! \\n\\nThis is the America I Love🇺🇸\\nECHO if you feel the same!\\n@ClintonMichael @Laura @@katthehammer1 ‬   \n",
       "1                                                                                                                                                                                                                                                                                                               Justice Department Zeroes In On Cuomo's COVID Cover-Up   \n",
       "2                                                                                                                                          Interesting how ultra-liberal, hysterical, Hollywood nut jobs with \"Trump Derangement Syndrome\" have to smoke a joint to be happy. Only through drugs and altering their mental state can they try to experience happiness.   \n",
       "\n",
       "                                                                                                                                                                                                                                                                                                                                                                                                                              bodywithurls  \\\n",
       "0  ‪ CHILLS! \\n\\nI loved hearing Airforce Technical SGT. Nalani Quintello singing the National Anthem in front of President Trump & First Lady, Melania Trump & all the fans at #DAYTONA500  \\n\\nA huge shout out to the amazing Thunderbirds for the fly over! \\n\\nThis is the America I Love🇺🇸\\nECHO if you feel the same!\\n@ClintonMichael @Laura @@katthehammer1 ‬\\nhttps://twitter.com/Jamierodr14/status/1229138821654220801/video/1   \n",
       "1                                                                                                                                                                                                                                                                                                  Justice Department Zeroes In On Cuomo's COVID Cover-Up\\nhttps://www.westernjournal.com/ap-justice-department-zeroes-cuomos-covid-cover/   \n",
       "2                                                              Interesting how ultra-liberal, hysterical, Hollywood nut jobs with \"Trump Derangement Syndrome\" have to smoke a joint to be happy. Only through drugs and altering their mental state can they try to experience happiness.\\nhttps://www.dailymail.co.uk/tvshowbiz/article-8490661/Chelsea-Handler-dons-cannabis-leaf-bikini-smokes-joint-celebration-Independence-Day.html   \n",
       "\n",
       "      createdat       createdatformatted                           creator  \\\n",
       "0  2.020022e+13  2020-02-16 23:15:56 UTC  59501f9de23142fdbecee0b6592eb17f   \n",
       "1  2.020103e+13  2020-10-29 11:52:15 UTC  eff3c4bd3a114cd69b05786f5dce1dfe   \n",
       "2  2.020071e+13  2020-07-05 16:15:00 UTC  81e389f14ce94420a41637214983e592   \n",
       "\n",
       "  datatype  depth  depthraw  followers  following        hashtags  \\\n",
       "0    posts    0.0       0.0    12000.0     2900.0  ['daytona500']   \n",
       "1    posts    0.0       0.0     9700.0     5600.0              []   \n",
       "2    posts    0.0       0.0    86000.0    27000.0              []   \n",
       "\n",
       "                                 id                        lastseents  \\\n",
       "0  f2c55d1b981e4e109863cd7b30486a3f  2020-12-14T07:02:54.021284+00:00   \n",
       "1  0c4de495eaef430fb6fd8d5dc9be3453  2021-01-10T17:18:28.604038+00:00   \n",
       "2  2f53cc11f5e541309a59cc89802b9c85  2021-01-09T04:37:17.398459+00:00   \n",
       "\n",
       "       links  media    posts sensitive  \\\n",
       "0  ['SyVr4']    4.0    682.0       0.0   \n",
       "1  ['ZUNHN']  728.0  15000.0       0.0   \n",
       "2  ['DpZjt']  137.0   4300.0       0.0   \n",
       "\n",
       "                                                  sharelink  upvotes  \\\n",
       "0  https://parler.com/post/f2c55d1b981e4e109863cd7b30486a3f     31.0   \n",
       "1  https://parler.com/post/0c4de495eaef430fb6fd8d5dc9be3453     16.0   \n",
       "2  https://parler.com/post/2f53cc11f5e541309a59cc89802b9c85     52.0   \n",
       "\n",
       "                                                                                                                                                                                                                                                                                                                                                                                                                                                                                                   urls  \\\n",
       "0                                                                                                                                                           [{'createdAt': '20200216231414', 'domain': 'twitter.com', 'id': 'SyVr4', 'long': 'https://twitter.com/Jamierodr14/status/1229138821654220801/video/1', 'metadata': {'length': -1, 'mimeType': 'text/html'}, 'modified': 'twitter.com/Jamierodr14/status/1229138821654220801/video/1', 'short': 'https://par.pw/l/SyVr4', 'state': 'VALID'}]   \n",
       "1                                                                                           [{'createdAt': '20201028234744', 'domain': 'westernjournal.com', 'id': 'ZUNHN', 'long': 'https://www.westernjournal.com/ap-justice-department-zeroes-cuomos-covid-cover/', 'metadata': {'length': -1, 'mimeType': 'text/html', 'site': '@WestJournalism'}, 'modified': 'westernjournal.com/ap-justice-department-zeroes-cuomos-covid-cover/', 'short': 'https://api.parler.com/l/ZUNHN', 'state': 'VALID'}]   \n",
       "2  [{'createdAt': '20200705161338', 'domain': 'dailymail.co.uk', 'id': 'DpZjt', 'long': 'https://www.dailymail.co.uk/tvshowbiz/article-8490661/Chelsea-Handler-dons-cannabis-leaf-bikini-smokes-joint-celebration-Independence-Day.html', 'metadata': {'length': 443, 'mimeType': 'text/html'}, 'modified': 'dailymail.co.uk/tvshowbiz/article-8490661/Chelsea-Handler-dons-cannabis-leaf-bikini-smokes-joint-celebration-Independence-Day.html', 'short': 'https://par.pw/l/DpZjt', 'state': 'VALID'}]   \n",
       "\n",
       "        username verified  article  impressions  \\\n",
       "0    Jamierodr14      0.0      0.0       2500.0   \n",
       "1  FordCynthia01      0.0      1.0        678.0   \n",
       "2  realwayneroot      1.0      1.0       4600.0   \n",
       "\n",
       "                                                                                                                                                                                                                                                                                                               preview  \\\n",
       "0  ‪ CHILLS! \\n\\nI loved hearing Airforce Technical SGT. Nalani Quintello singing the National Anthem in front of President Trump & First Lady, Melania Trump & all the fans at #DAYTONA500  \\n\\nA huge shout out to the amazing Thunderbirds for the fly over! \\n\\nThis is the America I Love🇺🇸\\nECHO if you feel the   \n",
       "1                                                                                                                                                                                                                                                               Justice Department Zeroes In On Cuomo's COVID Cover-Up   \n",
       "2                                                                                          Interesting how ultra-liberal, hysterical, Hollywood nut jobs with \"Trump Derangement Syndrome\" have to smoke a joint to be happy. Only through drugs and altering their mental state can they try to experience happiness.   \n",
       "\n",
       "   reposts  state parent color  commentdepth  controversy downvotes post  \\\n",
       "0     16.0    4.0    NaN   NaN           NaN          NaN       NaN  NaN   \n",
       "1     10.0    4.0    NaN   NaN           NaN          NaN       NaN  NaN   \n",
       "2     33.0    4.0    NaN   NaN           NaN          NaN       NaN  NaN   \n",
       "\n",
       "   score  isprimary conversation replyingto  \n",
       "0    NaN        NaN          NaN        NaN  \n",
       "1    NaN        NaN          NaN        NaN  \n",
       "2    NaN        NaN          NaN        NaN  "
      ]
     },
     "execution_count": 3,
     "metadata": {},
     "output_type": "execute_result"
    }
   ],
   "source": [
    "posts.head(3)"
   ]
  },
  {
   "cell_type": "markdown",
   "id": "3308a05a-3388-4ec7-9017-540c8fd8aafa",
   "metadata": {
    "tags": []
   },
   "source": [
    "## Drop columns"
   ]
  },
  {
   "cell_type": "code",
   "execution_count": 293,
   "id": "4642047f-20cf-4fa4-a7cf-734765871bca",
   "metadata": {},
   "outputs": [],
   "source": [
    "df = posts[['body', 'createdatformatted', 'creator', 'id', 'username', 'reposts', 'score']]"
   ]
  },
  {
   "cell_type": "code",
   "execution_count": 294,
   "id": "3f6f771c-1fee-40f3-aa35-275500b858dc",
   "metadata": {},
   "outputs": [
    {
     "data": {
      "text/html": [
       "<div>\n",
       "<style scoped>\n",
       "    .dataframe tbody tr th:only-of-type {\n",
       "        vertical-align: middle;\n",
       "    }\n",
       "\n",
       "    .dataframe tbody tr th {\n",
       "        vertical-align: top;\n",
       "    }\n",
       "\n",
       "    .dataframe thead th {\n",
       "        text-align: right;\n",
       "    }\n",
       "</style>\n",
       "<table border=\"1\" class=\"dataframe\">\n",
       "  <thead>\n",
       "    <tr style=\"text-align: right;\">\n",
       "      <th></th>\n",
       "      <th>body</th>\n",
       "      <th>createdatformatted</th>\n",
       "      <th>creator</th>\n",
       "      <th>id</th>\n",
       "      <th>username</th>\n",
       "      <th>reposts</th>\n",
       "      <th>score</th>\n",
       "    </tr>\n",
       "  </thead>\n",
       "  <tbody>\n",
       "    <tr>\n",
       "      <th>0</th>\n",
       "      <td>‪ CHILLS! \\n\\nI loved hearing Airforce Technical SGT. Nalani Quintello singing the National Anthem in front of President Trump &amp; First Lady, Melania Trump &amp; all the fans at #DAYTONA500  \\n\\nA huge shout out to the amazing Thunderbirds for the fly over! \\n\\nThis is the America I Love🇺🇸\\nECHO if you feel the same!\\n@ClintonMichael @Laura @@katthehammer1 ‬</td>\n",
       "      <td>2020-02-16 23:15:56 UTC</td>\n",
       "      <td>59501f9de23142fdbecee0b6592eb17f</td>\n",
       "      <td>f2c55d1b981e4e109863cd7b30486a3f</td>\n",
       "      <td>Jamierodr14</td>\n",
       "      <td>16.0</td>\n",
       "      <td>NaN</td>\n",
       "    </tr>\n",
       "    <tr>\n",
       "      <th>1</th>\n",
       "      <td>Justice Department Zeroes In On Cuomo's COVID Cover-Up</td>\n",
       "      <td>2020-10-29 11:52:15 UTC</td>\n",
       "      <td>eff3c4bd3a114cd69b05786f5dce1dfe</td>\n",
       "      <td>0c4de495eaef430fb6fd8d5dc9be3453</td>\n",
       "      <td>FordCynthia01</td>\n",
       "      <td>10.0</td>\n",
       "      <td>NaN</td>\n",
       "    </tr>\n",
       "  </tbody>\n",
       "</table>\n",
       "</div>"
      ],
      "text/plain": [
       "                                                                                                                                                                                                                                                                                                                                                                  body  \\\n",
       "0  ‪ CHILLS! \\n\\nI loved hearing Airforce Technical SGT. Nalani Quintello singing the National Anthem in front of President Trump & First Lady, Melania Trump & all the fans at #DAYTONA500  \\n\\nA huge shout out to the amazing Thunderbirds for the fly over! \\n\\nThis is the America I Love🇺🇸\\nECHO if you feel the same!\\n@ClintonMichael @Laura @@katthehammer1 ‬   \n",
       "1                                                                                                                                                                                                                                                                                                               Justice Department Zeroes In On Cuomo's COVID Cover-Up   \n",
       "\n",
       "        createdatformatted                           creator  \\\n",
       "0  2020-02-16 23:15:56 UTC  59501f9de23142fdbecee0b6592eb17f   \n",
       "1  2020-10-29 11:52:15 UTC  eff3c4bd3a114cd69b05786f5dce1dfe   \n",
       "\n",
       "                                 id       username  reposts  score  \n",
       "0  f2c55d1b981e4e109863cd7b30486a3f    Jamierodr14     16.0    NaN  \n",
       "1  0c4de495eaef430fb6fd8d5dc9be3453  FordCynthia01     10.0    NaN  "
      ]
     },
     "execution_count": 294,
     "metadata": {},
     "output_type": "execute_result"
    }
   ],
   "source": [
    "df.head(2)"
   ]
  },
  {
   "cell_type": "code",
   "execution_count": 295,
   "id": "b623eda8-de2d-4a5f-8c1c-93742fb4e028",
   "metadata": {},
   "outputs": [
    {
     "data": {
      "text/plain": [
       "(10197289, 7)"
      ]
     },
     "execution_count": 295,
     "metadata": {},
     "output_type": "execute_result"
    }
   ],
   "source": [
    "df.shape"
   ]
  },
  {
   "cell_type": "markdown",
   "id": "40814d59-f835-47df-ab85-9a6b6b2a5e91",
   "metadata": {
    "tags": []
   },
   "source": [
    "## Clean up text with regex "
   ]
  },
  {
   "cell_type": "code",
   "execution_count": 296,
   "id": "35118d43-6527-4f78-bb70-98b5792a0718",
   "metadata": {},
   "outputs": [
    {
     "name": "stderr",
     "output_type": "stream",
     "text": [
      "/var/folders/tw/90d96q0j6xq841_5j43gdj0c0000gn/T/ipykernel_3945/731953837.py:2: SettingWithCopyWarning: \n",
      "A value is trying to be set on a copy of a slice from a DataFrame.\n",
      "Try using .loc[row_indexer,col_indexer] = value instead\n",
      "\n",
      "See the caveats in the documentation: https://pandas.pydata.org/pandas-docs/stable/user_guide/indexing.html#returning-a-view-versus-a-copy\n",
      "  df['body'] = df['body'].map(lambda x: re.sub(\"\\@[a-zA-Z0-9]*\", ' ', str(x)))\n"
     ]
    }
   ],
   "source": [
    "# remove usernames\n",
    "df['body'] = df['body'].map(lambda x: re.sub(\"\\@[a-zA-Z0-9]*\", ' ', str(x)))"
   ]
  },
  {
   "cell_type": "code",
   "execution_count": 297,
   "id": "374c7912-f8cb-4b02-b86b-7555118f9580",
   "metadata": {},
   "outputs": [
    {
     "name": "stderr",
     "output_type": "stream",
     "text": [
      "/var/folders/tw/90d96q0j6xq841_5j43gdj0c0000gn/T/ipykernel_3945/3229159033.py:2: SettingWithCopyWarning: \n",
      "A value is trying to be set on a copy of a slice from a DataFrame.\n",
      "Try using .loc[row_indexer,col_indexer] = value instead\n",
      "\n",
      "See the caveats in the documentation: https://pandas.pydata.org/pandas-docs/stable/user_guide/indexing.html#returning-a-view-versus-a-copy\n",
      "  df['body'] = df['body'].map(lambda x: re.sub(\"\\n|\\r|&amp;#x200B;|&amp;\", ' ', str(x)))\n"
     ]
    }
   ],
   "source": [
    "# remove new lines characters and html artifacts\n",
    "df['body'] = df['body'].map(lambda x: re.sub(\"\\n|\\r|&amp;#x200B;|&amp;\", ' ', str(x)))"
   ]
  },
  {
   "cell_type": "code",
   "execution_count": 298,
   "id": "fede25da-3158-4f98-8819-2ec660398a5d",
   "metadata": {},
   "outputs": [
    {
     "name": "stderr",
     "output_type": "stream",
     "text": [
      "/var/folders/tw/90d96q0j6xq841_5j43gdj0c0000gn/T/ipykernel_3945/4267946223.py:3: SettingWithCopyWarning: \n",
      "A value is trying to be set on a copy of a slice from a DataFrame.\n",
      "Try using .loc[row_indexer,col_indexer] = value instead\n",
      "\n",
      "See the caveats in the documentation: https://pandas.pydata.org/pandas-docs/stable/user_guide/indexing.html#returning-a-view-versus-a-copy\n",
      "  df['body'] = df['body'].map(lambda x: re.sub(\"[^\\u0000-\\u05C0\\u2100-\\u214F]+\", ' ', str(x).strip()))\n"
     ]
    }
   ],
   "source": [
    "# remove non ascii characters; ommits emojis, ommits arabic \n",
    "# regex from https://stackoverflow.com/questions/61721443/how-to-remove-or-filter-non-english-chinese-korean-japanese-arabic-strings\n",
    "df['body'] = df['body'].map(lambda x: re.sub(\"[^\\u0000-\\u05C0\\u2100-\\u214F]+\", ' ', str(x).strip()))"
   ]
  },
  {
   "cell_type": "code",
   "execution_count": 299,
   "id": "420ad2e3-1b08-4f72-bc43-620a0f4290e2",
   "metadata": {},
   "outputs": [
    {
     "data": {
      "text/plain": [
       "(10197289, 7)"
      ]
     },
     "execution_count": 299,
     "metadata": {},
     "output_type": "execute_result"
    }
   ],
   "source": [
    "df.shape"
   ]
  },
  {
   "cell_type": "code",
   "execution_count": 300,
   "id": "2503b493-2eb9-48b2-b472-976f51567155",
   "metadata": {},
   "outputs": [],
   "source": [
    "regexed = df"
   ]
  },
  {
   "cell_type": "code",
   "execution_count": 301,
   "id": "e6ffc09e-aad8-4309-b75d-d0d1b597914e",
   "metadata": {},
   "outputs": [],
   "source": [
    "# drop empty rows (had either emojis or arabic)\n",
    "df = df.loc[df['body'] != ' ']\n",
    "df = df.loc[df['body'] != '']"
   ]
  },
  {
   "cell_type": "code",
   "execution_count": 302,
   "id": "f4b45980-8dfc-4f33-81e6-51fbf2f70ee2",
   "metadata": {},
   "outputs": [
    {
     "data": {
      "text/html": [
       "<div>\n",
       "<style scoped>\n",
       "    .dataframe tbody tr th:only-of-type {\n",
       "        vertical-align: middle;\n",
       "    }\n",
       "\n",
       "    .dataframe tbody tr th {\n",
       "        vertical-align: top;\n",
       "    }\n",
       "\n",
       "    .dataframe thead th {\n",
       "        text-align: right;\n",
       "    }\n",
       "</style>\n",
       "<table border=\"1\" class=\"dataframe\">\n",
       "  <thead>\n",
       "    <tr style=\"text-align: right;\">\n",
       "      <th></th>\n",
       "      <th>body</th>\n",
       "      <th>createdatformatted</th>\n",
       "      <th>creator</th>\n",
       "      <th>id</th>\n",
       "      <th>username</th>\n",
       "      <th>reposts</th>\n",
       "      <th>score</th>\n",
       "    </tr>\n",
       "  </thead>\n",
       "  <tbody>\n",
       "  </tbody>\n",
       "</table>\n",
       "</div>"
      ],
      "text/plain": [
       "Empty DataFrame\n",
       "Columns: [body, createdatformatted, creator, id, username, reposts, score]\n",
       "Index: []"
      ]
     },
     "execution_count": 302,
     "metadata": {},
     "output_type": "execute_result"
    }
   ],
   "source": [
    "df.loc[df['body'] == ' ']"
   ]
  },
  {
   "cell_type": "code",
   "execution_count": 303,
   "id": "8a033865-0a7b-400b-9e4c-efd87e228cdd",
   "metadata": {},
   "outputs": [
    {
     "data": {
      "text/plain": [
       "(9913831, 7)"
      ]
     },
     "execution_count": 303,
     "metadata": {},
     "output_type": "execute_result"
    }
   ],
   "source": [
    "df.shape"
   ]
  },
  {
   "cell_type": "code",
   "execution_count": 242,
   "id": "302be1e6-f99e-4456-8771-44426a6beed4",
   "metadata": {},
   "outputs": [],
   "source": [
    "# arabic_examples"
   ]
  },
  {
   "cell_type": "code",
   "execution_count": 304,
   "id": "40ff67ca-10d3-4932-a675-9370b64dac00",
   "metadata": {},
   "outputs": [
    {
     "data": {
      "text/plain": [
       "body                   0.000000\n",
       "createdatformatted     0.000000\n",
       "creator                0.000000\n",
       "id                     0.000000\n",
       "username               0.000131\n",
       "score                 22.503864\n",
       "reposts               77.496136\n",
       "dtype: float64"
      ]
     },
     "execution_count": 304,
     "metadata": {},
     "output_type": "execute_result"
    }
   ],
   "source": [
    "(df.isna().sum()/len(df) * 100).sort_values()"
   ]
  },
  {
   "cell_type": "code",
   "execution_count": 305,
   "id": "e7bf6b32-dfbc-4bc0-a5e3-e3b24876e41d",
   "metadata": {},
   "outputs": [],
   "source": [
    "# drop rows with null usernames with null values or blanks \n",
    "df = df.loc[df['username'].isna() == False]"
   ]
  },
  {
   "cell_type": "code",
   "execution_count": 306,
   "id": "47a51d91-5d7a-42e3-85f9-ed18e21a4151",
   "metadata": {},
   "outputs": [
    {
     "data": {
      "text/html": [
       "<div>\n",
       "<style scoped>\n",
       "    .dataframe tbody tr th:only-of-type {\n",
       "        vertical-align: middle;\n",
       "    }\n",
       "\n",
       "    .dataframe tbody tr th {\n",
       "        vertical-align: top;\n",
       "    }\n",
       "\n",
       "    .dataframe thead th {\n",
       "        text-align: right;\n",
       "    }\n",
       "</style>\n",
       "<table border=\"1\" class=\"dataframe\">\n",
       "  <thead>\n",
       "    <tr style=\"text-align: right;\">\n",
       "      <th></th>\n",
       "      <th>body</th>\n",
       "      <th>createdatformatted</th>\n",
       "      <th>creator</th>\n",
       "      <th>id</th>\n",
       "      <th>username</th>\n",
       "      <th>reposts</th>\n",
       "      <th>score</th>\n",
       "    </tr>\n",
       "  </thead>\n",
       "  <tbody>\n",
       "  </tbody>\n",
       "</table>\n",
       "</div>"
      ],
      "text/plain": [
       "Empty DataFrame\n",
       "Columns: [body, createdatformatted, creator, id, username, reposts, score]\n",
       "Index: []"
      ]
     },
     "execution_count": 306,
     "metadata": {},
     "output_type": "execute_result"
    }
   ],
   "source": [
    "df.loc[df['username'] == ' ']"
   ]
  },
  {
   "cell_type": "code",
   "execution_count": 307,
   "id": "0cd2796f-2ff8-4b68-861d-073404188f0f",
   "metadata": {},
   "outputs": [
    {
     "data": {
      "text/plain": [
       "(9913818, 7)"
      ]
     },
     "execution_count": 307,
     "metadata": {},
     "output_type": "execute_result"
    }
   ],
   "source": [
    "df.shape"
   ]
  },
  {
   "cell_type": "code",
   "execution_count": 308,
   "id": "7a18f7a3-f492-4756-b844-3550f392241f",
   "metadata": {},
   "outputs": [],
   "source": [
    "cleaned_df = df"
   ]
  },
  {
   "cell_type": "markdown",
   "id": "37d31141-51db-42d1-ac0b-830ca9c6b745",
   "metadata": {},
   "source": [
    "## Create transposed table with creator, body text, timestamp "
   ]
  },
  {
   "cell_type": "code",
   "execution_count": 309,
   "id": "72ce11cc-203f-4872-8044-56466772cb91",
   "metadata": {},
   "outputs": [],
   "source": [
    "users_posts = df[['body', 'username']]"
   ]
  },
  {
   "cell_type": "code",
   "execution_count": 310,
   "id": "c7704945-e575-494d-95ca-3d179974c44a",
   "metadata": {},
   "outputs": [
    {
     "data": {
      "text/plain": [
       "(9913818, 2)"
      ]
     },
     "execution_count": 310,
     "metadata": {},
     "output_type": "execute_result"
    }
   ],
   "source": [
    "users_posts.shape"
   ]
  },
  {
   "cell_type": "code",
   "execution_count": 311,
   "id": "7b3db4f2-95d6-420d-bbae-312f5734bc7b",
   "metadata": {},
   "outputs": [
    {
     "data": {
      "text/plain": [
       "91q                    3106\n",
       "Cobrarick98            3202\n",
       "TTexasRepublic         3297\n",
       "Simonbrennen           3305\n",
       "moon52                 3409\n",
       "robertleon             3568\n",
       "GaryADePietro          3680\n",
       "Oldmanrant             3980\n",
       "doutingthomas1         4246\n",
       "chucknellis            4477\n",
       "ThomasFox              4538\n",
       "Gayle7753              4664\n",
       "KimberlyHumphreys      4911\n",
       "Mikewin                4985\n",
       "LibertyElaine          5417\n",
       "Klonokid               5613\n",
       "Blackshoe             14855\n",
       "RadianceLux           19681\n",
       "EliseRhodes           52722\n",
       "jenniev101            55442\n",
       "TeamTrump             83113\n",
       "WashTimesOpEd        140384\n",
       "JoePags              142810\n",
       "ronpaul              155593\n",
       "John                 176690\n",
       "Name: username, dtype: int64"
      ]
     },
     "execution_count": 311,
     "metadata": {},
     "output_type": "execute_result"
    }
   ],
   "source": [
    "users_posts['username'].value_counts().sort_values().tail(25)"
   ]
  },
  {
   "cell_type": "code",
   "execution_count": 312,
   "id": "fbdd8753-693f-4951-9773-f5c1f0c223cf",
   "metadata": {},
   "outputs": [],
   "source": [
    "top_posters = ['TTexasRepublic', 'GaryADePietro', 'robertleon', 'moon52', 'Oldmanrant', 'ThomasFox', 'Gayle7753', 'chucknellis', 'doutingthomas1', 'Mikewin', 'KimberlyHumphreys', 'Klonokid', 'LibertyElaine', 'Blackshoe', 'RadianceLux', 'EliseRhodes', 'jenniev101', 'TeamTrump', 'WashTimesOpEd', 'JoePags', 'ronpaul', 'John']"
   ]
  },
  {
   "cell_type": "code",
   "execution_count": 253,
   "id": "4779728c-6c8f-4d1d-bbbc-f44d40686047",
   "metadata": {},
   "outputs": [
    {
     "name": "stdout",
     "output_type": "stream",
     "text": [
      "TTexasRepublic\n",
      "body                                                                                                     username      \n",
      "Senior Appointee Tests Positive for Coronavirus After Attending Parking Lot Rally in Georgia with Biden  TTexasRepublic    2\n",
      " #WhiteHouse                                                                                             TTexasRepublic    3\n",
      "dtype: int64\n",
      "\n",
      "GaryADePietro\n",
      "body            username     \n",
      "From WWR        GaryADePietro    7\n",
      "From dnajlion7  GaryADePietro    9\n",
      "dtype: int64\n",
      "\n",
      "robertleon\n",
      "body                                                                                                                                                                                                                                                                                                                                                                                                                                                                                                                                                                                                                                                                                                                                                                                                                                                                                                                                                                                                                                                                                                                                                                                                                                                                                             username  \n",
      "                                                                                                                                                                                                                                                                                                                                                                                                                                                                                                                                                                                                                                                                                                                                                                                                                                                                                                                                                                                                                                                                                                                                                                                                                                                                                                 robertleon      52\n",
      "Hello and welcome aboard to Parler! Just wanted to share with you a few Parler pro tips really quick: 1. Comment, comment, comment. Don t just upvote. As we say around here,  The gold is in the comments.  You can click on a particular user s  comments  link just under their profile photo. 2. Do NOT follow other users just because they follow you. Get to know them first. Check out their posts. If they engage with you repeatedly or produce really good content that you like, then follow them. You want to build a  mini-community,  sort of like a bubble of friends on the platform who you interact with regularly. 3. This is a free speech platform. Many new users mistakenly believe its a  conservative  platform, but that s just because there are a lot of conservatives on here that got burned by Big Tech. It s okay to meet people and friend them even if they disagree with you. 4. You can parlay however you want and all, but my recommendation is to avoid posting only political content. Even if that s important to you, it can get old fast. Make friends. Share your other interests. Gardening, food & cooking, football whatever you do to have fun! And if you have any questions, please don t hesitate to ask me! All Best, Rob #ParlerConcierge  robertleon    2489\n",
      "dtype: int64\n",
      "\n",
      "moon52\n",
      "body         username\n",
      "YVW Patriot  moon52      142\n",
      "             moon52      305\n",
      "dtype: int64\n",
      "\n",
      "Oldmanrant\n",
      "body                                                     username  \n",
      "#News #Justice #Freedom #Sovereignty                     Oldmanrant    1248\n",
      "#News #Justice #TheGreatAwakening #Freedom #Sovereignty  Oldmanrant    1377\n",
      "dtype: int64\n",
      "\n",
      "ThomasFox\n",
      "body            username \n",
      "POTUS   FLOTUS  ThomasFox     4\n",
      "                ThomasFox    39\n",
      "dtype: int64\n",
      "\n",
      "Gayle7753\n",
      "body      username \n",
      "Spot on!  Gayle7753     3\n",
      "          Gayle7753    48\n",
      "dtype: int64\n",
      "\n",
      "chucknellis\n",
      "body  username   \n",
      "Amen  chucknellis     30\n",
      "      chucknellis    272\n",
      "dtype: int64\n",
      "\n",
      "doutingthomas1\n",
      "body  username      \n",
      "Tap   doutingthomas1     15\n",
      "      doutingthomas1    554\n",
      "dtype: int64\n",
      "\n",
      "Mikewin\n",
      "body   username\n",
      "       Mikewin     34\n",
      "       Mikewin     38\n",
      "dtype: int64\n",
      "\n",
      "KimberlyHumphreys\n",
      "body                                                                                                                                                                                              username         \n",
      "                                                                                                                                                                                                  KimberlyHumphreys     107\n",
      "Welcome to the best social media platform on the planet! So glad you're here. Check out the hashtag #parlerconcierge to learn the ropes, and if you have any questions, don't hesitate to ask.    KimberlyHumphreys    4078\n",
      "dtype: int64\n",
      "\n",
      "Klonokid\n",
      "body                                                     username\n",
      "Tracking coronavirus: Map, data and timeline - BNO News  Klonokid    5\n",
      "Worldometer - real time world statistics                 Klonokid    5\n",
      "dtype: int64\n",
      "\n",
      "LibertyElaine\n",
      "body  username     \n",
      "AMEN  LibertyElaine     29\n",
      "      LibertyElaine    170\n",
      "dtype: int64\n",
      "\n",
      "Blackshoe\n",
      "body                                                                                                                               username \n",
      "                                                                                                                                   Blackshoe       26\n",
      "Welcome to Parler. Hope you enjoy your new found freedom. Have fun, interact and enjoy. #newuser #truefreespeech #parlerconcierge  Blackshoe    14141\n",
      "dtype: int64\n",
      "\n",
      "RadianceLux\n",
      "body                                                                         username   \n",
      "                                                                             RadianceLux        5\n",
      "Welcome to Freedom! Let me know if you have any questions! #parlerconcierge  RadianceLux    19520\n",
      "dtype: int64\n",
      "\n",
      "EliseRhodes\n",
      "body                                                                                                                                                                                     username   \n",
      "Welcome to Parler!                                                                                                                                                                       EliseRhodes     7741\n",
      "Welcome to Parler. The first step towards taking back your voice. Thrilled to have you join our growing community! Share with your family & friends. Let s have some fun. Let's Parley!  EliseRhodes    44929\n",
      "dtype: int64\n",
      "\n",
      "jenniev101\n",
      "body                                                                                                                                                                                                                                       username  \n",
      "                                                                                                                                                                                                                                           jenniev101      131\n",
      "You made it! Congratulations on choosing Parler, the free speech platform. I'm here to help you navigate the app, answer any questions, and ensure you have the best Parler experience. Puedo ayudar en Español también! #parlerconcierge  jenniev101    51316\n",
      "dtype: int64\n",
      "\n",
      "TeamTrump\n",
      "body                                                                                                             username \n",
      "If you haven't downloaded this app, you are totally missing out.   Text APP to 88022 now to download!            TeamTrump        6\n",
      "Welcome to Parler! Help us MAKE AMERICA GREAT AGAIN by clicking the link below. Be sure to text TRUMP to 88022!  TeamTrump    83023\n",
      "dtype: int64\n",
      "\n",
      "WashTimesOpEd\n",
      "body                                                                                                                                       username     \n",
      "Tom Magness:  Unless Court reverses a Montana lower court ruling, many oil and gas pipeline projects will come to a halt.  #WashTimesOpEd  WashTimesOpEd         1\n",
      "Welcome. Great to have you. Follow us for your favorite commentary.                                                                        WashTimesOpEd    140185\n",
      "dtype: int64\n",
      "\n",
      "JoePags\n",
      "body                                                                                                                                                                                                        username\n",
      "This...                                                                                                                                                                                                     JoePags          2\n",
      "Glad to see you here on Parler where free speech is actually alive and well. Looking forward to mixing it up with you here and keeping the truth alive in the face of the constant bias we face. Let's Go!  JoePags     142655\n",
      "dtype: int64\n",
      "\n",
      "ronpaul\n",
      "body                                                                                                                                                                                                                                                                                                                                                                                                                                                                                                                                        username\n",
      "The daily death count has morphed into the daily \"new case\" count, as 100,000 tests a day have exploded into 700,000 tests. Is it a wonder cases are increasing? But what they don't dare mention is that deaths and even the death rate continue to decline. In fact the CDC warns that Covid is at the stage where it cannot even be classified an epidemic due to declining deaths. Still, more masks are required and petty dictators all around are calling for a return to lockdown. Can the truth ever be heard above all the lies?  ronpaul          1\n",
      "I've spent my adult life fighting for Liberty, and I am excited about this new space where I can openly share my work with special people like you.  Parler accepts your right to express your thoughts, opinions and ideals online. No  throttling.  No shadow banning. Just Free Speech our God-given, Constitutional Right.                                                                                                                                                                                                              ronpaul     155536\n",
      "dtype: int64\n",
      "\n",
      "John\n",
      "body                                                                                                                                                                                                username\n",
      "Welcome to Parler. I will see you in the comments. Please leave a review on the app stores and share with your friends!                                                                             John         23927\n",
      "Welcome! For people looking for Parler tips and how tos Check out   or the Parler Youtube page. The videos are in both places. There is also a Parler101 channel which has some good data as well.  John        152063\n",
      "dtype: int64\n",
      "\n"
     ]
    }
   ],
   "source": [
    "for each in top_posters:\n",
    "    print(each)\n",
    "    print(users_posts.loc[users_posts['username'] == each].value_counts().sort_values().tail(2))\n",
    "    print()"
   ]
  },
  {
   "cell_type": "markdown",
   "id": "96487dda-926a-4065-a06d-59a253c79ab3",
   "metadata": {},
   "source": [
    "## Remove posts from welcome bots\n",
    "- Welcome to Parler\n",
    "- #parlerconcierge \n",
    "- #ParlerConcierge \n",
    "\n",
    "Team trump is a bot but not associated with Parler - removing the welcome posts but not the account "
   ]
  },
  {
   "cell_type": "code",
   "execution_count": 313,
   "id": "a4e118a5-3026-442a-8f47-f962ce0343fe",
   "metadata": {
    "tags": []
   },
   "outputs": [],
   "source": [
    "concierge_bots = ['John', 'ronpaul', 'JoePags', 'WashTimesOpEd', 'LibertyElaine', 'blackshoe', 'radiancelux', 'eliserhodes', 'jenniev101', 'KimberlyHumphreys']"
   ]
  },
  {
   "cell_type": "code",
   "execution_count": 314,
   "id": "0f4b460e-33d1-4eb1-ac6a-9099034f1eb2",
   "metadata": {},
   "outputs": [
    {
     "data": {
      "text/plain": [
       "9913818"
      ]
     },
     "execution_count": 314,
     "metadata": {},
     "output_type": "execute_result"
    }
   ],
   "source": [
    "len(df)"
   ]
  },
  {
   "cell_type": "code",
   "execution_count": 315,
   "id": "fc0c5cec-0f4b-445f-b887-328619ee437e",
   "metadata": {},
   "outputs": [],
   "source": [
    "df = df.loc[~df['username'].isin(concierge_bots)]"
   ]
  },
  {
   "cell_type": "code",
   "execution_count": 316,
   "id": "3cc9893d-bdfb-4497-ac4a-a9d2275e6e43",
   "metadata": {},
   "outputs": [
    {
     "data": {
      "text/plain": [
       "9232571"
      ]
     },
     "execution_count": 316,
     "metadata": {},
     "output_type": "execute_result"
    }
   ],
   "source": [
    "without_bots = len(df)\n",
    "without_bots"
   ]
  },
  {
   "cell_type": "code",
   "execution_count": 317,
   "id": "51cacc5a-785c-473d-9227-5b49c570e7c2",
   "metadata": {},
   "outputs": [],
   "source": [
    "df = df[df['body'].str.contains('Welcome to Parler') == False]"
   ]
  },
  {
   "cell_type": "code",
   "execution_count": 318,
   "id": "58b3ce10-496e-4efc-902a-ce360a6509ea",
   "metadata": {},
   "outputs": [
    {
     "data": {
      "text/plain": [
       "9076920"
      ]
     },
     "execution_count": 318,
     "metadata": {},
     "output_type": "execute_result"
    }
   ],
   "source": [
    "without_welcometoparler = len(df)\n",
    "without_welcometoparler"
   ]
  },
  {
   "cell_type": "code",
   "execution_count": 319,
   "id": "ec94de48-a1f4-4538-9f4e-989be6904231",
   "metadata": {},
   "outputs": [],
   "source": [
    "df = df[df['body'].str.contains('#parlerconcierge') == False]"
   ]
  },
  {
   "cell_type": "code",
   "execution_count": 320,
   "id": "dc2d45e9-182f-4a3d-8a5a-68c1526d2650",
   "metadata": {},
   "outputs": [],
   "source": [
    "df = df[df['body'].str.contains('#ParlerConcierge') == False]"
   ]
  },
  {
   "cell_type": "code",
   "execution_count": 321,
   "id": "443dabb6-5e8d-485a-a654-524e970804d9",
   "metadata": {},
   "outputs": [
    {
     "data": {
      "text/plain": [
       "9054139"
      ]
     },
     "execution_count": 321,
     "metadata": {},
     "output_type": "execute_result"
    }
   ],
   "source": [
    "without_parlerconcierge = len(df)\n",
    "without_parlerconcierge"
   ]
  },
  {
   "cell_type": "markdown",
   "id": "64701ac8-5a65-4e93-81ad-680e346a51ca",
   "metadata": {},
   "source": [
    "## Combine tweets for each user "
   ]
  },
  {
   "cell_type": "code",
   "execution_count": 322,
   "id": "0592acbf-8568-4dba-a729-330b71f1349e",
   "metadata": {},
   "outputs": [],
   "source": [
    "users_posts = df[['body', 'username']]"
   ]
  },
  {
   "cell_type": "code",
   "execution_count": 323,
   "id": "d2b27993-fbec-41b9-949b-170a05f6fdfc",
   "metadata": {},
   "outputs": [],
   "source": [
    "# code for combing rows https://stackoverflow.com/questions/36392735/how-to-combine-multiple-rows-into-a-single-row-with-pandas\n",
    "combined_posts = users_posts.groupby('username')['body'].apply(' '.join).reset_index()"
   ]
  },
  {
   "cell_type": "code",
   "execution_count": 324,
   "id": "e8dcb941-ae46-4436-8f32-9b8238eb879f",
   "metadata": {},
   "outputs": [
    {
     "data": {
      "text/html": [
       "<div>\n",
       "<style scoped>\n",
       "    .dataframe tbody tr th:only-of-type {\n",
       "        vertical-align: middle;\n",
       "    }\n",
       "\n",
       "    .dataframe tbody tr th {\n",
       "        vertical-align: top;\n",
       "    }\n",
       "\n",
       "    .dataframe thead th {\n",
       "        text-align: right;\n",
       "    }\n",
       "</style>\n",
       "<table border=\"1\" class=\"dataframe\">\n",
       "  <thead>\n",
       "    <tr style=\"text-align: right;\">\n",
       "      <th></th>\n",
       "      <th>username</th>\n",
       "      <th>body</th>\n",
       "    </tr>\n",
       "  </thead>\n",
       "  <tbody>\n",
       "    <tr>\n",
       "      <th>0</th>\n",
       "      <td>%</td>\n",
       "      <td></td>\n",
       "    </tr>\n",
       "    <tr>\n",
       "      <th>1</th>\n",
       "      <td>+A</td>\n",
       "      <td>Lol</td>\n",
       "    </tr>\n",
       "    <tr>\n",
       "      <th>2</th>\n",
       "      <td>----</td>\n",
       "      <td></td>\n",
       "    </tr>\n",
       "    <tr>\n",
       "      <th>3</th>\n",
       "      <td>-generaldebellis</td>\n",
       "      <td>Florida loves our Great Governor DeSantis Flip Flop Biden weak, useless creepy FLOTUS Trump the smartest and most beautiful 1st lady in US History #BeBest Trump 2020 Glock ! Cher is a dirty waste water flush her and her filth out. Cher does not know or understand our Great President Trump Trump 2020 Paul Ryan is a disgrace to our Great Country  Definitely a scum bag  Investigate Raul Ryan #fraud, liar criminal AG Barr #hero</td>\n",
       "    </tr>\n",
       "    <tr>\n",
       "      <th>4</th>\n",
       "      <td>.+</td>\n",
       "      <td>...      !!                                       +                 &gt;     -̈  ..                                                                   !!                           -̈                                     ..</td>\n",
       "    </tr>\n",
       "    <tr>\n",
       "      <th>5</th>\n",
       "      <td>.0</td>\n",
       "      <td></td>\n",
       "    </tr>\n",
       "    <tr>\n",
       "      <th>6</th>\n",
       "      <td>.Dileojoan</td>\n",
       "      <td>Trump will know now who is loyal. What were the remarks! I often wished Then gone. Amen Trump will prevail and win this election</td>\n",
       "    </tr>\n",
       "    <tr>\n",
       "      <th>7</th>\n",
       "      <td>.E</td>\n",
       "      <td>Hi</td>\n",
       "    </tr>\n",
       "    <tr>\n",
       "      <th>8</th>\n",
       "      <td>.K</td>\n",
       "      <td></td>\n",
       "    </tr>\n",
       "    <tr>\n",
       "      <th>9</th>\n",
       "      <td>.M</td>\n",
       "      <td>-                                          #ksa #parler  #parlerksa #3rb                      .                                  : #ksa #SaudiParler #parlerksa                                                    #ParlerKSA #SaudiParler #Arabic #Arab #saudi #riyadh #jeddah #mecca #dammam #trend #SaudiArabia #Ksa #ParlerKSA #KSA         : #parlerksa          :                             :      #parlerksa             :                   :  #parlerksa         #saudiparler #parlerksa #ksa #riyadh...</td>\n",
       "    </tr>\n",
       "  </tbody>\n",
       "</table>\n",
       "</div>"
      ],
      "text/plain": [
       "           username  \\\n",
       "0                 %   \n",
       "1                +A   \n",
       "2              ----   \n",
       "3  -generaldebellis   \n",
       "4                .+   \n",
       "5                .0   \n",
       "6        .Dileojoan   \n",
       "7                .E   \n",
       "8                .K   \n",
       "9                .M   \n",
       "\n",
       "                                                                                                                                                                                                                                                                                                                                                                                                                                                                                                                  body  \n",
       "0                                                                                                                                                                                                                                                                                                                                                                                                                                                                                                                       \n",
       "1                                                                                                                                                                                                                                                                                                                                                                                                                                                                                                                  Lol  \n",
       "2                                                                                                                                                                                                                                                                                                                                                                                                                                                                                                                       \n",
       "3                                                                          Florida loves our Great Governor DeSantis Flip Flop Biden weak, useless creepy FLOTUS Trump the smartest and most beautiful 1st lady in US History #BeBest Trump 2020 Glock ! Cher is a dirty waste water flush her and her filth out. Cher does not know or understand our Great President Trump Trump 2020 Paul Ryan is a disgrace to our Great Country  Definitely a scum bag  Investigate Raul Ryan #fraud, liar criminal AG Barr #hero  \n",
       "4                                                                                                                                                                                                                                                                                ...      !!                                       +                 >     -̈  ..                                                                   !!                           -̈                                     ..              \n",
       "5                                                                                                                                                                                                                                                                                                                                                                                                                                                                                                                       \n",
       "6                                                                                                                                                                                                                                                                                                                                                                                     Trump will know now who is loyal. What were the remarks! I often wished Then gone. Amen Trump will prevail and win this election  \n",
       "7                                                                                                                                                                                                                                                                                                                                                                                                                                                                                                                  Hi   \n",
       "8                                                                                                                                                                                                                                                                                                                                                                                                                                                                                                                       \n",
       "9  -                                          #ksa #parler  #parlerksa #3rb                      .                                  : #ksa #SaudiParler #parlerksa                                                    #ParlerKSA #SaudiParler #Arabic #Arab #saudi #riyadh #jeddah #mecca #dammam #trend #SaudiArabia #Ksa #ParlerKSA #KSA         : #parlerksa          :                             :      #parlerksa             :                   :  #parlerksa         #saudiparler #parlerksa #ksa #riyadh...  "
      ]
     },
     "execution_count": 324,
     "metadata": {},
     "output_type": "execute_result"
    }
   ],
   "source": [
    "combined_posts.head(10)"
   ]
  },
  {
   "cell_type": "code",
   "execution_count": 201,
   "id": "26b95104-d8e9-424f-889b-4043bf6f98d7",
   "metadata": {},
   "outputs": [],
   "source": [
    "# arabic_examples = combined_posts.head(10)"
   ]
  },
  {
   "cell_type": "code",
   "execution_count": 325,
   "id": "2487d793-a772-4ad2-a992-738f84760d4f",
   "metadata": {},
   "outputs": [
    {
     "data": {
      "text/html": [
       "<div>\n",
       "<style scoped>\n",
       "    .dataframe tbody tr th:only-of-type {\n",
       "        vertical-align: middle;\n",
       "    }\n",
       "\n",
       "    .dataframe tbody tr th {\n",
       "        vertical-align: top;\n",
       "    }\n",
       "\n",
       "    .dataframe thead th {\n",
       "        text-align: right;\n",
       "    }\n",
       "</style>\n",
       "<table border=\"1\" class=\"dataframe\">\n",
       "  <thead>\n",
       "    <tr style=\"text-align: right;\">\n",
       "      <th></th>\n",
       "      <th>username</th>\n",
       "      <th>body</th>\n",
       "    </tr>\n",
       "  </thead>\n",
       "  <tbody>\n",
       "    <tr>\n",
       "      <th>683032</th>\n",
       "      <td>Mflounders</td>\n",
       "      <td>Funny</td>\n",
       "    </tr>\n",
       "    <tr>\n",
       "      <th>786614</th>\n",
       "      <td>Pcarole139</td>\n",
       "      <td>Govt just printing money. Borrowing from us. #welovedonaldtrump   Good for Trump!! He gets flack for calling a spade a spade, even from his own people often times. When he does though, he s shedding light on their very illegal and dark plan s for America. Trump loves America and Americans!!!   Well said Well I hope to hell they got no raise. Grrrrrr Of course Sad the lengths the Left will go to, to hide the truth from the American people  #votetrump2020   Love Ben Carson.   Awesome. Can t ge...</td>\n",
       "    </tr>\n",
       "    <tr>\n",
       "      <th>758946</th>\n",
       "      <td>OffDutyAZ</td>\n",
       "      <td>I like that Curly.</td>\n",
       "    </tr>\n",
       "    <tr>\n",
       "      <th>372257</th>\n",
       "      <td>Gmlgop</td>\n",
       "      <td>This shows that congressional democrats are scum. nancy pelosi herself is scum at a higher level. I just joined Parler! Looking forward to meeting everyone here.</td>\n",
       "    </tr>\n",
       "    <tr>\n",
       "      <th>747399</th>\n",
       "      <td>NilNeves123</td>\n",
       "      <td>Olá Essa pilantra não tem nenhuma punição</td>\n",
       "    </tr>\n",
       "    <tr>\n",
       "      <th>610658</th>\n",
       "      <td>Litezridin</td>\n",
       "      <td>Book Her Dano!!!</td>\n",
       "    </tr>\n",
       "    <tr>\n",
       "      <th>425236</th>\n",
       "      <td>IrishPatriot33</td>\n",
       "      <td>No we know why the Dems are stuck running with Joe this fall.</td>\n",
       "    </tr>\n",
       "    <tr>\n",
       "      <th>42580</th>\n",
       "      <td>AmericanBushtit</td>\n",
       "      <td>Hey Gavin. Can we be friends? Antifa are like mosquitoes. There are a lot of them, but alone, they are weak and easy to crush.</td>\n",
       "    </tr>\n",
       "    <tr>\n",
       "      <th>589613</th>\n",
       "      <td>Layman</td>\n",
       "      <td>That s why all those who know him call him Donnie Dooshnozzle behind his back... Yeah, they don t remember the kneecapping..,, So you disagree that libs are emotional thinkers? You are s Patriot! The problem is Republicans won t fight like democrats... republicans aren t street fighters, you can t use ring rules when you fight a street fighter that has no boundaries.... Kicking, biting, eye gouging, spitting, back stabbing street fighters need to be dealt with using the same tactics they use...</td>\n",
       "    </tr>\n",
       "    <tr>\n",
       "      <th>599692</th>\n",
       "      <td>Lgk54</td>\n",
       "      <td>It doesn t matter ! Spread the info to everyone! Wa State is there! Absolutely ridiculous! Full time masks, they want us to wear cloth! Talk about  I Can t Breath</td>\n",
       "    </tr>\n",
       "    <tr>\n",
       "      <th>987556</th>\n",
       "      <td>Tarrcat</td>\n",
       "      <td>Hannity might be another exception...</td>\n",
       "    </tr>\n",
       "    <tr>\n",
       "      <th>668297</th>\n",
       "      <td>MaximusArtorius</td>\n",
       "      <td>Today is the last day to get free stock!  Join Robinhood with my link and we'll both get a gift stock for the holidays!</td>\n",
       "    </tr>\n",
       "    <tr>\n",
       "      <th>276150</th>\n",
       "      <td>Dmcwally</td>\n",
       "      <td>Hope you were watching the war room with special guest steve pieczenik</td>\n",
       "    </tr>\n",
       "    <tr>\n",
       "      <th>729268</th>\n",
       "      <td>Mykey1957</td>\n",
       "      <td>Welcome. i also just got here Are all the investigations going to stop now? I can t believe they put a crook in the white house Where is hunter s laptop?</td>\n",
       "    </tr>\n",
       "    <tr>\n",
       "      <th>445273</th>\n",
       "      <td>Jamscarey</td>\n",
       "      <td>Oh America! What have you done to deserve this? Regardless of the outcome, it s going to be a helluva show to watch this liberal balloon deflate This is no longer about Trump. If this election fraud machinery succeeds without resistance it will be practically impossible for another conservative president to be elected. How could a first world nation allow its election systems to be outsourced and controlled by hidden operatives? This guy is dancing around facts and reality like a fly caught ...</td>\n",
       "    </tr>\n",
       "  </tbody>\n",
       "</table>\n",
       "</div>"
      ],
      "text/plain": [
       "               username  \\\n",
       "683032       Mflounders   \n",
       "786614       Pcarole139   \n",
       "758946        OffDutyAZ   \n",
       "372257           Gmlgop   \n",
       "747399      NilNeves123   \n",
       "610658       Litezridin   \n",
       "425236   IrishPatriot33   \n",
       "42580   AmericanBushtit   \n",
       "589613           Layman   \n",
       "599692            Lgk54   \n",
       "987556          Tarrcat   \n",
       "668297  MaximusArtorius   \n",
       "276150         Dmcwally   \n",
       "729268        Mykey1957   \n",
       "445273        Jamscarey   \n",
       "\n",
       "                                                                                                                                                                                                                                                                                                                                                                                                                                                                                                                       body  \n",
       "683032                                                                                                                                                                                                                                                                                                                                                                                                                                                                                                                Funny  \n",
       "786614  Govt just printing money. Borrowing from us. #welovedonaldtrump   Good for Trump!! He gets flack for calling a spade a spade, even from his own people often times. When he does though, he s shedding light on their very illegal and dark plan s for America. Trump loves America and Americans!!!   Well said Well I hope to hell they got no raise. Grrrrrr Of course Sad the lengths the Left will go to, to hide the truth from the American people  #votetrump2020   Love Ben Carson.   Awesome. Can t ge...  \n",
       "758946                                                                                                                                                                                                                                                                                                                                                                                                                                                                                                   I like that Curly.  \n",
       "372257                                                                                                                                                                                                                                                                                                                                                    This shows that congressional democrats are scum. nancy pelosi herself is scum at a higher level. I just joined Parler! Looking forward to meeting everyone here.  \n",
       "747399                                                                                                                                                                                                                                                                                                                                                                                                                                                                            Olá Essa pilantra não tem nenhuma punição  \n",
       "610658                                                                                                                                                                                                                                                                                                                                                                                                                                                                                                     Book Her Dano!!!  \n",
       "425236                                                                                                                                                                                                                                                                                                                                                                                                                                                        No we know why the Dems are stuck running with Joe this fall.  \n",
       "42580                                                                                                                                                                                                                                                                                                                                                                                        Hey Gavin. Can we be friends? Antifa are like mosquitoes. There are a lot of them, but alone, they are weak and easy to crush.  \n",
       "589613  That s why all those who know him call him Donnie Dooshnozzle behind his back... Yeah, they don t remember the kneecapping..,, So you disagree that libs are emotional thinkers? You are s Patriot! The problem is Republicans won t fight like democrats... republicans aren t street fighters, you can t use ring rules when you fight a street fighter that has no boundaries.... Kicking, biting, eye gouging, spitting, back stabbing street fighters need to be dealt with using the same tactics they use...  \n",
       "599692                                                                                                                                                                                                                                                                                                                                                  It doesn t matter ! Spread the info to everyone! Wa State is there! Absolutely ridiculous! Full time masks, they want us to wear cloth! Talk about  I Can t Breath   \n",
       "987556                                                                                                                                                                                                                                                                                                                                                                                                                                                                                Hannity might be another exception...  \n",
       "668297                                                                                                                                                                                                                                                                                                                                                                                              Today is the last day to get free stock!  Join Robinhood with my link and we'll both get a gift stock for the holidays!  \n",
       "276150                                                                                                                                                                                                                                                                                                                                                                                                                                             Hope you were watching the war room with special guest steve pieczenik    \n",
       "729268                                                                                                                                                                                                                                                                                                                                                            Welcome. i also just got here Are all the investigations going to stop now? I can t believe they put a crook in the white house Where is hunter s laptop?  \n",
       "445273  Oh America! What have you done to deserve this? Regardless of the outcome, it s going to be a helluva show to watch this liberal balloon deflate This is no longer about Trump. If this election fraud machinery succeeds without resistance it will be practically impossible for another conservative president to be elected. How could a first world nation allow its election systems to be outsourced and controlled by hidden operatives? This guy is dancing around facts and reality like a fly caught ...  "
      ]
     },
     "execution_count": 325,
     "metadata": {},
     "output_type": "execute_result"
    }
   ],
   "source": [
    "combined_posts.sample(15)"
   ]
  },
  {
   "cell_type": "code",
   "execution_count": 326,
   "id": "105e6368-6a44-4fc0-81cd-f872d3790a91",
   "metadata": {},
   "outputs": [
    {
     "data": {
      "text/plain": [
       "%                  1\n",
       "Poolpro74          1\n",
       "Pooneri1           1\n",
       "Poondogger         1\n",
       "Poonamkaur444      1\n",
       "                  ..\n",
       "Henrymccartier     1\n",
       "Henrymaria94       1\n",
       "Henrymalachi704    1\n",
       "Henrylucero        1\n",
       "Rick             1\n",
       "Name: username, Length: 1205732, dtype: int64"
      ]
     },
     "execution_count": 326,
     "metadata": {},
     "output_type": "execute_result"
    }
   ],
   "source": [
    "combined_posts['username'].value_counts()"
   ]
  },
  {
   "cell_type": "markdown",
   "id": "bce9fdee-6c08-4788-b889-fe4de221a36c",
   "metadata": {},
   "source": [
    "## Export cleaned posts and transposed posts csvs"
   ]
  },
  {
   "cell_type": "code",
   "execution_count": 327,
   "id": "767998a4-6648-4fb4-8bc2-989074c7ac3c",
   "metadata": {},
   "outputs": [],
   "source": [
    "df.to_csv('data/cleaned_posts.csv', index=False)"
   ]
  },
  {
   "cell_type": "code",
   "execution_count": null,
   "id": "e9687262-8f3e-42c9-99ba-7c090ddab263",
   "metadata": {},
   "outputs": [],
   "source": [
    "combined_posts.to_csv('data/posts_by_user.csv', index=False)"
   ]
  },
  {
   "cell_type": "markdown",
   "id": "1b8f7000-4e6e-486a-a343-a7a6f6199c9e",
   "metadata": {},
   "source": [
    "## Create smaller sample of cleaned_posts"
   ]
  },
  {
   "cell_type": "code",
   "execution_count": 22,
   "id": "5d900d61-ad8b-4100-b2d0-fbe04b97ddc8",
   "metadata": {},
   "outputs": [],
   "source": [
    "import_cleaned = pd.read_csv('data/cleaned_posts.csv')"
   ]
  },
  {
   "cell_type": "code",
   "execution_count": 28,
   "id": "e8cc3d79-5d84-407a-9f2b-bea7b2993145",
   "metadata": {},
   "outputs": [],
   "source": [
    "sample = import_cleaned.sample(frac=.1, random_state=42)"
   ]
  },
  {
   "cell_type": "code",
   "execution_count": 29,
   "id": "5489981d-bcd5-4379-8a0f-80d38b07f165",
   "metadata": {},
   "outputs": [
    {
     "name": "stdout",
     "output_type": "stream",
     "text": [
      "<class 'pandas.core.frame.DataFrame'>\n",
      "Int64Index: 905414 entries, 6564945 to 3553412\n",
      "Data columns (total 7 columns):\n",
      " #   Column              Non-Null Count   Dtype  \n",
      "---  ------              --------------   -----  \n",
      " 0   body                905414 non-null  object \n",
      " 1   createdatformatted  905414 non-null  object \n",
      " 2   creator             905414 non-null  object \n",
      " 3   id                  905414 non-null  object \n",
      " 4   username            905414 non-null  object \n",
      " 5   reposts             223635 non-null  float64\n",
      " 6   score               681779 non-null  float64\n",
      "dtypes: float64(2), object(5)\n",
      "memory usage: 55.3+ MB\n"
     ]
    }
   ],
   "source": [
    "sample.info()"
   ]
  },
  {
   "cell_type": "code",
   "execution_count": 30,
   "id": "2f809c9c-82d4-47a7-8b09-9ec0e7502292",
   "metadata": {},
   "outputs": [],
   "source": [
    "users_posts_sample = sample[['body', 'username']]"
   ]
  },
  {
   "cell_type": "code",
   "execution_count": 31,
   "id": "8d06fb17-2928-4bbb-93c5-3f1f52f9bacf",
   "metadata": {},
   "outputs": [
    {
     "data": {
      "text/html": [
       "<div>\n",
       "<style scoped>\n",
       "    .dataframe tbody tr th:only-of-type {\n",
       "        vertical-align: middle;\n",
       "    }\n",
       "\n",
       "    .dataframe tbody tr th {\n",
       "        vertical-align: top;\n",
       "    }\n",
       "\n",
       "    .dataframe thead th {\n",
       "        text-align: right;\n",
       "    }\n",
       "</style>\n",
       "<table border=\"1\" class=\"dataframe\">\n",
       "  <thead>\n",
       "    <tr style=\"text-align: right;\">\n",
       "      <th></th>\n",
       "      <th>body</th>\n",
       "      <th>username</th>\n",
       "    </tr>\n",
       "  </thead>\n",
       "  <tbody>\n",
       "    <tr>\n",
       "      <th>6564945</th>\n",
       "      <td>The terrorists need to know who is really in charge-GREAT JOB PATRIOTS! THANK YOU FOR STANDING UP AND FIGHTING FOR US!!</td>\n",
       "      <td>Jeribelle</td>\n",
       "    </tr>\n",
       "    <tr>\n",
       "      <th>3777292</th>\n",
       "      <td>I m thinking they will get one vaccine (to protect them), and we will get another (to make us more vulnerable.) Change my mind</td>\n",
       "      <td>KarenRL</td>\n",
       "    </tr>\n",
       "    <tr>\n",
       "      <th>2409632</th>\n",
       "      <td>Troll</td>\n",
       "      <td>Melodydbrush</td>\n",
       "    </tr>\n",
       "    <tr>\n",
       "      <th>4049540</th>\n",
       "      <td>Nothing, can stop what's coming.</td>\n",
       "      <td>FREEDOMWWGIWGA</td>\n",
       "    </tr>\n",
       "    <tr>\n",
       "      <th>2331540</th>\n",
       "      <td>These people know whats best for society........</td>\n",
       "      <td>Ardwick</td>\n",
       "    </tr>\n",
       "  </tbody>\n",
       "</table>\n",
       "</div>"
      ],
      "text/plain": [
       "                                                                                                                                   body  \\\n",
       "6564945         The terrorists need to know who is really in charge-GREAT JOB PATRIOTS! THANK YOU FOR STANDING UP AND FIGHTING FOR US!!   \n",
       "3777292  I m thinking they will get one vaccine (to protect them), and we will get another (to make us more vulnerable.) Change my mind   \n",
       "2409632                                                                                                                           Troll   \n",
       "4049540                                                                                                Nothing, can stop what's coming.   \n",
       "2331540                                                                                These people know whats best for society........   \n",
       "\n",
       "               username  \n",
       "6564945       Jeribelle  \n",
       "3777292         KarenRL  \n",
       "2409632    Melodydbrush  \n",
       "4049540  FREEDOMWWGIWGA  \n",
       "2331540         Ardwick  "
      ]
     },
     "execution_count": 31,
     "metadata": {},
     "output_type": "execute_result"
    }
   ],
   "source": [
    "users_posts_sample.head()"
   ]
  },
  {
   "cell_type": "code",
   "execution_count": 37,
   "id": "1f93e858-6494-48c4-b1f2-a4f71f050c41",
   "metadata": {},
   "outputs": [
    {
     "ename": "KeyboardInterrupt",
     "evalue": "",
     "output_type": "error",
     "traceback": [
      "\u001b[0;31m---------------------------------------------------------------------------\u001b[0m",
      "\u001b[0;31mKeyboardInterrupt\u001b[0m                         Traceback (most recent call last)",
      "\u001b[0;32m/var/folders/tw/90d96q0j6xq841_5j43gdj0c0000gn/T/ipykernel_1239/875581792.py\u001b[0m in \u001b[0;36m<module>\u001b[0;34m\u001b[0m\n\u001b[0;32m----> 1\u001b[0;31m \u001b[0musers_posts_sample\u001b[0m\u001b[0;34m.\u001b[0m\u001b[0mgroupby\u001b[0m\u001b[0;34m(\u001b[0m\u001b[0;34m'username'\u001b[0m\u001b[0;34m)\u001b[0m\u001b[0;34m[\u001b[0m\u001b[0;34m'body'\u001b[0m\u001b[0;34m]\u001b[0m\u001b[0;34m.\u001b[0m\u001b[0mdescribe\u001b[0m\u001b[0;34m(\u001b[0m\u001b[0;34m)\u001b[0m\u001b[0;34m\u001b[0m\u001b[0;34m\u001b[0m\u001b[0m\n\u001b[0m",
      "\u001b[0;32m~/opt/anaconda3/lib/python3.9/site-packages/pandas/core/groupby/generic.py\u001b[0m in \u001b[0;36mdescribe\u001b[0;34m(self, **kwargs)\u001b[0m\n\u001b[1;32m    675\u001b[0m     \u001b[0;34m@\u001b[0m\u001b[0mdoc\u001b[0m\u001b[0;34m(\u001b[0m\u001b[0mSeries\u001b[0m\u001b[0;34m.\u001b[0m\u001b[0mdescribe\u001b[0m\u001b[0;34m)\u001b[0m\u001b[0;34m\u001b[0m\u001b[0;34m\u001b[0m\u001b[0m\n\u001b[1;32m    676\u001b[0m     \u001b[0;32mdef\u001b[0m \u001b[0mdescribe\u001b[0m\u001b[0;34m(\u001b[0m\u001b[0mself\u001b[0m\u001b[0;34m,\u001b[0m \u001b[0;34m**\u001b[0m\u001b[0mkwargs\u001b[0m\u001b[0;34m)\u001b[0m\u001b[0;34m:\u001b[0m\u001b[0;34m\u001b[0m\u001b[0;34m\u001b[0m\u001b[0m\n\u001b[0;32m--> 677\u001b[0;31m         \u001b[0mresult\u001b[0m \u001b[0;34m=\u001b[0m \u001b[0mself\u001b[0m\u001b[0;34m.\u001b[0m\u001b[0mapply\u001b[0m\u001b[0;34m(\u001b[0m\u001b[0;32mlambda\u001b[0m \u001b[0mx\u001b[0m\u001b[0;34m:\u001b[0m \u001b[0mx\u001b[0m\u001b[0;34m.\u001b[0m\u001b[0mdescribe\u001b[0m\u001b[0;34m(\u001b[0m\u001b[0;34m**\u001b[0m\u001b[0mkwargs\u001b[0m\u001b[0;34m)\u001b[0m\u001b[0;34m)\u001b[0m\u001b[0;34m\u001b[0m\u001b[0;34m\u001b[0m\u001b[0m\n\u001b[0m\u001b[1;32m    678\u001b[0m         \u001b[0;32mif\u001b[0m \u001b[0mself\u001b[0m\u001b[0;34m.\u001b[0m\u001b[0maxis\u001b[0m \u001b[0;34m==\u001b[0m \u001b[0;36m1\u001b[0m\u001b[0;34m:\u001b[0m\u001b[0;34m\u001b[0m\u001b[0;34m\u001b[0m\u001b[0m\n\u001b[1;32m    679\u001b[0m             \u001b[0;32mreturn\u001b[0m \u001b[0mresult\u001b[0m\u001b[0;34m.\u001b[0m\u001b[0mT\u001b[0m\u001b[0;34m\u001b[0m\u001b[0;34m\u001b[0m\u001b[0m\n",
      "\u001b[0;32m~/opt/anaconda3/lib/python3.9/site-packages/pandas/core/groupby/generic.py\u001b[0m in \u001b[0;36mapply\u001b[0;34m(self, func, *args, **kwargs)\u001b[0m\n\u001b[1;32m    221\u001b[0m     )\n\u001b[1;32m    222\u001b[0m     \u001b[0;32mdef\u001b[0m \u001b[0mapply\u001b[0m\u001b[0;34m(\u001b[0m\u001b[0mself\u001b[0m\u001b[0;34m,\u001b[0m \u001b[0mfunc\u001b[0m\u001b[0;34m,\u001b[0m \u001b[0;34m*\u001b[0m\u001b[0margs\u001b[0m\u001b[0;34m,\u001b[0m \u001b[0;34m**\u001b[0m\u001b[0mkwargs\u001b[0m\u001b[0;34m)\u001b[0m\u001b[0;34m:\u001b[0m\u001b[0;34m\u001b[0m\u001b[0;34m\u001b[0m\u001b[0m\n\u001b[0;32m--> 223\u001b[0;31m         \u001b[0;32mreturn\u001b[0m \u001b[0msuper\u001b[0m\u001b[0;34m(\u001b[0m\u001b[0;34m)\u001b[0m\u001b[0;34m.\u001b[0m\u001b[0mapply\u001b[0m\u001b[0;34m(\u001b[0m\u001b[0mfunc\u001b[0m\u001b[0;34m,\u001b[0m \u001b[0;34m*\u001b[0m\u001b[0margs\u001b[0m\u001b[0;34m,\u001b[0m \u001b[0;34m**\u001b[0m\u001b[0mkwargs\u001b[0m\u001b[0;34m)\u001b[0m\u001b[0;34m\u001b[0m\u001b[0;34m\u001b[0m\u001b[0m\n\u001b[0m\u001b[1;32m    224\u001b[0m \u001b[0;34m\u001b[0m\u001b[0m\n\u001b[1;32m    225\u001b[0m     \u001b[0;34m@\u001b[0m\u001b[0mdoc\u001b[0m\u001b[0;34m(\u001b[0m\u001b[0m_agg_template\u001b[0m\u001b[0;34m,\u001b[0m \u001b[0mexamples\u001b[0m\u001b[0;34m=\u001b[0m\u001b[0m_agg_examples_doc\u001b[0m\u001b[0;34m,\u001b[0m \u001b[0mklass\u001b[0m\u001b[0;34m=\u001b[0m\u001b[0;34m\"Series\"\u001b[0m\u001b[0;34m)\u001b[0m\u001b[0;34m\u001b[0m\u001b[0;34m\u001b[0m\u001b[0m\n",
      "\u001b[0;32m~/opt/anaconda3/lib/python3.9/site-packages/pandas/core/groupby/groupby.py\u001b[0m in \u001b[0;36mapply\u001b[0;34m(self, func, *args, **kwargs)\u001b[0m\n\u001b[1;32m   1273\u001b[0m         \u001b[0;32mwith\u001b[0m \u001b[0moption_context\u001b[0m\u001b[0;34m(\u001b[0m\u001b[0;34m\"mode.chained_assignment\"\u001b[0m\u001b[0;34m,\u001b[0m \u001b[0;32mNone\u001b[0m\u001b[0;34m)\u001b[0m\u001b[0;34m:\u001b[0m\u001b[0;34m\u001b[0m\u001b[0;34m\u001b[0m\u001b[0m\n\u001b[1;32m   1274\u001b[0m             \u001b[0;32mtry\u001b[0m\u001b[0;34m:\u001b[0m\u001b[0;34m\u001b[0m\u001b[0;34m\u001b[0m\u001b[0m\n\u001b[0;32m-> 1275\u001b[0;31m                 \u001b[0mresult\u001b[0m \u001b[0;34m=\u001b[0m \u001b[0mself\u001b[0m\u001b[0;34m.\u001b[0m\u001b[0m_python_apply_general\u001b[0m\u001b[0;34m(\u001b[0m\u001b[0mf\u001b[0m\u001b[0;34m,\u001b[0m \u001b[0mself\u001b[0m\u001b[0;34m.\u001b[0m\u001b[0m_selected_obj\u001b[0m\u001b[0;34m)\u001b[0m\u001b[0;34m\u001b[0m\u001b[0;34m\u001b[0m\u001b[0m\n\u001b[0m\u001b[1;32m   1276\u001b[0m             \u001b[0;32mexcept\u001b[0m \u001b[0mTypeError\u001b[0m\u001b[0;34m:\u001b[0m\u001b[0;34m\u001b[0m\u001b[0;34m\u001b[0m\u001b[0m\n\u001b[1;32m   1277\u001b[0m                 \u001b[0;31m# gh-20949\u001b[0m\u001b[0;34m\u001b[0m\u001b[0;34m\u001b[0m\u001b[0m\n",
      "\u001b[0;32m~/opt/anaconda3/lib/python3.9/site-packages/pandas/core/groupby/groupby.py\u001b[0m in \u001b[0;36m_python_apply_general\u001b[0;34m(self, f, data)\u001b[0m\n\u001b[1;32m   1307\u001b[0m             \u001b[0mdata\u001b[0m \u001b[0mafter\u001b[0m \u001b[0mapplying\u001b[0m \u001b[0mf\u001b[0m\u001b[0;34m\u001b[0m\u001b[0;34m\u001b[0m\u001b[0m\n\u001b[1;32m   1308\u001b[0m         \"\"\"\n\u001b[0;32m-> 1309\u001b[0;31m         \u001b[0mkeys\u001b[0m\u001b[0;34m,\u001b[0m \u001b[0mvalues\u001b[0m\u001b[0;34m,\u001b[0m \u001b[0mmutated\u001b[0m \u001b[0;34m=\u001b[0m \u001b[0mself\u001b[0m\u001b[0;34m.\u001b[0m\u001b[0mgrouper\u001b[0m\u001b[0;34m.\u001b[0m\u001b[0mapply\u001b[0m\u001b[0;34m(\u001b[0m\u001b[0mf\u001b[0m\u001b[0;34m,\u001b[0m \u001b[0mdata\u001b[0m\u001b[0;34m,\u001b[0m \u001b[0mself\u001b[0m\u001b[0;34m.\u001b[0m\u001b[0maxis\u001b[0m\u001b[0;34m)\u001b[0m\u001b[0;34m\u001b[0m\u001b[0;34m\u001b[0m\u001b[0m\n\u001b[0m\u001b[1;32m   1310\u001b[0m \u001b[0;34m\u001b[0m\u001b[0m\n\u001b[1;32m   1311\u001b[0m         return self._wrap_applied_output(\n",
      "\u001b[0;32m~/opt/anaconda3/lib/python3.9/site-packages/pandas/core/groupby/ops.py\u001b[0m in \u001b[0;36mapply\u001b[0;34m(self, f, data, axis)\u001b[0m\n\u001b[1;32m    850\u001b[0m             \u001b[0;31m# group might be modified\u001b[0m\u001b[0;34m\u001b[0m\u001b[0;34m\u001b[0m\u001b[0m\n\u001b[1;32m    851\u001b[0m             \u001b[0mgroup_axes\u001b[0m \u001b[0;34m=\u001b[0m \u001b[0mgroup\u001b[0m\u001b[0;34m.\u001b[0m\u001b[0maxes\u001b[0m\u001b[0;34m\u001b[0m\u001b[0;34m\u001b[0m\u001b[0m\n\u001b[0;32m--> 852\u001b[0;31m             \u001b[0mres\u001b[0m \u001b[0;34m=\u001b[0m \u001b[0mf\u001b[0m\u001b[0;34m(\u001b[0m\u001b[0mgroup\u001b[0m\u001b[0;34m)\u001b[0m\u001b[0;34m\u001b[0m\u001b[0;34m\u001b[0m\u001b[0m\n\u001b[0m\u001b[1;32m    853\u001b[0m             \u001b[0;32mif\u001b[0m \u001b[0;32mnot\u001b[0m \u001b[0m_is_indexed_like\u001b[0m\u001b[0;34m(\u001b[0m\u001b[0mres\u001b[0m\u001b[0;34m,\u001b[0m \u001b[0mgroup_axes\u001b[0m\u001b[0;34m,\u001b[0m \u001b[0maxis\u001b[0m\u001b[0;34m)\u001b[0m\u001b[0;34m:\u001b[0m\u001b[0;34m\u001b[0m\u001b[0;34m\u001b[0m\u001b[0m\n\u001b[1;32m    854\u001b[0m                 \u001b[0mmutated\u001b[0m \u001b[0;34m=\u001b[0m \u001b[0;32mTrue\u001b[0m\u001b[0;34m\u001b[0m\u001b[0;34m\u001b[0m\u001b[0m\n",
      "\u001b[0;32m~/opt/anaconda3/lib/python3.9/site-packages/pandas/core/groupby/generic.py\u001b[0m in \u001b[0;36m<lambda>\u001b[0;34m(x)\u001b[0m\n\u001b[1;32m    675\u001b[0m     \u001b[0;34m@\u001b[0m\u001b[0mdoc\u001b[0m\u001b[0;34m(\u001b[0m\u001b[0mSeries\u001b[0m\u001b[0;34m.\u001b[0m\u001b[0mdescribe\u001b[0m\u001b[0;34m)\u001b[0m\u001b[0;34m\u001b[0m\u001b[0;34m\u001b[0m\u001b[0m\n\u001b[1;32m    676\u001b[0m     \u001b[0;32mdef\u001b[0m \u001b[0mdescribe\u001b[0m\u001b[0;34m(\u001b[0m\u001b[0mself\u001b[0m\u001b[0;34m,\u001b[0m \u001b[0;34m**\u001b[0m\u001b[0mkwargs\u001b[0m\u001b[0;34m)\u001b[0m\u001b[0;34m:\u001b[0m\u001b[0;34m\u001b[0m\u001b[0;34m\u001b[0m\u001b[0m\n\u001b[0;32m--> 677\u001b[0;31m         \u001b[0mresult\u001b[0m \u001b[0;34m=\u001b[0m \u001b[0mself\u001b[0m\u001b[0;34m.\u001b[0m\u001b[0mapply\u001b[0m\u001b[0;34m(\u001b[0m\u001b[0;32mlambda\u001b[0m \u001b[0mx\u001b[0m\u001b[0;34m:\u001b[0m \u001b[0mx\u001b[0m\u001b[0;34m.\u001b[0m\u001b[0mdescribe\u001b[0m\u001b[0;34m(\u001b[0m\u001b[0;34m**\u001b[0m\u001b[0mkwargs\u001b[0m\u001b[0;34m)\u001b[0m\u001b[0;34m)\u001b[0m\u001b[0;34m\u001b[0m\u001b[0;34m\u001b[0m\u001b[0m\n\u001b[0m\u001b[1;32m    678\u001b[0m         \u001b[0;32mif\u001b[0m \u001b[0mself\u001b[0m\u001b[0;34m.\u001b[0m\u001b[0maxis\u001b[0m \u001b[0;34m==\u001b[0m \u001b[0;36m1\u001b[0m\u001b[0;34m:\u001b[0m\u001b[0;34m\u001b[0m\u001b[0;34m\u001b[0m\u001b[0m\n\u001b[1;32m    679\u001b[0m             \u001b[0;32mreturn\u001b[0m \u001b[0mresult\u001b[0m\u001b[0;34m.\u001b[0m\u001b[0mT\u001b[0m\u001b[0;34m\u001b[0m\u001b[0;34m\u001b[0m\u001b[0m\n",
      "\u001b[0;32m~/opt/anaconda3/lib/python3.9/site-packages/pandas/core/generic.py\u001b[0m in \u001b[0;36mdescribe\u001b[0;34m(self, percentiles, include, exclude, datetime_is_numeric)\u001b[0m\n\u001b[1;32m  10022\u001b[0m         \u001b[0mmax\u001b[0m            \u001b[0mNaN\u001b[0m      \u001b[0;36m3.0\u001b[0m\u001b[0;34m\u001b[0m\u001b[0;34m\u001b[0m\u001b[0m\n\u001b[1;32m  10023\u001b[0m         \"\"\"\n\u001b[0;32m> 10024\u001b[0;31m         return describe_ndframe(\n\u001b[0m\u001b[1;32m  10025\u001b[0m             \u001b[0mobj\u001b[0m\u001b[0;34m=\u001b[0m\u001b[0mself\u001b[0m\u001b[0;34m,\u001b[0m\u001b[0;34m\u001b[0m\u001b[0;34m\u001b[0m\u001b[0m\n\u001b[1;32m  10026\u001b[0m             \u001b[0minclude\u001b[0m\u001b[0;34m=\u001b[0m\u001b[0minclude\u001b[0m\u001b[0;34m,\u001b[0m\u001b[0;34m\u001b[0m\u001b[0;34m\u001b[0m\u001b[0m\n",
      "\u001b[0;32m~/opt/anaconda3/lib/python3.9/site-packages/pandas/core/describe.py\u001b[0m in \u001b[0;36mdescribe_ndframe\u001b[0;34m(obj, include, exclude, datetime_is_numeric, percentiles)\u001b[0m\n\u001b[1;32m     93\u001b[0m         )\n\u001b[1;32m     94\u001b[0m \u001b[0;34m\u001b[0m\u001b[0m\n\u001b[0;32m---> 95\u001b[0;31m     \u001b[0mresult\u001b[0m \u001b[0;34m=\u001b[0m \u001b[0mdescriber\u001b[0m\u001b[0;34m.\u001b[0m\u001b[0mdescribe\u001b[0m\u001b[0;34m(\u001b[0m\u001b[0mpercentiles\u001b[0m\u001b[0;34m=\u001b[0m\u001b[0mpercentiles\u001b[0m\u001b[0;34m)\u001b[0m\u001b[0;34m\u001b[0m\u001b[0;34m\u001b[0m\u001b[0m\n\u001b[0m\u001b[1;32m     96\u001b[0m     \u001b[0;32mreturn\u001b[0m \u001b[0mcast\u001b[0m\u001b[0;34m(\u001b[0m\u001b[0mFrameOrSeries\u001b[0m\u001b[0;34m,\u001b[0m \u001b[0mresult\u001b[0m\u001b[0;34m)\u001b[0m\u001b[0;34m\u001b[0m\u001b[0;34m\u001b[0m\u001b[0m\n\u001b[1;32m     97\u001b[0m \u001b[0;34m\u001b[0m\u001b[0m\n",
      "\u001b[0;32m~/opt/anaconda3/lib/python3.9/site-packages/pandas/core/describe.py\u001b[0m in \u001b[0;36mdescribe\u001b[0;34m(self, percentiles)\u001b[0m\n\u001b[1;32m    133\u001b[0m             \u001b[0mself\u001b[0m\u001b[0;34m.\u001b[0m\u001b[0mdatetime_is_numeric\u001b[0m\u001b[0;34m,\u001b[0m\u001b[0;34m\u001b[0m\u001b[0;34m\u001b[0m\u001b[0m\n\u001b[1;32m    134\u001b[0m         )\n\u001b[0;32m--> 135\u001b[0;31m         \u001b[0;32mreturn\u001b[0m \u001b[0mdescribe_func\u001b[0m\u001b[0;34m(\u001b[0m\u001b[0mself\u001b[0m\u001b[0;34m.\u001b[0m\u001b[0mobj\u001b[0m\u001b[0;34m,\u001b[0m \u001b[0mpercentiles\u001b[0m\u001b[0;34m)\u001b[0m\u001b[0;34m\u001b[0m\u001b[0;34m\u001b[0m\u001b[0m\n\u001b[0m\u001b[1;32m    136\u001b[0m \u001b[0;34m\u001b[0m\u001b[0m\n\u001b[1;32m    137\u001b[0m \u001b[0;34m\u001b[0m\u001b[0m\n",
      "\u001b[0;32m~/opt/anaconda3/lib/python3.9/site-packages/pandas/core/describe.py\u001b[0m in \u001b[0;36mdescribe_categorical_1d\u001b[0;34m(data, percentiles_ignored)\u001b[0m\n\u001b[1;32m    275\u001b[0m     \u001b[0;32mfrom\u001b[0m \u001b[0mpandas\u001b[0m \u001b[0;32mimport\u001b[0m \u001b[0mSeries\u001b[0m\u001b[0;34m\u001b[0m\u001b[0;34m\u001b[0m\u001b[0m\n\u001b[1;32m    276\u001b[0m \u001b[0;34m\u001b[0m\u001b[0m\n\u001b[0;32m--> 277\u001b[0;31m     \u001b[0;32mreturn\u001b[0m \u001b[0mSeries\u001b[0m\u001b[0;34m(\u001b[0m\u001b[0mresult\u001b[0m\u001b[0;34m,\u001b[0m \u001b[0mindex\u001b[0m\u001b[0;34m=\u001b[0m\u001b[0mnames\u001b[0m\u001b[0;34m,\u001b[0m \u001b[0mname\u001b[0m\u001b[0;34m=\u001b[0m\u001b[0mdata\u001b[0m\u001b[0;34m.\u001b[0m\u001b[0mname\u001b[0m\u001b[0;34m,\u001b[0m \u001b[0mdtype\u001b[0m\u001b[0;34m=\u001b[0m\u001b[0mdtype\u001b[0m\u001b[0;34m)\u001b[0m\u001b[0;34m\u001b[0m\u001b[0;34m\u001b[0m\u001b[0m\n\u001b[0m\u001b[1;32m    278\u001b[0m \u001b[0;34m\u001b[0m\u001b[0m\n\u001b[1;32m    279\u001b[0m \u001b[0;34m\u001b[0m\u001b[0m\n",
      "\u001b[0;32m~/opt/anaconda3/lib/python3.9/site-packages/pandas/core/series.py\u001b[0m in \u001b[0;36m__init__\u001b[0;34m(self, data, index, dtype, name, copy, fastpath)\u001b[0m\n\u001b[1;32m    439\u001b[0m                 \u001b[0mdata\u001b[0m \u001b[0;34m=\u001b[0m \u001b[0msanitize_array\u001b[0m\u001b[0;34m(\u001b[0m\u001b[0mdata\u001b[0m\u001b[0;34m,\u001b[0m \u001b[0mindex\u001b[0m\u001b[0;34m,\u001b[0m \u001b[0mdtype\u001b[0m\u001b[0;34m,\u001b[0m \u001b[0mcopy\u001b[0m\u001b[0;34m)\u001b[0m\u001b[0;34m\u001b[0m\u001b[0;34m\u001b[0m\u001b[0m\n\u001b[1;32m    440\u001b[0m \u001b[0;34m\u001b[0m\u001b[0m\n\u001b[0;32m--> 441\u001b[0;31m                 \u001b[0mmanager\u001b[0m \u001b[0;34m=\u001b[0m \u001b[0mget_option\u001b[0m\u001b[0;34m(\u001b[0m\u001b[0;34m\"mode.data_manager\"\u001b[0m\u001b[0;34m)\u001b[0m\u001b[0;34m\u001b[0m\u001b[0;34m\u001b[0m\u001b[0m\n\u001b[0m\u001b[1;32m    442\u001b[0m                 \u001b[0;32mif\u001b[0m \u001b[0mmanager\u001b[0m \u001b[0;34m==\u001b[0m \u001b[0;34m\"block\"\u001b[0m\u001b[0;34m:\u001b[0m\u001b[0;34m\u001b[0m\u001b[0;34m\u001b[0m\u001b[0m\n\u001b[1;32m    443\u001b[0m                     \u001b[0mdata\u001b[0m \u001b[0;34m=\u001b[0m \u001b[0mSingleBlockManager\u001b[0m\u001b[0;34m.\u001b[0m\u001b[0mfrom_array\u001b[0m\u001b[0;34m(\u001b[0m\u001b[0mdata\u001b[0m\u001b[0;34m,\u001b[0m \u001b[0mindex\u001b[0m\u001b[0;34m)\u001b[0m\u001b[0;34m\u001b[0m\u001b[0;34m\u001b[0m\u001b[0m\n",
      "\u001b[0;32m~/opt/anaconda3/lib/python3.9/site-packages/pandas/_config/config.py\u001b[0m in \u001b[0;36m__call__\u001b[0;34m(self, *args, **kwds)\u001b[0m\n\u001b[1;32m    241\u001b[0m \u001b[0;34m\u001b[0m\u001b[0m\n\u001b[1;32m    242\u001b[0m     \u001b[0;32mdef\u001b[0m \u001b[0m__call__\u001b[0m\u001b[0;34m(\u001b[0m\u001b[0mself\u001b[0m\u001b[0;34m,\u001b[0m \u001b[0;34m*\u001b[0m\u001b[0margs\u001b[0m\u001b[0;34m,\u001b[0m \u001b[0;34m**\u001b[0m\u001b[0mkwds\u001b[0m\u001b[0;34m)\u001b[0m\u001b[0;34m:\u001b[0m\u001b[0;34m\u001b[0m\u001b[0;34m\u001b[0m\u001b[0m\n\u001b[0;32m--> 243\u001b[0;31m         \u001b[0;32mreturn\u001b[0m \u001b[0mself\u001b[0m\u001b[0;34m.\u001b[0m\u001b[0m__func__\u001b[0m\u001b[0;34m(\u001b[0m\u001b[0;34m*\u001b[0m\u001b[0margs\u001b[0m\u001b[0;34m,\u001b[0m \u001b[0;34m**\u001b[0m\u001b[0mkwds\u001b[0m\u001b[0;34m)\u001b[0m\u001b[0;34m\u001b[0m\u001b[0;34m\u001b[0m\u001b[0m\n\u001b[0m\u001b[1;32m    244\u001b[0m \u001b[0;34m\u001b[0m\u001b[0m\n\u001b[1;32m    245\u001b[0m     \u001b[0;34m@\u001b[0m\u001b[0mproperty\u001b[0m\u001b[0;34m\u001b[0m\u001b[0;34m\u001b[0m\u001b[0m\n",
      "\u001b[0;32m~/opt/anaconda3/lib/python3.9/site-packages/pandas/_config/config.py\u001b[0m in \u001b[0;36m_get_option\u001b[0;34m(pat, silent)\u001b[0m\n\u001b[1;32m    113\u001b[0m \u001b[0;34m\u001b[0m\u001b[0m\n\u001b[1;32m    114\u001b[0m \u001b[0;32mdef\u001b[0m \u001b[0m_get_option\u001b[0m\u001b[0;34m(\u001b[0m\u001b[0mpat\u001b[0m\u001b[0;34m:\u001b[0m \u001b[0mstr\u001b[0m\u001b[0;34m,\u001b[0m \u001b[0msilent\u001b[0m\u001b[0;34m:\u001b[0m \u001b[0mbool\u001b[0m \u001b[0;34m=\u001b[0m \u001b[0;32mFalse\u001b[0m\u001b[0;34m)\u001b[0m\u001b[0;34m:\u001b[0m\u001b[0;34m\u001b[0m\u001b[0;34m\u001b[0m\u001b[0m\n\u001b[0;32m--> 115\u001b[0;31m     \u001b[0mkey\u001b[0m \u001b[0;34m=\u001b[0m \u001b[0m_get_single_key\u001b[0m\u001b[0;34m(\u001b[0m\u001b[0mpat\u001b[0m\u001b[0;34m,\u001b[0m \u001b[0msilent\u001b[0m\u001b[0;34m)\u001b[0m\u001b[0;34m\u001b[0m\u001b[0;34m\u001b[0m\u001b[0m\n\u001b[0m\u001b[1;32m    116\u001b[0m \u001b[0;34m\u001b[0m\u001b[0m\n\u001b[1;32m    117\u001b[0m     \u001b[0;31m# walk the nested dict\u001b[0m\u001b[0;34m\u001b[0m\u001b[0;34m\u001b[0m\u001b[0m\n",
      "\u001b[0;32m~/opt/anaconda3/lib/python3.9/site-packages/pandas/_config/config.py\u001b[0m in \u001b[0;36m_get_single_key\u001b[0;34m(pat, silent)\u001b[0m\n\u001b[1;32m    105\u001b[0m \u001b[0;34m\u001b[0m\u001b[0m\n\u001b[1;32m    106\u001b[0m     \u001b[0;32mif\u001b[0m \u001b[0;32mnot\u001b[0m \u001b[0msilent\u001b[0m\u001b[0;34m:\u001b[0m\u001b[0;34m\u001b[0m\u001b[0;34m\u001b[0m\u001b[0m\n\u001b[0;32m--> 107\u001b[0;31m         \u001b[0m_warn_if_deprecated\u001b[0m\u001b[0;34m(\u001b[0m\u001b[0mkey\u001b[0m\u001b[0;34m)\u001b[0m\u001b[0;34m\u001b[0m\u001b[0;34m\u001b[0m\u001b[0m\n\u001b[0m\u001b[1;32m    108\u001b[0m \u001b[0;34m\u001b[0m\u001b[0m\n\u001b[1;32m    109\u001b[0m     \u001b[0mkey\u001b[0m \u001b[0;34m=\u001b[0m \u001b[0m_translate_key\u001b[0m\u001b[0;34m(\u001b[0m\u001b[0mkey\u001b[0m\u001b[0;34m)\u001b[0m\u001b[0;34m\u001b[0m\u001b[0;34m\u001b[0m\u001b[0m\n",
      "\u001b[0;32m~/opt/anaconda3/lib/python3.9/site-packages/pandas/_config/config.py\u001b[0m in \u001b[0;36m_warn_if_deprecated\u001b[0;34m(key)\u001b[0m\n\u001b[1;32m    624\u001b[0m     \u001b[0mbool\u001b[0m \u001b[0;34m-\u001b[0m \u001b[0;32mTrue\u001b[0m \u001b[0;32mif\u001b[0m\u001b[0;31m \u001b[0m\u001b[0;31m`\u001b[0m\u001b[0mkey\u001b[0m\u001b[0;31m`\u001b[0m \u001b[0;32mis\u001b[0m \u001b[0mdeprecated\u001b[0m\u001b[0;34m,\u001b[0m \u001b[0;32mFalse\u001b[0m \u001b[0motherwise\u001b[0m\u001b[0;34m.\u001b[0m\u001b[0;34m\u001b[0m\u001b[0;34m\u001b[0m\u001b[0m\n\u001b[1;32m    625\u001b[0m     \"\"\"\n\u001b[0;32m--> 626\u001b[0;31m     \u001b[0md\u001b[0m \u001b[0;34m=\u001b[0m \u001b[0m_get_deprecated_option\u001b[0m\u001b[0;34m(\u001b[0m\u001b[0mkey\u001b[0m\u001b[0;34m)\u001b[0m\u001b[0;34m\u001b[0m\u001b[0;34m\u001b[0m\u001b[0m\n\u001b[0m\u001b[1;32m    627\u001b[0m     \u001b[0;32mif\u001b[0m \u001b[0md\u001b[0m\u001b[0;34m:\u001b[0m\u001b[0;34m\u001b[0m\u001b[0;34m\u001b[0m\u001b[0m\n\u001b[1;32m    628\u001b[0m         \u001b[0;32mif\u001b[0m \u001b[0md\u001b[0m\u001b[0;34m.\u001b[0m\u001b[0mmsg\u001b[0m\u001b[0;34m:\u001b[0m\u001b[0;34m\u001b[0m\u001b[0;34m\u001b[0m\u001b[0m\n",
      "\u001b[0;32m~/opt/anaconda3/lib/python3.9/site-packages/pandas/_config/config.py\u001b[0m in \u001b[0;36m_get_deprecated_option\u001b[0;34m(key)\u001b[0m\n\u001b[1;32m    585\u001b[0m     \u001b[0mDeprecatedOption\u001b[0m \u001b[0;34m(\u001b[0m\u001b[0mnamedtuple\u001b[0m\u001b[0;34m)\u001b[0m \u001b[0;32mif\u001b[0m \u001b[0mkey\u001b[0m \u001b[0;32mis\u001b[0m \u001b[0mdeprecated\u001b[0m\u001b[0;34m,\u001b[0m \u001b[0;32mNone\u001b[0m \u001b[0motherwise\u001b[0m\u001b[0;34m\u001b[0m\u001b[0;34m\u001b[0m\u001b[0m\n\u001b[1;32m    586\u001b[0m     \"\"\"\n\u001b[0;32m--> 587\u001b[0;31m     \u001b[0;32mtry\u001b[0m\u001b[0;34m:\u001b[0m\u001b[0;34m\u001b[0m\u001b[0;34m\u001b[0m\u001b[0m\n\u001b[0m\u001b[1;32m    588\u001b[0m         \u001b[0md\u001b[0m \u001b[0;34m=\u001b[0m \u001b[0m_deprecated_options\u001b[0m\u001b[0;34m[\u001b[0m\u001b[0mkey\u001b[0m\u001b[0;34m]\u001b[0m\u001b[0;34m\u001b[0m\u001b[0;34m\u001b[0m\u001b[0m\n\u001b[1;32m    589\u001b[0m     \u001b[0;32mexcept\u001b[0m \u001b[0mKeyError\u001b[0m\u001b[0;34m:\u001b[0m\u001b[0;34m\u001b[0m\u001b[0;34m\u001b[0m\u001b[0m\n",
      "\u001b[0;31mKeyboardInterrupt\u001b[0m: "
     ]
    }
   ],
   "source": [
    "users_posts_sample.groupby('username')['body'].describe()"
   ]
  },
  {
   "cell_type": "code",
   "execution_count": 32,
   "id": "fd794141-f584-474a-b264-b7cb046b4520",
   "metadata": {},
   "outputs": [],
   "source": [
    "# code for combing rows https://stackoverflow.com/questions/36392735/how-to-combine-multiple-rows-into-a-single-row-with-pandas\n",
    "combined_posts_sample = users_posts_sample.groupby('username')['body'].apply(' '.join).reset_index()"
   ]
  },
  {
   "cell_type": "code",
   "execution_count": 33,
   "id": "928cef93-11d4-44c7-81a7-5420ab1d5de2",
   "metadata": {},
   "outputs": [
    {
     "data": {
      "text/plain": [
       "313862"
      ]
     },
     "execution_count": 33,
     "metadata": {},
     "output_type": "execute_result"
    }
   ],
   "source": [
    "len(combined_posts_sample['username'].unique())"
   ]
  },
  {
   "cell_type": "code",
   "execution_count": 8,
   "id": "49da2550-889e-42d6-846b-23ce98a0ecbf",
   "metadata": {},
   "outputs": [],
   "source": [
    "# combined_posts_sample.to_csv('data/posts_by_users_sample.csv', index=False)"
   ]
  },
  {
   "cell_type": "code",
   "execution_count": 5,
   "id": "6c87d21a-4fd9-4126-b3d1-855265f24e37",
   "metadata": {},
   "outputs": [],
   "source": [
    "# sample.to_csv('data/cleaned_posts_10sample.csv', index=False)"
   ]
  },
  {
   "cell_type": "code",
   "execution_count": null,
   "id": "068c54c6-9448-489a-99e1-4e557dc35c96",
   "metadata": {},
   "outputs": [],
   "source": []
  }
 ],
 "metadata": {
  "kernelspec": {
   "display_name": "Python 3 (ipykernel)",
   "language": "python",
   "name": "python3"
  },
  "language_info": {
   "codemirror_mode": {
    "name": "ipython",
    "version": 3
   },
   "file_extension": ".py",
   "mimetype": "text/x-python",
   "name": "python",
   "nbconvert_exporter": "python",
   "pygments_lexer": "ipython3",
   "version": "3.9.7"
  }
 },
 "nbformat": 4,
 "nbformat_minor": 5
}
