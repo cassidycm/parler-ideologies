{
 "cells": [
  {
   "cell_type": "markdown",
   "id": "32ce8f5b-2a07-46e8-9938-c85c05c458ff",
   "metadata": {},
   "source": [
    "# LDA by user"
   ]
  },
  {
   "cell_type": "markdown",
   "id": "964e6296-d129-4c4c-a97c-2fe5df5961b4",
   "metadata": {},
   "source": [
    "Each vector is a distinct post. Predictions would be performed on single new posts to determine individual probability of belonging to a cluster. \n",
    "\n",
    "Code adapted from \n",
    "- General Assembly Lesson by Caroline Schmitt: Intro to Latent Dirichlet Allocation. \n",
    "- Tutorial from Machine Learning Plus by Selva Prabhakaran https://www.machinelearningplus.com/nlp/topic-modeling-python-sklearn-examples/"
   ]
  },
  {
   "cell_type": "code",
   "execution_count": 1,
   "id": "bce5639f-99b9-4aba-8ae4-e20ae3b24a13",
   "metadata": {},
   "outputs": [],
   "source": [
    "import numpy as np \n",
    "import pandas as pd \n",
    "import matplotlib.pyplot as plt \n",
    "\n",
    "from sklearn.feature_extraction.text import CountVectorizer \n",
    "from sklearn.decomposition import LatentDirichletAllocation \n",
    "from sklearn.model_selection import train_test_split, GridSearchCV\n",
    "\n",
    "np.random.seed(42)"
   ]
  },
  {
   "cell_type": "markdown",
   "id": "873f2560-ac1c-4efc-a7c8-b4b525f6bbdf",
   "metadata": {},
   "source": [
    "## Import preprocessed data"
   ]
  },
  {
   "cell_type": "code",
   "execution_count": 2,
   "id": "4aef6a63-be3a-4519-9cc5-a197a69624d1",
   "metadata": {},
   "outputs": [],
   "source": [
    "df = pd.read_csv('data/posts_by_use_sample.csv')"
   ]
  },
  {
   "cell_type": "code",
   "execution_count": 3,
   "id": "1d1caf45-07e6-4559-8b0c-bf5497e42d2c",
   "metadata": {},
   "outputs": [
    {
     "data": {
      "text/html": [
       "<div>\n",
       "<style scoped>\n",
       "    .dataframe tbody tr th:only-of-type {\n",
       "        vertical-align: middle;\n",
       "    }\n",
       "\n",
       "    .dataframe tbody tr th {\n",
       "        vertical-align: top;\n",
       "    }\n",
       "\n",
       "    .dataframe thead th {\n",
       "        text-align: right;\n",
       "    }\n",
       "</style>\n",
       "<table border=\"1\" class=\"dataframe\">\n",
       "  <thead>\n",
       "    <tr style=\"text-align: right;\">\n",
       "      <th></th>\n",
       "      <th>username</th>\n",
       "      <th>body</th>\n",
       "    </tr>\n",
       "  </thead>\n",
       "  <tbody>\n",
       "    <tr>\n",
       "      <th>0</th>\n",
       "      <td>-generaldebellis</td>\n",
       "      <td>Florida loves our Great Governor DeSantis</td>\n",
       "    </tr>\n",
       "    <tr>\n",
       "      <th>1</th>\n",
       "      <td>0</td>\n",
       "      <td>Free speech is a beautiful thing thank you   f...</td>\n",
       "    </tr>\n",
       "    <tr>\n",
       "      <th>2</th>\n",
       "      <td>0000000000000111</td>\n",
       "      <td>If I could wrap my hands around your throat, I...</td>\n",
       "    </tr>\n",
       "    <tr>\n",
       "      <th>3</th>\n",
       "      <td>00004kaptain</td>\n",
       "      <td>These Black female soldiers brought order to c...</td>\n",
       "    </tr>\n",
       "    <tr>\n",
       "      <th>4</th>\n",
       "      <td>0019</td>\n",
       "      <td>لا عاد ما نبي نجيب كلمة هوامير معنا نبي نخترع ...</td>\n",
       "    </tr>\n",
       "  </tbody>\n",
       "</table>\n",
       "</div>"
      ],
      "text/plain": [
       "           username                                               body\n",
       "0  -generaldebellis          Florida loves our Great Governor DeSantis\n",
       "1                 0  Free speech is a beautiful thing thank you   f...\n",
       "2  0000000000000111  If I could wrap my hands around your throat, I...\n",
       "3      00004kaptain  These Black female soldiers brought order to c...\n",
       "4              0019  لا عاد ما نبي نجيب كلمة هوامير معنا نبي نخترع ..."
      ]
     },
     "execution_count": 3,
     "metadata": {},
     "output_type": "execute_result"
    }
   ],
   "source": [
    "df.head()"
   ]
  },
  {
   "cell_type": "code",
   "execution_count": 4,
   "id": "e533fa4e-3e17-41dc-98fe-a4e9be5328ac",
   "metadata": {},
   "outputs": [],
   "source": [
    "# need to dropna in importing step with entire df - REMOVE\n",
    "df = df.dropna().reset_index(drop=True)"
   ]
  },
  {
   "cell_type": "code",
   "execution_count": 5,
   "id": "75bd5ac9-2143-4aba-ba53-4771e9548c84",
   "metadata": {},
   "outputs": [
    {
     "data": {
      "text/html": [
       "<div>\n",
       "<style scoped>\n",
       "    .dataframe tbody tr th:only-of-type {\n",
       "        vertical-align: middle;\n",
       "    }\n",
       "\n",
       "    .dataframe tbody tr th {\n",
       "        vertical-align: top;\n",
       "    }\n",
       "\n",
       "    .dataframe thead th {\n",
       "        text-align: right;\n",
       "    }\n",
       "</style>\n",
       "<table border=\"1\" class=\"dataframe\">\n",
       "  <thead>\n",
       "    <tr style=\"text-align: right;\">\n",
       "      <th></th>\n",
       "      <th>username</th>\n",
       "      <th>body</th>\n",
       "    </tr>\n",
       "  </thead>\n",
       "  <tbody>\n",
       "    <tr>\n",
       "      <th>0</th>\n",
       "      <td>-generaldebellis</td>\n",
       "      <td>Florida loves our Great Governor DeSantis</td>\n",
       "    </tr>\n",
       "    <tr>\n",
       "      <th>1</th>\n",
       "      <td>0</td>\n",
       "      <td>Free speech is a beautiful thing thank you   f...</td>\n",
       "    </tr>\n",
       "    <tr>\n",
       "      <th>2</th>\n",
       "      <td>0000000000000111</td>\n",
       "      <td>If I could wrap my hands around your throat, I...</td>\n",
       "    </tr>\n",
       "    <tr>\n",
       "      <th>3</th>\n",
       "      <td>00004kaptain</td>\n",
       "      <td>These Black female soldiers brought order to c...</td>\n",
       "    </tr>\n",
       "    <tr>\n",
       "      <th>4</th>\n",
       "      <td>0019</td>\n",
       "      <td>لا عاد ما نبي نجيب كلمة هوامير معنا نبي نخترع ...</td>\n",
       "    </tr>\n",
       "  </tbody>\n",
       "</table>\n",
       "</div>"
      ],
      "text/plain": [
       "           username                                               body\n",
       "0  -generaldebellis          Florida loves our Great Governor DeSantis\n",
       "1                 0  Free speech is a beautiful thing thank you   f...\n",
       "2  0000000000000111  If I could wrap my hands around your throat, I...\n",
       "3      00004kaptain  These Black female soldiers brought order to c...\n",
       "4              0019  لا عاد ما نبي نجيب كلمة هوامير معنا نبي نخترع ..."
      ]
     },
     "execution_count": 5,
     "metadata": {},
     "output_type": "execute_result"
    }
   ],
   "source": [
    "df.head()"
   ]
  },
  {
   "cell_type": "markdown",
   "id": "4c1a7293-ecd1-4ccb-a738-d57bdab1603a",
   "metadata": {},
   "source": [
    "## Train test split"
   ]
  },
  {
   "cell_type": "code",
   "execution_count": 6,
   "id": "f9e46860-2098-4d4c-a95c-9b5bcd166dd6",
   "metadata": {},
   "outputs": [],
   "source": [
    "X = df['body']"
   ]
  },
  {
   "cell_type": "code",
   "execution_count": 7,
   "id": "14fa2969-ccf7-4f5b-9853-1459b1142455",
   "metadata": {},
   "outputs": [],
   "source": [
    "X_train, X_test = train_test_split(X, test_size=0.1, random_state=42)"
   ]
  },
  {
   "cell_type": "markdown",
   "id": "08c74735-f3f5-49f0-b1a0-c9b21e968e22",
   "metadata": {},
   "source": [
    "## Count Vectorize"
   ]
  },
  {
   "cell_type": "code",
   "execution_count": 26,
   "id": "819e35b1-1f14-49c8-96ea-234acb01ed3d",
   "metadata": {},
   "outputs": [],
   "source": [
    "default_words = list(CountVectorizer(stop_words='english').get_stop_words())\n",
    "my_additions = ['ve', 're']\n",
    "custom_stopwords = default_words + my_additions "
   ]
  },
  {
   "cell_type": "code",
   "execution_count": 27,
   "id": "a3576b0c-1dfb-4cb4-ba42-f76024b2bf5c",
   "metadata": {},
   "outputs": [
    {
     "data": {
      "text/html": [
       "<div>\n",
       "<style scoped>\n",
       "    .dataframe tbody tr th:only-of-type {\n",
       "        vertical-align: middle;\n",
       "    }\n",
       "\n",
       "    .dataframe tbody tr th {\n",
       "        vertical-align: top;\n",
       "    }\n",
       "\n",
       "    .dataframe thead th {\n",
       "        text-align: right;\n",
       "    }\n",
       "</style>\n",
       "<table border=\"1\" class=\"dataframe\">\n",
       "  <thead>\n",
       "    <tr style=\"text-align: right;\">\n",
       "      <th></th>\n",
       "      <th>00</th>\n",
       "      <th>000</th>\n",
       "      <th>00pm</th>\n",
       "      <th>01</th>\n",
       "      <th>02</th>\n",
       "      <th>03</th>\n",
       "      <th>038</th>\n",
       "      <th>04</th>\n",
       "      <th>05</th>\n",
       "      <th>06</th>\n",
       "      <th>...</th>\n",
       "      <th>گفتم</th>\n",
       "      <th>گفتن</th>\n",
       "      <th>گوش</th>\n",
       "      <th>گیر</th>\n",
       "      <th>یا</th>\n",
       "      <th>یادت</th>\n",
       "      <th>یعنی</th>\n",
       "      <th>یه</th>\n",
       "      <th>یک</th>\n",
       "      <th>یکی</th>\n",
       "    </tr>\n",
       "  </thead>\n",
       "  <tbody>\n",
       "    <tr>\n",
       "      <th>0</th>\n",
       "      <td>0</td>\n",
       "      <td>0</td>\n",
       "      <td>0</td>\n",
       "      <td>0</td>\n",
       "      <td>0</td>\n",
       "      <td>0</td>\n",
       "      <td>0</td>\n",
       "      <td>0</td>\n",
       "      <td>0</td>\n",
       "      <td>0</td>\n",
       "      <td>...</td>\n",
       "      <td>0</td>\n",
       "      <td>0</td>\n",
       "      <td>0</td>\n",
       "      <td>0</td>\n",
       "      <td>0</td>\n",
       "      <td>0</td>\n",
       "      <td>0</td>\n",
       "      <td>0</td>\n",
       "      <td>0</td>\n",
       "      <td>0</td>\n",
       "    </tr>\n",
       "    <tr>\n",
       "      <th>1</th>\n",
       "      <td>0</td>\n",
       "      <td>0</td>\n",
       "      <td>0</td>\n",
       "      <td>0</td>\n",
       "      <td>0</td>\n",
       "      <td>0</td>\n",
       "      <td>0</td>\n",
       "      <td>0</td>\n",
       "      <td>0</td>\n",
       "      <td>0</td>\n",
       "      <td>...</td>\n",
       "      <td>0</td>\n",
       "      <td>0</td>\n",
       "      <td>0</td>\n",
       "      <td>0</td>\n",
       "      <td>0</td>\n",
       "      <td>0</td>\n",
       "      <td>0</td>\n",
       "      <td>0</td>\n",
       "      <td>0</td>\n",
       "      <td>0</td>\n",
       "    </tr>\n",
       "  </tbody>\n",
       "</table>\n",
       "<p>2 rows × 16929 columns</p>\n",
       "</div>"
      ],
      "text/plain": [
       "   00  000  00pm  01  02  03  038  04  05  06  ...  گفتم  گفتن  گوش  گیر  یا  \\\n",
       "0   0    0     0   0   0   0    0   0   0   0  ...     0     0    0    0   0   \n",
       "1   0    0     0   0   0   0    0   0   0   0  ...     0     0    0    0   0   \n",
       "\n",
       "   یادت  یعنی  یه  یک  یکی  \n",
       "0     0     0   0   0    0  \n",
       "1     0     0   0   0    0  \n",
       "\n",
       "[2 rows x 16929 columns]"
      ]
     },
     "execution_count": 27,
     "metadata": {},
     "output_type": "execute_result"
    }
   ],
   "source": [
    "cv = CountVectorizer(min_df = 3, \n",
    "                     stop_words = custom_stopwords,  \n",
    "                )\n",
    "cv.fit(X_train)\n",
    "\n",
    "cv_train = cv.transform(X_train)\n",
    "cv_test = cv.transform(X_test)\n",
    "cv_df = pd.DataFrame(cv_train.todense(), columns=cv.get_feature_names_out())\n",
    "cv_df.head(2)"
   ]
  },
  {
   "cell_type": "markdown",
   "id": "d7f1fd8e-bd47-45eb-b9d7-974469b5029b",
   "metadata": {},
   "source": [
    "## Fit LDA model"
   ]
  },
  {
   "cell_type": "code",
   "execution_count": 28,
   "id": "9a8cc7e4-0936-48fa-a2e0-e44a7e4fb780",
   "metadata": {},
   "outputs": [
    {
     "data": {
      "text/plain": [
       "LatentDirichletAllocation(n_components=5, random_state=42)"
      ]
     },
     "execution_count": 28,
     "metadata": {},
     "output_type": "execute_result"
    }
   ],
   "source": [
    "lda = LatentDirichletAllocation(n_components=5, \n",
    "                                random_state=42\n",
    "                               )\n",
    "lda.fit(cv_train)"
   ]
  },
  {
   "cell_type": "code",
   "execution_count": 29,
   "id": "2b8150bb-5ab5-488d-af9a-2e77b50385fb",
   "metadata": {},
   "outputs": [
    {
     "data": {
      "text/plain": [
       "5"
      ]
     },
     "execution_count": 29,
     "metadata": {},
     "output_type": "execute_result"
    }
   ],
   "source": [
    "len(lda.components_)"
   ]
  },
  {
   "cell_type": "code",
   "execution_count": 30,
   "id": "bd3f6c19-ae95-493c-ab72-ffd92414f71b",
   "metadata": {},
   "outputs": [
    {
     "name": "stdout",
     "output_type": "stream",
     "text": [
      "16929\n",
      "16929\n",
      "16929\n",
      "16929\n",
      "16929\n"
     ]
    }
   ],
   "source": [
    "for each in lda.components_:\n",
    "    print(len(each))"
   ]
  },
  {
   "cell_type": "code",
   "execution_count": 31,
   "id": "4559e406-5aff-4229-8d09-0fd27a53736b",
   "metadata": {},
   "outputs": [],
   "source": [
    "features = cv.get_feature_names_out()"
   ]
  },
  {
   "cell_type": "code",
   "execution_count": 32,
   "id": "00e93cf6-2d9f-41a0-a8bf-d2745c849114",
   "metadata": {},
   "outputs": [
    {
     "name": "stdout",
     "output_type": "stream",
     "text": [
      "Topic 0:\n",
      "trump\n",
      "news\n",
      "biden\n",
      "election\n",
      "president\n",
      "fox\n",
      "vote\n",
      "yes\n",
      "votes\n",
      "watch\n",
      "\n",
      "Topic 1:\n",
      "like\n",
      "just\n",
      "lol\n",
      "don\n",
      "know\n",
      "right\n",
      "good\n",
      "got\n",
      "think\n",
      "ll\n",
      "\n",
      "Topic 2:\n",
      "twitter\n",
      "thanks\n",
      "man\n",
      "covid\n",
      "know\n",
      "good\n",
      "yep\n",
      "facebook\n",
      "new\n",
      "vaccine\n",
      "\n",
      "Topic 3:\n",
      "people\n",
      "trump\n",
      "just\n",
      "don\n",
      "time\n",
      "president\n",
      "going\n",
      "biden\n",
      "need\n",
      "country\n",
      "\n",
      "Topic 4:\n",
      "god\n",
      "thank\n",
      "love\n",
      "great\n",
      "president\n",
      "good\n",
      "amen\n",
      "people\n",
      "bless\n",
      "truth\n",
      "\n"
     ]
    }
   ],
   "source": [
    "def display_topics(model, feature_names, num_words):\n",
    "    for ix, topic in enumerate(model.components_):\n",
    "        print(f'Topic {ix}:')\n",
    "        words = [feature_names[i] for i in topic.argsort()[:-num_words - 1:-1]]\n",
    "        print('\\n'.join(words))\n",
    "        print()\n",
    "\n",
    "\n",
    "display_topics(lda, features, 10)"
   ]
  },
  {
   "cell_type": "code",
   "execution_count": 33,
   "id": "485c2487-3238-4565-9106-1df4530500c3",
   "metadata": {},
   "outputs": [
    {
     "data": {
      "text/plain": [
       "LatentDirichletAllocation(n_components=8, random_state=42)"
      ]
     },
     "execution_count": 33,
     "metadata": {},
     "output_type": "execute_result"
    }
   ],
   "source": [
    "lda_8 = LatentDirichletAllocation(n_components=8, \n",
    "                                random_state=42\n",
    "                               )\n",
    "lda_8.fit(cv_train)"
   ]
  },
  {
   "cell_type": "code",
   "execution_count": 34,
   "id": "fa43e8ee-f00b-414b-9d87-50c40723f5a9",
   "metadata": {
    "tags": []
   },
   "outputs": [
    {
     "data": {
      "text/plain": [
       "8"
      ]
     },
     "execution_count": 34,
     "metadata": {},
     "output_type": "execute_result"
    }
   ],
   "source": [
    "len(lda_8.components_)"
   ]
  },
  {
   "cell_type": "code",
   "execution_count": 35,
   "id": "0aa87169-b209-41d2-87f9-88d6a932990a",
   "metadata": {},
   "outputs": [
    {
     "name": "stdout",
     "output_type": "stream",
     "text": [
      "Topic 0:\n",
      "news\n",
      "trump\n",
      "fox\n",
      "yes\n",
      "watch\n",
      "new\n",
      "maga\n",
      "trump2020\n",
      "video\n",
      "biden\n",
      "\n",
      "Topic 1:\n",
      "just\n",
      "right\n",
      "like\n",
      "ll\n",
      "know\n",
      "got\n",
      "better\n",
      "said\n",
      "trump\n",
      "true\n",
      "\n",
      "Topic 2:\n",
      "twitter\n",
      "thanks\n",
      "facebook\n",
      "من\n",
      "fb\n",
      "share\n",
      "hi\n",
      "bye\n",
      "بس\n",
      "انا\n",
      "\n",
      "Topic 3:\n",
      "trump\n",
      "president\n",
      "election\n",
      "biden\n",
      "vote\n",
      "fraud\n",
      "people\n",
      "going\n",
      "time\n",
      "need\n",
      "\n",
      "Topic 4:\n",
      "god\n",
      "thank\n",
      "love\n",
      "president\n",
      "amen\n",
      "bless\n",
      "great\n",
      "truth\n",
      "trump\n",
      "america\n",
      "\n",
      "Topic 5:\n",
      "like\n",
      "que\n",
      "black\n",
      "white\n",
      "não\n",
      "sure\n",
      "just\n",
      "em\n",
      "com\n",
      "da\n",
      "\n",
      "Topic 6:\n",
      "people\n",
      "just\n",
      "don\n",
      "like\n",
      "country\n",
      "want\n",
      "know\n",
      "think\n",
      "time\n",
      "right\n",
      "\n",
      "Topic 7:\n",
      "people\n",
      "good\n",
      "like\n",
      "lol\n",
      "don\n",
      "just\n",
      "agree\n",
      "biden\n",
      "covid\n",
      "joe\n",
      "\n"
     ]
    }
   ],
   "source": [
    "display_topics(lda_8, features, 10)"
   ]
  },
  {
   "cell_type": "code",
   "execution_count": 36,
   "id": "80843289-e43f-42e0-b120-eedb526e5ced",
   "metadata": {},
   "outputs": [
    {
     "data": {
      "text/plain": [
       "LatentDirichletAllocation(n_components=25, random_state=42)"
      ]
     },
     "execution_count": 36,
     "metadata": {},
     "output_type": "execute_result"
    }
   ],
   "source": [
    "lda_25 = LatentDirichletAllocation(n_components=25, \n",
    "                                random_state=42\n",
    "                               )\n",
    "lda_25.fit(cv_train)"
   ]
  },
  {
   "cell_type": "code",
   "execution_count": 37,
   "id": "5655bdc2-8bbc-4a26-8df4-e3932739c80c",
   "metadata": {
    "tags": []
   },
   "outputs": [
    {
     "data": {
      "text/plain": [
       "25"
      ]
     },
     "execution_count": 37,
     "metadata": {},
     "output_type": "execute_result"
    }
   ],
   "source": [
    "len(lda_25.components_)"
   ]
  },
  {
   "cell_type": "code",
   "execution_count": 38,
   "id": "c5331ecf-7dd3-424a-ac69-251b0d3fb175",
   "metadata": {},
   "outputs": [
    {
     "name": "stdout",
     "output_type": "stream",
     "text": [
      "Topic 0:\n",
      "states\n",
      "follow\n",
      "united\n",
      "red\n",
      "patriots\n",
      "lock\n",
      "funny\n",
      "hope\n",
      "blue\n",
      "traitors\n",
      "\n",
      "Topic 1:\n",
      "que\n",
      "em\n",
      "com\n",
      "não\n",
      "da\n",
      "ha\n",
      "se\n",
      "para\n",
      "um\n",
      "glad\n",
      "\n",
      "Topic 2:\n",
      "thanks\n",
      "من\n",
      "bye\n",
      "بس\n",
      "انا\n",
      "followed\n",
      "الله\n",
      "ما\n",
      "ya\n",
      "sorry\n",
      "\n",
      "Topic 3:\n",
      "china\n",
      "court\n",
      "supreme\n",
      "chinese\n",
      "war\n",
      "win\n",
      "going\n",
      "america\n",
      "trump\n",
      "case\n",
      "\n",
      "Topic 4:\n",
      "god\n",
      "thank\n",
      "bless\n",
      "president\n",
      "pray\n",
      "jesus\n",
      "evil\n",
      "lord\n",
      "america\n",
      "trump\n",
      "\n",
      "Topic 5:\n",
      "matter\n",
      "black\n",
      "christmas\n",
      "lives\n",
      "la\n",
      "said\n",
      "hello\n",
      "merry\n",
      "like\n",
      "el\n",
      "\n",
      "Topic 6:\n",
      "just\n",
      "like\n",
      "hey\n",
      "democrats\n",
      "country\n",
      "bitch\n",
      "people\n",
      "stupid\n",
      "dumb\n",
      "time\n",
      "\n",
      "Topic 7:\n",
      "good\n",
      "lol\n",
      "like\n",
      "exactly\n",
      "day\n",
      "people\n",
      "idea\n",
      "oh\n",
      "just\n",
      "great\n",
      "\n",
      "Topic 8:\n",
      "people\n",
      "just\n",
      "trump\n",
      "know\n",
      "way\n",
      "country\n",
      "corrupt\n",
      "state\n",
      "need\n",
      "right\n",
      "\n",
      "Topic 9:\n",
      "like\n",
      "mask\n",
      "echo\n",
      "virus\n",
      "looks\n",
      "masks\n",
      "going\n",
      "let\n",
      "just\n",
      "covid\n",
      "\n",
      "Topic 10:\n",
      "soros\n",
      "just\n",
      "new\n",
      "patriot\n",
      "usa\n",
      "biden\n",
      "george\n",
      "kamala\n",
      "interesting\n",
      "harris\n",
      "\n",
      "Topic 11:\n",
      "term\n",
      "truth\n",
      "makes\n",
      "sick\n",
      "limits\n",
      "just\n",
      "listen\n",
      "haha\n",
      "years\n",
      "knows\n",
      "\n",
      "Topic 12:\n",
      "time\n",
      "law\n",
      "police\n",
      "yeah\n",
      "hell\n",
      "better\n",
      "people\n",
      "just\n",
      "share\n",
      "long\n",
      "\n",
      "Topic 13:\n",
      "great\n",
      "awesome\n",
      "did\n",
      "people\n",
      "make\n",
      "job\n",
      "big\n",
      "work\n",
      "good\n",
      "america\n",
      "\n",
      "Topic 14:\n",
      "twitter\n",
      "maga\n",
      "vote\n",
      "trump\n",
      "trump2020\n",
      "facebook\n",
      "republican\n",
      "stand\n",
      "needs\n",
      "president\n",
      "\n",
      "Topic 15:\n",
      "people\n",
      "american\n",
      "biden\n",
      "america\n",
      "country\n",
      "evil\n",
      "human\n",
      "racist\n",
      "believe\n",
      "way\n",
      "\n",
      "Topic 16:\n",
      "nice\n",
      "white\n",
      "just\n",
      "people\n",
      "yep\n",
      "say\n",
      "don\n",
      "crazy\n",
      "like\n",
      "know\n",
      "\n",
      "Topic 17:\n",
      "fbi\n",
      "fuck\n",
      "trump\n",
      "people\n",
      "idiot\n",
      "biden\n",
      "like\n",
      "obama\n",
      "doj\n",
      "real\n",
      "\n",
      "Topic 18:\n",
      "money\n",
      "wow\n",
      "party\n",
      "pelosi\n",
      "app\n",
      "account\n",
      "democrat\n",
      "tax\n",
      "fb\n",
      "nancy\n",
      "\n",
      "Topic 19:\n",
      "don\n",
      "know\n",
      "people\n",
      "think\n",
      "want\n",
      "just\n",
      "like\n",
      "believe\n",
      "really\n",
      "right\n",
      "\n",
      "Topic 20:\n",
      "yes\n",
      "absolutely\n",
      "ass\n",
      "need\n",
      "just\n",
      "hi\n",
      "nope\n",
      "loser\n",
      "bastards\n",
      "fact\n",
      "\n",
      "Topic 21:\n",
      "pos\n",
      "traitor\n",
      "fucking\n",
      "agreed\n",
      "antifa\n",
      "fuck\n",
      "like\n",
      "asshole\n",
      "blm\n",
      "bullshit\n",
      "\n",
      "Topic 22:\n",
      "love\n",
      "amen\n",
      "freedom\n",
      "free\n",
      "speech\n",
      "work\n",
      "brother\n",
      "swamp\n",
      "america\n",
      "justice\n",
      "\n",
      "Topic 23:\n",
      "news\n",
      "fox\n",
      "right\n",
      "agree\n",
      "watch\n",
      "true\n",
      "fake\n",
      "video\n",
      "watching\n",
      "cnn\n",
      "\n",
      "Topic 24:\n",
      "trump\n",
      "president\n",
      "election\n",
      "biden\n",
      "fraud\n",
      "votes\n",
      "vote\n",
      "state\n",
      "2020\n",
      "ballots\n",
      "\n"
     ]
    }
   ],
   "source": [
    "display_topics(lda_25, features, 10)"
   ]
  },
  {
   "cell_type": "markdown",
   "id": "86dffebc-29f3-4ce8-b9d6-495268070dd7",
   "metadata": {
    "tags": []
   },
   "source": [
    "## Examine words in topics"
   ]
  },
  {
   "cell_type": "code",
   "execution_count": null,
   "id": "535055b7-e159-4df9-a739-2a70e352b50a",
   "metadata": {},
   "outputs": [],
   "source": []
  }
 ],
 "metadata": {
  "kernelspec": {
   "display_name": "Python 3 (ipykernel)",
   "language": "python",
   "name": "python3"
  },
  "language_info": {
   "codemirror_mode": {
    "name": "ipython",
    "version": 3
   },
   "file_extension": ".py",
   "mimetype": "text/x-python",
   "name": "python",
   "nbconvert_exporter": "python",
   "pygments_lexer": "ipython3",
   "version": "3.9.7"
  }
 },
 "nbformat": 4,
 "nbformat_minor": 5
}
