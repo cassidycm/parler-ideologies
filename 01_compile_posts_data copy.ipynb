{
 "cells": [
  {
   "cell_type": "markdown",
   "id": "7c947312-e26e-4a95-903b-3c77969dbea0",
   "metadata": {},
   "source": [
    "# Compile post data from json format "
   ]
  },
  {
   "cell_type": "markdown",
   "id": "fdfe48d0-7d55-47f1-9518-25d84d148005",
   "metadata": {},
   "source": [
    "Read in 166 ndjson files. Perform preliminary EDA on several to understand structure. Drop null values in text columns. Export a subset of a json to use as a sample dataset for preliminary modeling. Compile all posts into 1 dataframe. Export as a csv. "
   ]
  },
  {
   "cell_type": "code",
   "execution_count": 1,
   "id": "777b3250-ab03-42b2-982e-ff8c6febb2a0",
   "metadata": {},
   "outputs": [],
   "source": [
    "import pandas as pd\n",
    "import numpy as np \n",
    "import matplotlib.pyplot as plt\n",
    "\n",
    "pd.set_option('display.max_columns', None)"
   ]
  },
  {
   "cell_type": "code",
   "execution_count": 3,
   "id": "87fce16f-d2c1-4d58-8166-826f79caa19e",
   "metadata": {},
   "outputs": [],
   "source": [
    "# df = pd.read_json('data/raw_ndjson/parler_data/parler_data000000000000.ndjson', lines=True)"
   ]
  },
  {
   "cell_type": "code",
   "execution_count": 4,
   "id": "defd2e2e-717e-424b-9eab-ff758ff9a065",
   "metadata": {},
   "outputs": [
    {
     "data": {
      "text/plain": [
       "(1094836, 38)"
      ]
     },
     "execution_count": 4,
     "metadata": {},
     "output_type": "execute_result"
    }
   ],
   "source": [
    "df.shape"
   ]
  },
  {
   "cell_type": "code",
   "execution_count": 5,
   "id": "752ad534-9a6e-4d34-86f9-7b646f6cf842",
   "metadata": {},
   "outputs": [
    {
     "data": {
      "text/html": [
       "<div>\n",
       "<style scoped>\n",
       "    .dataframe tbody tr th:only-of-type {\n",
       "        vertical-align: middle;\n",
       "    }\n",
       "\n",
       "    .dataframe tbody tr th {\n",
       "        vertical-align: top;\n",
       "    }\n",
       "\n",
       "    .dataframe thead th {\n",
       "        text-align: right;\n",
       "    }\n",
       "</style>\n",
       "<table border=\"1\" class=\"dataframe\">\n",
       "  <thead>\n",
       "    <tr style=\"text-align: right;\">\n",
       "      <th></th>\n",
       "      <th>comments</th>\n",
       "      <th>body</th>\n",
       "      <th>bodywithurls</th>\n",
       "      <th>createdAt</th>\n",
       "      <th>createdAtformatted</th>\n",
       "      <th>creator</th>\n",
       "      <th>datatype</th>\n",
       "      <th>depth</th>\n",
       "      <th>depthRaw</th>\n",
       "      <th>followers</th>\n",
       "      <th>following</th>\n",
       "      <th>hashtags</th>\n",
       "      <th>id</th>\n",
       "      <th>lastseents</th>\n",
       "      <th>links</th>\n",
       "      <th>media</th>\n",
       "      <th>parent</th>\n",
       "      <th>posts</th>\n",
       "      <th>sensitive</th>\n",
       "      <th>upvotes</th>\n",
       "      <th>urls</th>\n",
       "      <th>username</th>\n",
       "      <th>verified</th>\n",
       "      <th>article</th>\n",
       "      <th>impressions</th>\n",
       "      <th>preview</th>\n",
       "      <th>reposts</th>\n",
       "      <th>state</th>\n",
       "      <th>shareLink</th>\n",
       "      <th>color</th>\n",
       "      <th>commentDepth</th>\n",
       "      <th>controversy</th>\n",
       "      <th>conversation</th>\n",
       "      <th>downvotes</th>\n",
       "      <th>post</th>\n",
       "      <th>replyingTo</th>\n",
       "      <th>score</th>\n",
       "      <th>isPrimary</th>\n",
       "    </tr>\n",
       "  </thead>\n",
       "  <tbody>\n",
       "    <tr>\n",
       "      <th>0</th>\n",
       "      <td>2</td>\n",
       "      <td></td>\n",
       "      <td>\\n</td>\n",
       "      <td>2.020121e+13</td>\n",
       "      <td>2020-12-06 15:18:47 UTC</td>\n",
       "      <td>b998a02793634bd1b4e44ad3d0c3b232</td>\n",
       "      <td>posts</td>\n",
       "      <td>6.0</td>\n",
       "      <td>6.0</td>\n",
       "      <td>1300.0</td>\n",
       "      <td>1700.0</td>\n",
       "      <td>[]</td>\n",
       "      <td>5e45cc71596e45a6848fd83f9549a4f7</td>\n",
       "      <td>2020-12-27T23:10:12.767005+00:00</td>\n",
       "      <td>[]</td>\n",
       "      <td>0.0</td>\n",
       "      <td>7cd079512daf4a2e9af3a78f1038dc12</td>\n",
       "      <td>4200.0</td>\n",
       "      <td>0.0</td>\n",
       "      <td>32.0</td>\n",
       "      <td>[]</td>\n",
       "      <td>Dbeachdlb4</td>\n",
       "      <td>0.0</td>\n",
       "      <td>0.0</td>\n",
       "      <td>1700.0</td>\n",
       "      <td></td>\n",
       "      <td>21.0</td>\n",
       "      <td>4.0</td>\n",
       "      <td>NaN</td>\n",
       "      <td>NaN</td>\n",
       "      <td>NaN</td>\n",
       "      <td>NaN</td>\n",
       "      <td>NaN</td>\n",
       "      <td>NaN</td>\n",
       "      <td>NaN</td>\n",
       "      <td>NaN</td>\n",
       "      <td>NaN</td>\n",
       "      <td>NaN</td>\n",
       "    </tr>\n",
       "    <tr>\n",
       "      <th>1</th>\n",
       "      <td>-1</td>\n",
       "      <td></td>\n",
       "      <td>\\n</td>\n",
       "      <td>2.020112e+13</td>\n",
       "      <td>2020-11-23 11:46:20 UTC</td>\n",
       "      <td>436362cdd252424a994e6eded06183cd</td>\n",
       "      <td>posts</td>\n",
       "      <td>7.0</td>\n",
       "      <td>7.0</td>\n",
       "      <td>7.0</td>\n",
       "      <td>34.0</td>\n",
       "      <td>[]</td>\n",
       "      <td>6f23e4b3e12f45bf91736e3e0e992ce1</td>\n",
       "      <td>2021-01-09T12:00:26.787736+00:00</td>\n",
       "      <td>[]</td>\n",
       "      <td>0.0</td>\n",
       "      <td>232fd7a7928f4f62a19de3cc6548335c</td>\n",
       "      <td>30.0</td>\n",
       "      <td>0.0</td>\n",
       "      <td>4800.0</td>\n",
       "      <td>[]</td>\n",
       "      <td>ComREguy</td>\n",
       "      <td>0.0</td>\n",
       "      <td>0.0</td>\n",
       "      <td>276000.0</td>\n",
       "      <td></td>\n",
       "      <td>8500.0</td>\n",
       "      <td>4.0</td>\n",
       "      <td>NaN</td>\n",
       "      <td>NaN</td>\n",
       "      <td>NaN</td>\n",
       "      <td>NaN</td>\n",
       "      <td>NaN</td>\n",
       "      <td>NaN</td>\n",
       "      <td>NaN</td>\n",
       "      <td>NaN</td>\n",
       "      <td>NaN</td>\n",
       "      <td>NaN</td>\n",
       "    </tr>\n",
       "    <tr>\n",
       "      <th>2</th>\n",
       "      <td>1</td>\n",
       "      <td></td>\n",
       "      <td>\\n</td>\n",
       "      <td>2.020110e+13</td>\n",
       "      <td>2020-11-02 12:51:01 UTC</td>\n",
       "      <td>f34f55277e02489baffc0ac0a9a0a556</td>\n",
       "      <td>posts</td>\n",
       "      <td>7.0</td>\n",
       "      <td>7.0</td>\n",
       "      <td>1900.0</td>\n",
       "      <td>1300.0</td>\n",
       "      <td>[]</td>\n",
       "      <td>ceb74aa6aa6244ecb34f9c7b61f555f0</td>\n",
       "      <td>2020-12-16T14:12:40.581380+00:00</td>\n",
       "      <td>[]</td>\n",
       "      <td>0.0</td>\n",
       "      <td>2828b0792ea248e89c66e9d9f2646fa5</td>\n",
       "      <td>14000.0</td>\n",
       "      <td>0.0</td>\n",
       "      <td>15.0</td>\n",
       "      <td>[]</td>\n",
       "      <td>Burtbill01</td>\n",
       "      <td>0.0</td>\n",
       "      <td>0.0</td>\n",
       "      <td>355.0</td>\n",
       "      <td></td>\n",
       "      <td>15.0</td>\n",
       "      <td>4.0</td>\n",
       "      <td>NaN</td>\n",
       "      <td>NaN</td>\n",
       "      <td>NaN</td>\n",
       "      <td>NaN</td>\n",
       "      <td>NaN</td>\n",
       "      <td>NaN</td>\n",
       "      <td>NaN</td>\n",
       "      <td>NaN</td>\n",
       "      <td>NaN</td>\n",
       "      <td>NaN</td>\n",
       "    </tr>\n",
       "    <tr>\n",
       "      <th>3</th>\n",
       "      <td>2</td>\n",
       "      <td></td>\n",
       "      <td>\\n</td>\n",
       "      <td>2.019123e+13</td>\n",
       "      <td>2019-12-31 18:45:27 UTC</td>\n",
       "      <td>d815bc3235eb4170b1583544cf1d9093</td>\n",
       "      <td>posts</td>\n",
       "      <td>7.0</td>\n",
       "      <td>7.0</td>\n",
       "      <td>5800.0</td>\n",
       "      <td>5900.0</td>\n",
       "      <td>[]</td>\n",
       "      <td>0022d9956c5648458b34cec400ba8145</td>\n",
       "      <td>2020-12-27T04:59:58.301925+00:00</td>\n",
       "      <td>[]</td>\n",
       "      <td>1.0</td>\n",
       "      <td>7c5da5a72c5343c783d8f89c56263182</td>\n",
       "      <td>25000.0</td>\n",
       "      <td>0.0</td>\n",
       "      <td>11.0</td>\n",
       "      <td>[]</td>\n",
       "      <td>Hopalong</td>\n",
       "      <td>0.0</td>\n",
       "      <td>0.0</td>\n",
       "      <td>23.0</td>\n",
       "      <td></td>\n",
       "      <td>20.0</td>\n",
       "      <td>4.0</td>\n",
       "      <td>NaN</td>\n",
       "      <td>NaN</td>\n",
       "      <td>NaN</td>\n",
       "      <td>NaN</td>\n",
       "      <td>NaN</td>\n",
       "      <td>NaN</td>\n",
       "      <td>NaN</td>\n",
       "      <td>NaN</td>\n",
       "      <td>NaN</td>\n",
       "      <td>NaN</td>\n",
       "    </tr>\n",
       "    <tr>\n",
       "      <th>4</th>\n",
       "      <td>-1</td>\n",
       "      <td></td>\n",
       "      <td>\\n</td>\n",
       "      <td>2.020122e+13</td>\n",
       "      <td>2020-12-17 15:28:22 UTC</td>\n",
       "      <td>d780380f83884fdeb1fe2f5120ec256f</td>\n",
       "      <td>posts</td>\n",
       "      <td>10.0</td>\n",
       "      <td>10.0</td>\n",
       "      <td>4500.0</td>\n",
       "      <td>4900.0</td>\n",
       "      <td>[]</td>\n",
       "      <td>87502fbd4f8c4736869790f090bf58ef</td>\n",
       "      <td>2021-01-09T12:45:19.268199+00:00</td>\n",
       "      <td>[]</td>\n",
       "      <td>8.0</td>\n",
       "      <td>24b25fea9c8b41e59f5d5d08ab2af554</td>\n",
       "      <td>20000.0</td>\n",
       "      <td>0.0</td>\n",
       "      <td>212.0</td>\n",
       "      <td>[]</td>\n",
       "      <td>Hcobeerman</td>\n",
       "      <td>0.0</td>\n",
       "      <td>0.0</td>\n",
       "      <td>6300.0</td>\n",
       "      <td></td>\n",
       "      <td>161.0</td>\n",
       "      <td>4.0</td>\n",
       "      <td>NaN</td>\n",
       "      <td>NaN</td>\n",
       "      <td>NaN</td>\n",
       "      <td>NaN</td>\n",
       "      <td>NaN</td>\n",
       "      <td>NaN</td>\n",
       "      <td>NaN</td>\n",
       "      <td>NaN</td>\n",
       "      <td>NaN</td>\n",
       "      <td>NaN</td>\n",
       "    </tr>\n",
       "  </tbody>\n",
       "</table>\n",
       "</div>"
      ],
      "text/plain": [
       "   comments body bodywithurls     createdAt       createdAtformatted  \\\n",
       "0         2                \\n  2.020121e+13  2020-12-06 15:18:47 UTC   \n",
       "1        -1                \\n  2.020112e+13  2020-11-23 11:46:20 UTC   \n",
       "2         1                \\n  2.020110e+13  2020-11-02 12:51:01 UTC   \n",
       "3         2                \\n  2.019123e+13  2019-12-31 18:45:27 UTC   \n",
       "4        -1                \\n  2.020122e+13  2020-12-17 15:28:22 UTC   \n",
       "\n",
       "                            creator datatype  depth  depthRaw  followers  \\\n",
       "0  b998a02793634bd1b4e44ad3d0c3b232    posts    6.0       6.0     1300.0   \n",
       "1  436362cdd252424a994e6eded06183cd    posts    7.0       7.0        7.0   \n",
       "2  f34f55277e02489baffc0ac0a9a0a556    posts    7.0       7.0     1900.0   \n",
       "3  d815bc3235eb4170b1583544cf1d9093    posts    7.0       7.0     5800.0   \n",
       "4  d780380f83884fdeb1fe2f5120ec256f    posts   10.0      10.0     4500.0   \n",
       "\n",
       "   following hashtags                                id  \\\n",
       "0     1700.0       []  5e45cc71596e45a6848fd83f9549a4f7   \n",
       "1       34.0       []  6f23e4b3e12f45bf91736e3e0e992ce1   \n",
       "2     1300.0       []  ceb74aa6aa6244ecb34f9c7b61f555f0   \n",
       "3     5900.0       []  0022d9956c5648458b34cec400ba8145   \n",
       "4     4900.0       []  87502fbd4f8c4736869790f090bf58ef   \n",
       "\n",
       "                         lastseents links  media  \\\n",
       "0  2020-12-27T23:10:12.767005+00:00    []    0.0   \n",
       "1  2021-01-09T12:00:26.787736+00:00    []    0.0   \n",
       "2  2020-12-16T14:12:40.581380+00:00    []    0.0   \n",
       "3  2020-12-27T04:59:58.301925+00:00    []    1.0   \n",
       "4  2021-01-09T12:45:19.268199+00:00    []    8.0   \n",
       "\n",
       "                             parent    posts  sensitive  upvotes urls  \\\n",
       "0  7cd079512daf4a2e9af3a78f1038dc12   4200.0        0.0     32.0   []   \n",
       "1  232fd7a7928f4f62a19de3cc6548335c     30.0        0.0   4800.0   []   \n",
       "2  2828b0792ea248e89c66e9d9f2646fa5  14000.0        0.0     15.0   []   \n",
       "3  7c5da5a72c5343c783d8f89c56263182  25000.0        0.0     11.0   []   \n",
       "4  24b25fea9c8b41e59f5d5d08ab2af554  20000.0        0.0    212.0   []   \n",
       "\n",
       "     username  verified  article  impressions preview  reposts  state  \\\n",
       "0  Dbeachdlb4       0.0      0.0       1700.0             21.0    4.0   \n",
       "1    ComREguy       0.0      0.0     276000.0           8500.0    4.0   \n",
       "2  Burtbill01       0.0      0.0        355.0             15.0    4.0   \n",
       "3    Hopalong       0.0      0.0         23.0             20.0    4.0   \n",
       "4  Hcobeerman       0.0      0.0       6300.0            161.0    4.0   \n",
       "\n",
       "  shareLink color  commentDepth  controversy conversation  downvotes post  \\\n",
       "0       NaN   NaN           NaN          NaN          NaN        NaN  NaN   \n",
       "1       NaN   NaN           NaN          NaN          NaN        NaN  NaN   \n",
       "2       NaN   NaN           NaN          NaN          NaN        NaN  NaN   \n",
       "3       NaN   NaN           NaN          NaN          NaN        NaN  NaN   \n",
       "4       NaN   NaN           NaN          NaN          NaN        NaN  NaN   \n",
       "\n",
       "  replyingTo  score  isPrimary  \n",
       "0        NaN    NaN        NaN  \n",
       "1        NaN    NaN        NaN  \n",
       "2        NaN    NaN        NaN  \n",
       "3        NaN    NaN        NaN  \n",
       "4        NaN    NaN        NaN  "
      ]
     },
     "execution_count": 5,
     "metadata": {},
     "output_type": "execute_result"
    }
   ],
   "source": [
    "df.head()"
   ]
  },
  {
   "cell_type": "code",
   "execution_count": 6,
   "id": "27a8f7f4-d85c-4bac-8163-ff3fee53847b",
   "metadata": {},
   "outputs": [
    {
     "data": {
      "text/plain": [
       "Index(['comments', 'body', 'bodywithurls', 'createdAt', 'createdAtformatted',\n",
       "       'creator', 'datatype', 'depth', 'depthRaw', 'followers', 'following',\n",
       "       'hashtags', 'id', 'lastseents', 'links', 'media', 'parent', 'posts',\n",
       "       'sensitive', 'upvotes', 'urls', 'username', 'verified', 'article',\n",
       "       'impressions', 'preview', 'reposts', 'state', 'shareLink', 'color',\n",
       "       'commentDepth', 'controversy', 'conversation', 'downvotes', 'post',\n",
       "       'replyingTo', 'score', 'isPrimary'],\n",
       "      dtype='object')"
      ]
     },
     "execution_count": 6,
     "metadata": {},
     "output_type": "execute_result"
    }
   ],
   "source": [
    "df.columns"
   ]
  },
  {
   "cell_type": "code",
   "execution_count": 7,
   "id": "70db304f-9332-41ff-bd48-b9a2937f26a5",
   "metadata": {},
   "outputs": [
    {
     "name": "stdout",
     "output_type": "stream",
     "text": [
      "<class 'pandas.core.frame.DataFrame'>\n",
      "RangeIndex: 1094836 entries, 0 to 1094835\n",
      "Data columns (total 38 columns):\n",
      " #   Column              Non-Null Count    Dtype  \n",
      "---  ------              --------------    -----  \n",
      " 0   comments            1094836 non-null  int64  \n",
      " 1   body                1094833 non-null  object \n",
      " 2   bodywithurls        1094806 non-null  object \n",
      " 3   createdAt           1094833 non-null  float64\n",
      " 4   createdAtformatted  1094833 non-null  object \n",
      " 5   creator             1094833 non-null  object \n",
      " 6   datatype            1094836 non-null  object \n",
      " 7   depth               1094833 non-null  float64\n",
      " 8   depthRaw            1094833 non-null  float64\n",
      " 9   followers           1094832 non-null  float64\n",
      " 10  following           1094832 non-null  float64\n",
      " 11  hashtags            1094836 non-null  object \n",
      " 12  id                  1094836 non-null  object \n",
      " 13  lastseents          1094836 non-null  object \n",
      " 14  links               1094836 non-null  object \n",
      " 15  media               1094832 non-null  float64\n",
      " 16  parent              971910 non-null   object \n",
      " 17  posts               1094832 non-null  float64\n",
      " 18  sensitive           1094833 non-null  float64\n",
      " 19  upvotes             1094833 non-null  float64\n",
      " 20  urls                1094836 non-null  object \n",
      " 21  username            1094834 non-null  object \n",
      " 22  verified            1094834 non-null  float64\n",
      " 23  article             569223 non-null   float64\n",
      " 24  impressions         589417 non-null   float64\n",
      " 25  preview             589417 non-null   object \n",
      " 26  reposts             589417 non-null   float64\n",
      " 27  state               555733 non-null   float64\n",
      " 28  shareLink           686375 non-null   object \n",
      " 29  color               505416 non-null   object \n",
      " 30  commentDepth        505416 non-null   float64\n",
      " 31  controversy         505416 non-null   float64\n",
      " 32  conversation        62014 non-null    object \n",
      " 33  downvotes           505416 non-null   float64\n",
      " 34  post                505416 non-null   object \n",
      " 35  replyingTo          42838 non-null    object \n",
      " 36  score               505419 non-null   float64\n",
      " 37  isPrimary           443402 non-null   float64\n",
      "dtypes: float64(19), int64(1), object(18)\n",
      "memory usage: 317.4+ MB\n"
     ]
    }
   ],
   "source": [
    "df.info()"
   ]
  },
  {
   "cell_type": "code",
   "execution_count": 8,
   "id": "4bbfd1b7-373a-4724-bacb-4ce6df43d31d",
   "metadata": {},
   "outputs": [],
   "source": [
    "# df.isna().sum()/len(df)*100"
   ]
  },
  {
   "cell_type": "code",
   "execution_count": 11,
   "id": "40a37d24-44de-44aa-9703-90a98f653e2f",
   "metadata": {},
   "outputs": [
    {
     "data": {
      "text/plain": [
       "<bound method Series.unique of 0           \n",
       "1           \n",
       "2           \n",
       "3           \n",
       "4           \n",
       "          ..\n",
       "1094831     \n",
       "1094832     \n",
       "1094833     \n",
       "1094834     \n",
       "1094835     \n",
       "Name: body, Length: 1094836, dtype: object>"
      ]
     },
     "execution_count": 11,
     "metadata": {},
     "output_type": "execute_result"
    }
   ],
   "source": [
    "df['body'].unique"
   ]
  },
  {
   "cell_type": "markdown",
   "id": "5c970fa8-d41f-4c17-8325-8b7546b933e6",
   "metadata": {},
   "source": [
    "None of the rows have post data - ommiting first ndjson (00) out of 166"
   ]
  },
  {
   "cell_type": "markdown",
   "id": "34e142a2-4ed6-4fa4-8da7-01b7341c6b86",
   "metadata": {},
   "source": [
    "#### Post data file 01: data/raw_ndjson/parler_data/parler_data000000000001.ndjson"
   ]
  },
  {
   "cell_type": "code",
   "execution_count": 2,
   "id": "39b155bd-7149-4585-8827-4dad647773af",
   "metadata": {},
   "outputs": [],
   "source": [
    "df1 = pd.read_json('data/raw_ndjson/parler_data/parler_data000000000001.ndjson', lines=True)"
   ]
  },
  {
   "cell_type": "code",
   "execution_count": 3,
   "id": "3bfc502a-0ccb-43cc-ba7d-31524cb04ee9",
   "metadata": {},
   "outputs": [],
   "source": [
    "df1.to_csv('data/posts_01_raw.csv', index=False)"
   ]
  },
  {
   "cell_type": "code",
   "execution_count": 10,
   "id": "1915205e-1035-4253-8f54-79d633fcd1cf",
   "metadata": {},
   "outputs": [
    {
     "data": {
      "text/plain": [
       "(1095287, 38)"
      ]
     },
     "execution_count": 10,
     "metadata": {},
     "output_type": "execute_result"
    }
   ],
   "source": [
    "df1.shape"
   ]
  },
  {
   "cell_type": "code",
   "execution_count": 11,
   "id": "f80465e3-c8a4-42e2-890a-9f659661d70f",
   "metadata": {},
   "outputs": [
    {
     "data": {
      "text/html": [
       "<div>\n",
       "<style scoped>\n",
       "    .dataframe tbody tr th:only-of-type {\n",
       "        vertical-align: middle;\n",
       "    }\n",
       "\n",
       "    .dataframe tbody tr th {\n",
       "        vertical-align: top;\n",
       "    }\n",
       "\n",
       "    .dataframe thead th {\n",
       "        text-align: right;\n",
       "    }\n",
       "</style>\n",
       "<table border=\"1\" class=\"dataframe\">\n",
       "  <thead>\n",
       "    <tr style=\"text-align: right;\">\n",
       "      <th></th>\n",
       "      <th>comments</th>\n",
       "      <th>body</th>\n",
       "      <th>bodywithurls</th>\n",
       "      <th>createdAt</th>\n",
       "      <th>createdAtformatted</th>\n",
       "      <th>creator</th>\n",
       "      <th>datatype</th>\n",
       "      <th>depth</th>\n",
       "      <th>depthRaw</th>\n",
       "      <th>followers</th>\n",
       "      <th>following</th>\n",
       "      <th>hashtags</th>\n",
       "      <th>id</th>\n",
       "      <th>lastseents</th>\n",
       "      <th>links</th>\n",
       "      <th>media</th>\n",
       "      <th>posts</th>\n",
       "      <th>sensitive</th>\n",
       "      <th>shareLink</th>\n",
       "      <th>upvotes</th>\n",
       "      <th>urls</th>\n",
       "      <th>username</th>\n",
       "      <th>verified</th>\n",
       "      <th>article</th>\n",
       "      <th>impressions</th>\n",
       "      <th>preview</th>\n",
       "      <th>reposts</th>\n",
       "      <th>state</th>\n",
       "      <th>parent</th>\n",
       "      <th>color</th>\n",
       "      <th>commentDepth</th>\n",
       "      <th>controversy</th>\n",
       "      <th>downvotes</th>\n",
       "      <th>post</th>\n",
       "      <th>score</th>\n",
       "      <th>isPrimary</th>\n",
       "      <th>conversation</th>\n",
       "      <th>replyingTo</th>\n",
       "    </tr>\n",
       "  </thead>\n",
       "  <tbody>\n",
       "    <tr>\n",
       "      <th>0</th>\n",
       "      <td>2</td>\n",
       "      <td>‪ CHILLS! \\n\\nI loved hearing Airforce Technic...</td>\n",
       "      <td>‪ CHILLS! \\n\\nI loved hearing Airforce Technic...</td>\n",
       "      <td>2.020022e+13</td>\n",
       "      <td>2020-02-16 23:15:56 UTC</td>\n",
       "      <td>59501f9de23142fdbecee0b6592eb17f</td>\n",
       "      <td>posts</td>\n",
       "      <td>0.0</td>\n",
       "      <td>0.0</td>\n",
       "      <td>12000.0</td>\n",
       "      <td>2900.0</td>\n",
       "      <td>[daytona500]</td>\n",
       "      <td>f2c55d1b981e4e109863cd7b30486a3f</td>\n",
       "      <td>2020-12-14T07:02:54.021284+00:00</td>\n",
       "      <td>[SyVr4]</td>\n",
       "      <td>4.0</td>\n",
       "      <td>682.0</td>\n",
       "      <td>0.0</td>\n",
       "      <td>https://parler.com/post/f2c55d1b981e4e109863cd...</td>\n",
       "      <td>31.0</td>\n",
       "      <td>[{'createdAt': '20200216231414', 'domain': 'tw...</td>\n",
       "      <td>Jamierodr14</td>\n",
       "      <td>0.0</td>\n",
       "      <td>0.0</td>\n",
       "      <td>2500.0</td>\n",
       "      <td>‪ CHILLS! \\n\\nI loved hearing Airforce Technic...</td>\n",
       "      <td>16.0</td>\n",
       "      <td>4.0</td>\n",
       "      <td>NaN</td>\n",
       "      <td>NaN</td>\n",
       "      <td>NaN</td>\n",
       "      <td>NaN</td>\n",
       "      <td>NaN</td>\n",
       "      <td>NaN</td>\n",
       "      <td>NaN</td>\n",
       "      <td>NaN</td>\n",
       "      <td>NaN</td>\n",
       "      <td>NaN</td>\n",
       "    </tr>\n",
       "    <tr>\n",
       "      <th>1</th>\n",
       "      <td>5</td>\n",
       "      <td></td>\n",
       "      <td>\\nhttps://gellerreport.com/2020/11/biden-appoi...</td>\n",
       "      <td>2.020112e+13</td>\n",
       "      <td>2020-11-17 18:35:01 UTC</td>\n",
       "      <td>785e1ba73a2e4cafab4b3fc237f9b760</td>\n",
       "      <td>posts</td>\n",
       "      <td>0.0</td>\n",
       "      <td>0.0</td>\n",
       "      <td>28000.0</td>\n",
       "      <td>21.0</td>\n",
       "      <td>[]</td>\n",
       "      <td>badf53315b9a4fc895d3f44c9d9f2726</td>\n",
       "      <td>2020-11-19T00:56:23.871143+00:00</td>\n",
       "      <td>[Ecaq8]</td>\n",
       "      <td>2.0</td>\n",
       "      <td>6500.0</td>\n",
       "      <td>0.0</td>\n",
       "      <td>https://parler.com/post/badf53315b9a4fc895d3f4...</td>\n",
       "      <td>53.0</td>\n",
       "      <td>[{'createdAt': '20201117183501', 'domain': 'ge...</td>\n",
       "      <td>gellerreport</td>\n",
       "      <td>0.0</td>\n",
       "      <td>1.0</td>\n",
       "      <td>4400.0</td>\n",
       "      <td></td>\n",
       "      <td>23.0</td>\n",
       "      <td>4.0</td>\n",
       "      <td>NaN</td>\n",
       "      <td>NaN</td>\n",
       "      <td>NaN</td>\n",
       "      <td>NaN</td>\n",
       "      <td>NaN</td>\n",
       "      <td>NaN</td>\n",
       "      <td>NaN</td>\n",
       "      <td>NaN</td>\n",
       "      <td>NaN</td>\n",
       "      <td>NaN</td>\n",
       "    </tr>\n",
       "    <tr>\n",
       "      <th>2</th>\n",
       "      <td>-1</td>\n",
       "      <td>Justice Department Zeroes In On Cuomo's COVID ...</td>\n",
       "      <td>Justice Department Zeroes In On Cuomo's COVID ...</td>\n",
       "      <td>2.020103e+13</td>\n",
       "      <td>2020-10-29 11:52:15 UTC</td>\n",
       "      <td>eff3c4bd3a114cd69b05786f5dce1dfe</td>\n",
       "      <td>posts</td>\n",
       "      <td>0.0</td>\n",
       "      <td>0.0</td>\n",
       "      <td>9700.0</td>\n",
       "      <td>5600.0</td>\n",
       "      <td>[]</td>\n",
       "      <td>0c4de495eaef430fb6fd8d5dc9be3453</td>\n",
       "      <td>2021-01-10T17:18:28.604038+00:00</td>\n",
       "      <td>[ZUNHN]</td>\n",
       "      <td>728.0</td>\n",
       "      <td>15000.0</td>\n",
       "      <td>0.0</td>\n",
       "      <td>https://parler.com/post/0c4de495eaef430fb6fd8d...</td>\n",
       "      <td>16.0</td>\n",
       "      <td>[{'createdAt': '20201028234744', 'domain': 'we...</td>\n",
       "      <td>FordCynthia01</td>\n",
       "      <td>0.0</td>\n",
       "      <td>1.0</td>\n",
       "      <td>678.0</td>\n",
       "      <td>Justice Department Zeroes In On Cuomo's COVID ...</td>\n",
       "      <td>10.0</td>\n",
       "      <td>4.0</td>\n",
       "      <td>NaN</td>\n",
       "      <td>NaN</td>\n",
       "      <td>NaN</td>\n",
       "      <td>NaN</td>\n",
       "      <td>NaN</td>\n",
       "      <td>NaN</td>\n",
       "      <td>NaN</td>\n",
       "      <td>NaN</td>\n",
       "      <td>NaN</td>\n",
       "      <td>NaN</td>\n",
       "    </tr>\n",
       "    <tr>\n",
       "      <th>3</th>\n",
       "      <td>-1</td>\n",
       "      <td>Interesting how ultra-liberal, hysterical, Hol...</td>\n",
       "      <td>Interesting how ultra-liberal, hysterical, Hol...</td>\n",
       "      <td>2.020071e+13</td>\n",
       "      <td>2020-07-05 16:15:00 UTC</td>\n",
       "      <td>81e389f14ce94420a41637214983e592</td>\n",
       "      <td>posts</td>\n",
       "      <td>0.0</td>\n",
       "      <td>0.0</td>\n",
       "      <td>86000.0</td>\n",
       "      <td>27000.0</td>\n",
       "      <td>[]</td>\n",
       "      <td>2f53cc11f5e541309a59cc89802b9c85</td>\n",
       "      <td>2021-01-09T04:37:17.398459+00:00</td>\n",
       "      <td>[DpZjt]</td>\n",
       "      <td>137.0</td>\n",
       "      <td>4300.0</td>\n",
       "      <td>0.0</td>\n",
       "      <td>https://parler.com/post/2f53cc11f5e541309a59cc...</td>\n",
       "      <td>52.0</td>\n",
       "      <td>[{'createdAt': '20200705161338', 'domain': 'da...</td>\n",
       "      <td>realwayneroot</td>\n",
       "      <td>1.0</td>\n",
       "      <td>1.0</td>\n",
       "      <td>4600.0</td>\n",
       "      <td>Interesting how ultra-liberal, hysterical, Hol...</td>\n",
       "      <td>33.0</td>\n",
       "      <td>4.0</td>\n",
       "      <td>NaN</td>\n",
       "      <td>NaN</td>\n",
       "      <td>NaN</td>\n",
       "      <td>NaN</td>\n",
       "      <td>NaN</td>\n",
       "      <td>NaN</td>\n",
       "      <td>NaN</td>\n",
       "      <td>NaN</td>\n",
       "      <td>NaN</td>\n",
       "      <td>NaN</td>\n",
       "    </tr>\n",
       "    <tr>\n",
       "      <th>4</th>\n",
       "      <td>4</td>\n",
       "      <td>Petraeus Says Trump May Have Restored U.S. 'De...</td>\n",
       "      <td>Petraeus Says Trump May Have Restored U.S. 'De...</td>\n",
       "      <td>2.020011e+13</td>\n",
       "      <td>2020-01-05 15:31:17 UTC</td>\n",
       "      <td>d75254e22386401c9a0a98d365eb2346</td>\n",
       "      <td>posts</td>\n",
       "      <td>0.0</td>\n",
       "      <td>0.0</td>\n",
       "      <td>34000.0</td>\n",
       "      <td>38000.0</td>\n",
       "      <td>[]</td>\n",
       "      <td>faffec7af75b46c7b7371b7ba90aaae1</td>\n",
       "      <td>2020-12-16T06:45:18.455536+00:00</td>\n",
       "      <td>[NZn95]</td>\n",
       "      <td>537.0</td>\n",
       "      <td>5800.0</td>\n",
       "      <td>0.0</td>\n",
       "      <td>https://parler.com/post/faffec7af75b46c7b7371b...</td>\n",
       "      <td>69.0</td>\n",
       "      <td>[{'createdAt': '20200104051704', 'domain': 'fo...</td>\n",
       "      <td>AuthorAvaarmstrong</td>\n",
       "      <td>0.0</td>\n",
       "      <td>1.0</td>\n",
       "      <td>66.0</td>\n",
       "      <td>Petraeus Says Trump May Have Restored U.S. 'De...</td>\n",
       "      <td>58.0</td>\n",
       "      <td>4.0</td>\n",
       "      <td>NaN</td>\n",
       "      <td>NaN</td>\n",
       "      <td>NaN</td>\n",
       "      <td>NaN</td>\n",
       "      <td>NaN</td>\n",
       "      <td>NaN</td>\n",
       "      <td>NaN</td>\n",
       "      <td>NaN</td>\n",
       "      <td>NaN</td>\n",
       "      <td>NaN</td>\n",
       "    </tr>\n",
       "  </tbody>\n",
       "</table>\n",
       "</div>"
      ],
      "text/plain": [
       "   comments                                               body  \\\n",
       "0         2  ‪ CHILLS! \\n\\nI loved hearing Airforce Technic...   \n",
       "1         5                                                      \n",
       "2        -1  Justice Department Zeroes In On Cuomo's COVID ...   \n",
       "3        -1  Interesting how ultra-liberal, hysterical, Hol...   \n",
       "4         4  Petraeus Says Trump May Have Restored U.S. 'De...   \n",
       "\n",
       "                                        bodywithurls     createdAt  \\\n",
       "0  ‪ CHILLS! \\n\\nI loved hearing Airforce Technic...  2.020022e+13   \n",
       "1  \\nhttps://gellerreport.com/2020/11/biden-appoi...  2.020112e+13   \n",
       "2  Justice Department Zeroes In On Cuomo's COVID ...  2.020103e+13   \n",
       "3  Interesting how ultra-liberal, hysterical, Hol...  2.020071e+13   \n",
       "4  Petraeus Says Trump May Have Restored U.S. 'De...  2.020011e+13   \n",
       "\n",
       "        createdAtformatted                           creator datatype  depth  \\\n",
       "0  2020-02-16 23:15:56 UTC  59501f9de23142fdbecee0b6592eb17f    posts    0.0   \n",
       "1  2020-11-17 18:35:01 UTC  785e1ba73a2e4cafab4b3fc237f9b760    posts    0.0   \n",
       "2  2020-10-29 11:52:15 UTC  eff3c4bd3a114cd69b05786f5dce1dfe    posts    0.0   \n",
       "3  2020-07-05 16:15:00 UTC  81e389f14ce94420a41637214983e592    posts    0.0   \n",
       "4  2020-01-05 15:31:17 UTC  d75254e22386401c9a0a98d365eb2346    posts    0.0   \n",
       "\n",
       "   depthRaw  followers  following      hashtags  \\\n",
       "0       0.0    12000.0     2900.0  [daytona500]   \n",
       "1       0.0    28000.0       21.0            []   \n",
       "2       0.0     9700.0     5600.0            []   \n",
       "3       0.0    86000.0    27000.0            []   \n",
       "4       0.0    34000.0    38000.0            []   \n",
       "\n",
       "                                 id                        lastseents  \\\n",
       "0  f2c55d1b981e4e109863cd7b30486a3f  2020-12-14T07:02:54.021284+00:00   \n",
       "1  badf53315b9a4fc895d3f44c9d9f2726  2020-11-19T00:56:23.871143+00:00   \n",
       "2  0c4de495eaef430fb6fd8d5dc9be3453  2021-01-10T17:18:28.604038+00:00   \n",
       "3  2f53cc11f5e541309a59cc89802b9c85  2021-01-09T04:37:17.398459+00:00   \n",
       "4  faffec7af75b46c7b7371b7ba90aaae1  2020-12-16T06:45:18.455536+00:00   \n",
       "\n",
       "     links  media    posts  sensitive  \\\n",
       "0  [SyVr4]    4.0    682.0        0.0   \n",
       "1  [Ecaq8]    2.0   6500.0        0.0   \n",
       "2  [ZUNHN]  728.0  15000.0        0.0   \n",
       "3  [DpZjt]  137.0   4300.0        0.0   \n",
       "4  [NZn95]  537.0   5800.0        0.0   \n",
       "\n",
       "                                           shareLink  upvotes  \\\n",
       "0  https://parler.com/post/f2c55d1b981e4e109863cd...     31.0   \n",
       "1  https://parler.com/post/badf53315b9a4fc895d3f4...     53.0   \n",
       "2  https://parler.com/post/0c4de495eaef430fb6fd8d...     16.0   \n",
       "3  https://parler.com/post/2f53cc11f5e541309a59cc...     52.0   \n",
       "4  https://parler.com/post/faffec7af75b46c7b7371b...     69.0   \n",
       "\n",
       "                                                urls            username  \\\n",
       "0  [{'createdAt': '20200216231414', 'domain': 'tw...         Jamierodr14   \n",
       "1  [{'createdAt': '20201117183501', 'domain': 'ge...        gellerreport   \n",
       "2  [{'createdAt': '20201028234744', 'domain': 'we...       FordCynthia01   \n",
       "3  [{'createdAt': '20200705161338', 'domain': 'da...       realwayneroot   \n",
       "4  [{'createdAt': '20200104051704', 'domain': 'fo...  AuthorAvaarmstrong   \n",
       "\n",
       "   verified  article  impressions  \\\n",
       "0       0.0      0.0       2500.0   \n",
       "1       0.0      1.0       4400.0   \n",
       "2       0.0      1.0        678.0   \n",
       "3       1.0      1.0       4600.0   \n",
       "4       0.0      1.0         66.0   \n",
       "\n",
       "                                             preview  reposts  state parent  \\\n",
       "0  ‪ CHILLS! \\n\\nI loved hearing Airforce Technic...     16.0    4.0    NaN   \n",
       "1                                                        23.0    4.0    NaN   \n",
       "2  Justice Department Zeroes In On Cuomo's COVID ...     10.0    4.0    NaN   \n",
       "3  Interesting how ultra-liberal, hysterical, Hol...     33.0    4.0    NaN   \n",
       "4  Petraeus Says Trump May Have Restored U.S. 'De...     58.0    4.0    NaN   \n",
       "\n",
       "  color  commentDepth  controversy  downvotes post  score  isPrimary  \\\n",
       "0   NaN           NaN          NaN        NaN  NaN    NaN        NaN   \n",
       "1   NaN           NaN          NaN        NaN  NaN    NaN        NaN   \n",
       "2   NaN           NaN          NaN        NaN  NaN    NaN        NaN   \n",
       "3   NaN           NaN          NaN        NaN  NaN    NaN        NaN   \n",
       "4   NaN           NaN          NaN        NaN  NaN    NaN        NaN   \n",
       "\n",
       "  conversation replyingTo  \n",
       "0          NaN        NaN  \n",
       "1          NaN        NaN  \n",
       "2          NaN        NaN  \n",
       "3          NaN        NaN  \n",
       "4          NaN        NaN  "
      ]
     },
     "execution_count": 11,
     "metadata": {},
     "output_type": "execute_result"
    }
   ],
   "source": [
    "df1.head()"
   ]
  },
  {
   "cell_type": "code",
   "execution_count": 17,
   "id": "cf140861-5127-4658-92b4-034870ecccd3",
   "metadata": {},
   "outputs": [],
   "source": [
    "post_lengths = [len(str(each)) for each in df1['body']]"
   ]
  },
  {
   "cell_type": "markdown",
   "id": "29432b91-4983-4f7e-8930-c8378d3f72b5",
   "metadata": {},
   "source": [
    "458803 rows just had URLs as body text so they are empty - drop all rows were body text is '' or ' '"
   ]
  },
  {
   "cell_type": "code",
   "execution_count": 56,
   "id": "1d77bf0c-dc41-4601-995d-016f2e341560",
   "metadata": {},
   "outputs": [],
   "source": [
    "df1['body'] = df1['body'].str.strip()"
   ]
  },
  {
   "cell_type": "code",
   "execution_count": 57,
   "id": "eda53bef-246d-4c3e-af83-e2b6ed5ca65c",
   "metadata": {},
   "outputs": [],
   "source": [
    "df1 = df1.loc[(df1['body'] != '')]"
   ]
  },
  {
   "cell_type": "code",
   "execution_count": 58,
   "id": "5956ffb5-02a9-422d-961e-6e604a8164e1",
   "metadata": {},
   "outputs": [
    {
     "data": {
      "text/html": [
       "<div>\n",
       "<style scoped>\n",
       "    .dataframe tbody tr th:only-of-type {\n",
       "        vertical-align: middle;\n",
       "    }\n",
       "\n",
       "    .dataframe tbody tr th {\n",
       "        vertical-align: top;\n",
       "    }\n",
       "\n",
       "    .dataframe thead th {\n",
       "        text-align: right;\n",
       "    }\n",
       "</style>\n",
       "<table border=\"1\" class=\"dataframe\">\n",
       "  <thead>\n",
       "    <tr style=\"text-align: right;\">\n",
       "      <th></th>\n",
       "      <th>comments</th>\n",
       "      <th>body</th>\n",
       "      <th>bodywithurls</th>\n",
       "      <th>createdAt</th>\n",
       "      <th>createdAtformatted</th>\n",
       "      <th>creator</th>\n",
       "      <th>datatype</th>\n",
       "      <th>depth</th>\n",
       "      <th>depthRaw</th>\n",
       "      <th>followers</th>\n",
       "      <th>following</th>\n",
       "      <th>hashtags</th>\n",
       "      <th>id</th>\n",
       "      <th>lastseents</th>\n",
       "      <th>links</th>\n",
       "      <th>media</th>\n",
       "      <th>posts</th>\n",
       "      <th>sensitive</th>\n",
       "      <th>shareLink</th>\n",
       "      <th>upvotes</th>\n",
       "      <th>urls</th>\n",
       "      <th>username</th>\n",
       "      <th>verified</th>\n",
       "      <th>article</th>\n",
       "      <th>impressions</th>\n",
       "      <th>preview</th>\n",
       "      <th>reposts</th>\n",
       "      <th>state</th>\n",
       "      <th>parent</th>\n",
       "      <th>color</th>\n",
       "      <th>commentDepth</th>\n",
       "      <th>controversy</th>\n",
       "      <th>downvotes</th>\n",
       "      <th>post</th>\n",
       "      <th>score</th>\n",
       "      <th>isPrimary</th>\n",
       "      <th>conversation</th>\n",
       "      <th>replyingTo</th>\n",
       "    </tr>\n",
       "  </thead>\n",
       "  <tbody>\n",
       "  </tbody>\n",
       "</table>\n",
       "</div>"
      ],
      "text/plain": [
       "Empty DataFrame\n",
       "Columns: [comments, body, bodywithurls, createdAt, createdAtformatted, creator, datatype, depth, depthRaw, followers, following, hashtags, id, lastseents, links, media, posts, sensitive, shareLink, upvotes, urls, username, verified, article, impressions, preview, reposts, state, parent, color, commentDepth, controversy, downvotes, post, score, isPrimary, conversation, replyingTo]\n",
       "Index: []"
      ]
     },
     "execution_count": 58,
     "metadata": {},
     "output_type": "execute_result"
    }
   ],
   "source": [
    "df1.loc[df1['body'] == '']"
   ]
  },
  {
   "cell_type": "code",
   "execution_count": 60,
   "id": "8938287f-4030-47d9-b64e-b8198235d483",
   "metadata": {},
   "outputs": [
    {
     "data": {
      "text/plain": [
       "0          ‪ CHILLS! \\n\\nI loved hearing Airforce Technic...\n",
       "2          Justice Department Zeroes In On Cuomo's COVID ...\n",
       "3          Interesting how ultra-liberal, hysterical, Hol...\n",
       "4          Petraeus Says Trump May Have Restored U.S. 'De...\n",
       "5          Hillary Clinton Calls Bernie Sanders a Sore Lo...\n",
       "                                 ...                        \n",
       "1095275    SHE WANTS ANOTHER BENGHAZI and TO MURDER MORE ...\n",
       "1095281                       🇺🇸❤️🇺🇸❤️🙏🏻 #trump2020landslide\n",
       "1095282    I just shared this to \"Chrissy\" Wallace's FB m...\n",
       "1095283                           What have you got to lose?\n",
       "1095285    So... are we gonna talk about the fact that on...\n",
       "Name: body, Length: 636482, dtype: object"
      ]
     },
     "execution_count": 60,
     "metadata": {},
     "output_type": "execute_result"
    }
   ],
   "source": [
    "df1['body']"
   ]
  },
  {
   "cell_type": "markdown",
   "id": "76f71eb5-de1e-4813-b76c-05bd29ab00db",
   "metadata": {},
   "source": [
    "2 rows have null values in the body text column - drop "
   ]
  },
  {
   "cell_type": "code",
   "execution_count": 61,
   "id": "01a8ee82-b632-41c0-83c6-7ab8e4f79adb",
   "metadata": {},
   "outputs": [
    {
     "data": {
      "text/plain": [
       "0"
      ]
     },
     "execution_count": 61,
     "metadata": {},
     "output_type": "execute_result"
    }
   ],
   "source": [
    "df1['body'].isna().sum()"
   ]
  },
  {
   "cell_type": "code",
   "execution_count": 41,
   "id": "0b4eb8e5-6312-439d-bb52-5263420a8edc",
   "metadata": {},
   "outputs": [],
   "source": [
    "df1.dropna(subset=['body'], inplace=True)"
   ]
  },
  {
   "cell_type": "code",
   "execution_count": 63,
   "id": "fa1c2713-de7f-43ee-a0b1-478828923595",
   "metadata": {},
   "outputs": [
    {
     "data": {
      "text/html": [
       "<div>\n",
       "<style scoped>\n",
       "    .dataframe tbody tr th:only-of-type {\n",
       "        vertical-align: middle;\n",
       "    }\n",
       "\n",
       "    .dataframe tbody tr th {\n",
       "        vertical-align: top;\n",
       "    }\n",
       "\n",
       "    .dataframe thead th {\n",
       "        text-align: right;\n",
       "    }\n",
       "</style>\n",
       "<table border=\"1\" class=\"dataframe\">\n",
       "  <thead>\n",
       "    <tr style=\"text-align: right;\">\n",
       "      <th></th>\n",
       "      <th>comments</th>\n",
       "      <th>body</th>\n",
       "      <th>bodywithurls</th>\n",
       "      <th>createdAt</th>\n",
       "      <th>createdAtformatted</th>\n",
       "      <th>creator</th>\n",
       "      <th>datatype</th>\n",
       "      <th>depth</th>\n",
       "      <th>depthRaw</th>\n",
       "      <th>followers</th>\n",
       "      <th>following</th>\n",
       "      <th>hashtags</th>\n",
       "      <th>id</th>\n",
       "      <th>lastseents</th>\n",
       "      <th>links</th>\n",
       "      <th>media</th>\n",
       "      <th>posts</th>\n",
       "      <th>sensitive</th>\n",
       "      <th>shareLink</th>\n",
       "      <th>upvotes</th>\n",
       "      <th>urls</th>\n",
       "      <th>username</th>\n",
       "      <th>verified</th>\n",
       "      <th>article</th>\n",
       "      <th>impressions</th>\n",
       "      <th>preview</th>\n",
       "      <th>reposts</th>\n",
       "      <th>state</th>\n",
       "      <th>parent</th>\n",
       "      <th>color</th>\n",
       "      <th>commentDepth</th>\n",
       "      <th>controversy</th>\n",
       "      <th>downvotes</th>\n",
       "      <th>post</th>\n",
       "      <th>score</th>\n",
       "      <th>isPrimary</th>\n",
       "      <th>conversation</th>\n",
       "      <th>replyingTo</th>\n",
       "    </tr>\n",
       "  </thead>\n",
       "  <tbody>\n",
       "    <tr>\n",
       "      <th>0</th>\n",
       "      <td>2</td>\n",
       "      <td>‪ CHILLS! \\n\\nI loved hearing Airforce Technic...</td>\n",
       "      <td>‪ CHILLS! \\n\\nI loved hearing Airforce Technic...</td>\n",
       "      <td>2.020022e+13</td>\n",
       "      <td>2020-02-16 23:15:56 UTC</td>\n",
       "      <td>59501f9de23142fdbecee0b6592eb17f</td>\n",
       "      <td>posts</td>\n",
       "      <td>0.0</td>\n",
       "      <td>0.0</td>\n",
       "      <td>12000.0</td>\n",
       "      <td>2900.0</td>\n",
       "      <td>[daytona500]</td>\n",
       "      <td>f2c55d1b981e4e109863cd7b30486a3f</td>\n",
       "      <td>2020-12-14T07:02:54.021284+00:00</td>\n",
       "      <td>[SyVr4]</td>\n",
       "      <td>4.0</td>\n",
       "      <td>682.0</td>\n",
       "      <td>0.0</td>\n",
       "      <td>https://parler.com/post/f2c55d1b981e4e109863cd...</td>\n",
       "      <td>31.0</td>\n",
       "      <td>[{'createdAt': '20200216231414', 'domain': 'tw...</td>\n",
       "      <td>Jamierodr14</td>\n",
       "      <td>0.0</td>\n",
       "      <td>0.0</td>\n",
       "      <td>2500.0</td>\n",
       "      <td>‪ CHILLS! \\n\\nI loved hearing Airforce Technic...</td>\n",
       "      <td>16.0</td>\n",
       "      <td>4.0</td>\n",
       "      <td>NaN</td>\n",
       "      <td>NaN</td>\n",
       "      <td>NaN</td>\n",
       "      <td>NaN</td>\n",
       "      <td>NaN</td>\n",
       "      <td>NaN</td>\n",
       "      <td>NaN</td>\n",
       "      <td>NaN</td>\n",
       "      <td>NaN</td>\n",
       "      <td>NaN</td>\n",
       "    </tr>\n",
       "    <tr>\n",
       "      <th>2</th>\n",
       "      <td>-1</td>\n",
       "      <td>Justice Department Zeroes In On Cuomo's COVID ...</td>\n",
       "      <td>Justice Department Zeroes In On Cuomo's COVID ...</td>\n",
       "      <td>2.020103e+13</td>\n",
       "      <td>2020-10-29 11:52:15 UTC</td>\n",
       "      <td>eff3c4bd3a114cd69b05786f5dce1dfe</td>\n",
       "      <td>posts</td>\n",
       "      <td>0.0</td>\n",
       "      <td>0.0</td>\n",
       "      <td>9700.0</td>\n",
       "      <td>5600.0</td>\n",
       "      <td>[]</td>\n",
       "      <td>0c4de495eaef430fb6fd8d5dc9be3453</td>\n",
       "      <td>2021-01-10T17:18:28.604038+00:00</td>\n",
       "      <td>[ZUNHN]</td>\n",
       "      <td>728.0</td>\n",
       "      <td>15000.0</td>\n",
       "      <td>0.0</td>\n",
       "      <td>https://parler.com/post/0c4de495eaef430fb6fd8d...</td>\n",
       "      <td>16.0</td>\n",
       "      <td>[{'createdAt': '20201028234744', 'domain': 'we...</td>\n",
       "      <td>FordCynthia01</td>\n",
       "      <td>0.0</td>\n",
       "      <td>1.0</td>\n",
       "      <td>678.0</td>\n",
       "      <td>Justice Department Zeroes In On Cuomo's COVID ...</td>\n",
       "      <td>10.0</td>\n",
       "      <td>4.0</td>\n",
       "      <td>NaN</td>\n",
       "      <td>NaN</td>\n",
       "      <td>NaN</td>\n",
       "      <td>NaN</td>\n",
       "      <td>NaN</td>\n",
       "      <td>NaN</td>\n",
       "      <td>NaN</td>\n",
       "      <td>NaN</td>\n",
       "      <td>NaN</td>\n",
       "      <td>NaN</td>\n",
       "    </tr>\n",
       "  </tbody>\n",
       "</table>\n",
       "</div>"
      ],
      "text/plain": [
       "   comments                                               body  \\\n",
       "0         2  ‪ CHILLS! \\n\\nI loved hearing Airforce Technic...   \n",
       "2        -1  Justice Department Zeroes In On Cuomo's COVID ...   \n",
       "\n",
       "                                        bodywithurls     createdAt  \\\n",
       "0  ‪ CHILLS! \\n\\nI loved hearing Airforce Technic...  2.020022e+13   \n",
       "2  Justice Department Zeroes In On Cuomo's COVID ...  2.020103e+13   \n",
       "\n",
       "        createdAtformatted                           creator datatype  depth  \\\n",
       "0  2020-02-16 23:15:56 UTC  59501f9de23142fdbecee0b6592eb17f    posts    0.0   \n",
       "2  2020-10-29 11:52:15 UTC  eff3c4bd3a114cd69b05786f5dce1dfe    posts    0.0   \n",
       "\n",
       "   depthRaw  followers  following      hashtags  \\\n",
       "0       0.0    12000.0     2900.0  [daytona500]   \n",
       "2       0.0     9700.0     5600.0            []   \n",
       "\n",
       "                                 id                        lastseents  \\\n",
       "0  f2c55d1b981e4e109863cd7b30486a3f  2020-12-14T07:02:54.021284+00:00   \n",
       "2  0c4de495eaef430fb6fd8d5dc9be3453  2021-01-10T17:18:28.604038+00:00   \n",
       "\n",
       "     links  media    posts  sensitive  \\\n",
       "0  [SyVr4]    4.0    682.0        0.0   \n",
       "2  [ZUNHN]  728.0  15000.0        0.0   \n",
       "\n",
       "                                           shareLink  upvotes  \\\n",
       "0  https://parler.com/post/f2c55d1b981e4e109863cd...     31.0   \n",
       "2  https://parler.com/post/0c4de495eaef430fb6fd8d...     16.0   \n",
       "\n",
       "                                                urls       username  verified  \\\n",
       "0  [{'createdAt': '20200216231414', 'domain': 'tw...    Jamierodr14       0.0   \n",
       "2  [{'createdAt': '20201028234744', 'domain': 'we...  FordCynthia01       0.0   \n",
       "\n",
       "   article  impressions                                            preview  \\\n",
       "0      0.0       2500.0  ‪ CHILLS! \\n\\nI loved hearing Airforce Technic...   \n",
       "2      1.0        678.0  Justice Department Zeroes In On Cuomo's COVID ...   \n",
       "\n",
       "   reposts  state parent color  commentDepth  controversy  downvotes post  \\\n",
       "0     16.0    4.0    NaN   NaN           NaN          NaN        NaN  NaN   \n",
       "2     10.0    4.0    NaN   NaN           NaN          NaN        NaN  NaN   \n",
       "\n",
       "   score  isPrimary conversation replyingTo  \n",
       "0    NaN        NaN          NaN        NaN  \n",
       "2    NaN        NaN          NaN        NaN  "
      ]
     },
     "execution_count": 63,
     "metadata": {},
     "output_type": "execute_result"
    }
   ],
   "source": [
    "df1.head(2)"
   ]
  },
  {
   "cell_type": "code",
   "execution_count": 66,
   "id": "aeb97ca0-5c5f-4b02-b5df-0900dd709329",
   "metadata": {},
   "outputs": [],
   "source": [
    "sample_df = df1.sample(100_000, random_state=42)"
   ]
  },
  {
   "cell_type": "code",
   "execution_count": 67,
   "id": "48c70830-9c7a-49f1-b138-0e89fa4860b5",
   "metadata": {},
   "outputs": [
    {
     "data": {
      "text/html": [
       "<div>\n",
       "<style scoped>\n",
       "    .dataframe tbody tr th:only-of-type {\n",
       "        vertical-align: middle;\n",
       "    }\n",
       "\n",
       "    .dataframe tbody tr th {\n",
       "        vertical-align: top;\n",
       "    }\n",
       "\n",
       "    .dataframe thead th {\n",
       "        text-align: right;\n",
       "    }\n",
       "</style>\n",
       "<table border=\"1\" class=\"dataframe\">\n",
       "  <thead>\n",
       "    <tr style=\"text-align: right;\">\n",
       "      <th></th>\n",
       "      <th>comments</th>\n",
       "      <th>body</th>\n",
       "      <th>bodywithurls</th>\n",
       "      <th>createdAt</th>\n",
       "      <th>createdAtformatted</th>\n",
       "      <th>creator</th>\n",
       "      <th>datatype</th>\n",
       "      <th>depth</th>\n",
       "      <th>depthRaw</th>\n",
       "      <th>followers</th>\n",
       "      <th>following</th>\n",
       "      <th>hashtags</th>\n",
       "      <th>id</th>\n",
       "      <th>lastseents</th>\n",
       "      <th>links</th>\n",
       "      <th>media</th>\n",
       "      <th>posts</th>\n",
       "      <th>sensitive</th>\n",
       "      <th>shareLink</th>\n",
       "      <th>upvotes</th>\n",
       "      <th>urls</th>\n",
       "      <th>username</th>\n",
       "      <th>verified</th>\n",
       "      <th>article</th>\n",
       "      <th>impressions</th>\n",
       "      <th>preview</th>\n",
       "      <th>reposts</th>\n",
       "      <th>state</th>\n",
       "      <th>parent</th>\n",
       "      <th>color</th>\n",
       "      <th>commentDepth</th>\n",
       "      <th>controversy</th>\n",
       "      <th>downvotes</th>\n",
       "      <th>post</th>\n",
       "      <th>score</th>\n",
       "      <th>isPrimary</th>\n",
       "      <th>conversation</th>\n",
       "      <th>replyingTo</th>\n",
       "    </tr>\n",
       "  </thead>\n",
       "  <tbody>\n",
       "    <tr>\n",
       "      <th>493517</th>\n",
       "      <td>0</td>\n",
       "      <td>Possibly........\\n\\n•Chynaa.\\n•Soros.\\n•Global...</td>\n",
       "      <td>Possibly........\\n\\n•Chynaa.\\n•Soros.\\n•Global...</td>\n",
       "      <td>2.020090e+13</td>\n",
       "      <td>2020-09-01 18:05:07 UTC</td>\n",
       "      <td>e0ccf0acef0a43fa9ea7a447debdc781</td>\n",
       "      <td>comments</td>\n",
       "      <td>2.0</td>\n",
       "      <td>2.0</td>\n",
       "      <td>701.0</td>\n",
       "      <td>525.0</td>\n",
       "      <td>[]</td>\n",
       "      <td>08511f2c61514e0f805e299e467f4727</td>\n",
       "      <td>2020-12-26T12:16:52.766453+00:00</td>\n",
       "      <td>[]</td>\n",
       "      <td>168.0</td>\n",
       "      <td>1100.0</td>\n",
       "      <td>0.0</td>\n",
       "      <td>https://parler.com/comment/08511f2c61514e0f805...</td>\n",
       "      <td>0.0</td>\n",
       "      <td>[]</td>\n",
       "      <td>Dd061973</td>\n",
       "      <td>0.0</td>\n",
       "      <td>NaN</td>\n",
       "      <td>NaN</td>\n",
       "      <td>NaN</td>\n",
       "      <td>NaN</td>\n",
       "      <td>NaN</td>\n",
       "      <td>692baa94e4c845df829fa5b333a0e61b</td>\n",
       "      <td>#808080</td>\n",
       "      <td>1.0</td>\n",
       "      <td>0.0</td>\n",
       "      <td>0.0</td>\n",
       "      <td>19a9db6ce1c040f1accff10028d90cb8</td>\n",
       "      <td>0.0</td>\n",
       "      <td>0.0</td>\n",
       "      <td>NaN</td>\n",
       "      <td>NaN</td>\n",
       "    </tr>\n",
       "    <tr>\n",
       "      <th>622723</th>\n",
       "      <td>0</td>\n",
       "      <td>Right!</td>\n",
       "      <td>Right!\\n</td>\n",
       "      <td>2.020072e+13</td>\n",
       "      <td>2020-07-24 20:58:59 UTC</td>\n",
       "      <td>781e9ee94ab242f294627d69ee1e74ac</td>\n",
       "      <td>comments</td>\n",
       "      <td>1.0</td>\n",
       "      <td>1.0</td>\n",
       "      <td>10.0</td>\n",
       "      <td>12.0</td>\n",
       "      <td>[]</td>\n",
       "      <td>52059b3edb194960b7f1db5fa577f2d9</td>\n",
       "      <td>2021-01-09T18:36:02.804212+00:00</td>\n",
       "      <td>[]</td>\n",
       "      <td>0.0</td>\n",
       "      <td>18.0</td>\n",
       "      <td>0.0</td>\n",
       "      <td>https://parler.com/comment/52059b3edb194960b7f...</td>\n",
       "      <td>0.0</td>\n",
       "      <td>[]</td>\n",
       "      <td>AlisonHMcvay</td>\n",
       "      <td>0.0</td>\n",
       "      <td>NaN</td>\n",
       "      <td>NaN</td>\n",
       "      <td>NaN</td>\n",
       "      <td>NaN</td>\n",
       "      <td>NaN</td>\n",
       "      <td>77528f6960b34bb691405135b27f9782</td>\n",
       "      <td>#a60303</td>\n",
       "      <td>0.0</td>\n",
       "      <td>0.0</td>\n",
       "      <td>0.0</td>\n",
       "      <td>77528f6960b34bb691405135b27f9782</td>\n",
       "      <td>0.0</td>\n",
       "      <td>1.0</td>\n",
       "      <td>NaN</td>\n",
       "      <td>NaN</td>\n",
       "    </tr>\n",
       "    <tr>\n",
       "      <th>778459</th>\n",
       "      <td>0</td>\n",
       "      <td>Cuomo is an egotistical asshole. His day is co...</td>\n",
       "      <td>Cuomo is an egotistical asshole. His day is co...</td>\n",
       "      <td>2.020113e+13</td>\n",
       "      <td>2020-11-29 16:25:55 UTC</td>\n",
       "      <td>9c46ba5cdb7445b28d1e301ad873bb75</td>\n",
       "      <td>comments</td>\n",
       "      <td>1.0</td>\n",
       "      <td>1.0</td>\n",
       "      <td>3100.0</td>\n",
       "      <td>5700.0</td>\n",
       "      <td>[]</td>\n",
       "      <td>5d3df500ce124a99bf93d15518b732ee</td>\n",
       "      <td>2021-01-09T16:02:03.575467+00:00</td>\n",
       "      <td>[]</td>\n",
       "      <td>1.0</td>\n",
       "      <td>7900.0</td>\n",
       "      <td>0.0</td>\n",
       "      <td>https://parler.com/comment/5d3df500ce124a99bf9...</td>\n",
       "      <td>1.0</td>\n",
       "      <td>[]</td>\n",
       "      <td>Mlaster206</td>\n",
       "      <td>0.0</td>\n",
       "      <td>NaN</td>\n",
       "      <td>NaN</td>\n",
       "      <td>NaN</td>\n",
       "      <td>NaN</td>\n",
       "      <td>NaN</td>\n",
       "      <td>7c187094ac5c4ed2a408d6288f923b4e</td>\n",
       "      <td>#a60303</td>\n",
       "      <td>0.0</td>\n",
       "      <td>0.0</td>\n",
       "      <td>0.0</td>\n",
       "      <td>7c187094ac5c4ed2a408d6288f923b4e</td>\n",
       "      <td>1.0</td>\n",
       "      <td>1.0</td>\n",
       "      <td>NaN</td>\n",
       "      <td>NaN</td>\n",
       "    </tr>\n",
       "    <tr>\n",
       "      <th>723942</th>\n",
       "      <td>1</td>\n",
       "      <td>You can Find Aynaz Anni Cyrus Here on parler a...</td>\n",
       "      <td>You can Find Aynaz Anni Cyrus Here on parler a...</td>\n",
       "      <td>2.020111e+13</td>\n",
       "      <td>2020-11-12 13:09:24 UTC</td>\n",
       "      <td>a7498473fc3840b5955a500b8b80ae00</td>\n",
       "      <td>comments</td>\n",
       "      <td>1.0</td>\n",
       "      <td>1.0</td>\n",
       "      <td>19.0</td>\n",
       "      <td>47.0</td>\n",
       "      <td>[]</td>\n",
       "      <td>0e48bcec83c647178c282b6afa03e34f</td>\n",
       "      <td>2020-12-23T21:03:23.338655+00:00</td>\n",
       "      <td>[]</td>\n",
       "      <td>12.0</td>\n",
       "      <td>138.0</td>\n",
       "      <td>0.0</td>\n",
       "      <td>https://parler.com/comment/0e48bcec83c647178c2...</td>\n",
       "      <td>1.0</td>\n",
       "      <td>[]</td>\n",
       "      <td>FreedomWithJesus</td>\n",
       "      <td>0.0</td>\n",
       "      <td>NaN</td>\n",
       "      <td>NaN</td>\n",
       "      <td>NaN</td>\n",
       "      <td>NaN</td>\n",
       "      <td>NaN</td>\n",
       "      <td>d66fc5c7fcb247dca4031b8d48aea6dc</td>\n",
       "      <td>#a60303</td>\n",
       "      <td>0.0</td>\n",
       "      <td>0.0</td>\n",
       "      <td>0.0</td>\n",
       "      <td>d66fc5c7fcb247dca4031b8d48aea6dc</td>\n",
       "      <td>1.0</td>\n",
       "      <td>1.0</td>\n",
       "      <td>NaN</td>\n",
       "      <td>NaN</td>\n",
       "    </tr>\n",
       "    <tr>\n",
       "      <th>1065418</th>\n",
       "      <td>-1</td>\n",
       "      <td>Yuppers the judge in the Flynn case ! Hummmmm ...</td>\n",
       "      <td>Yuppers the judge in the Flynn case ! Hummmmm ...</td>\n",
       "      <td>2.020082e+13</td>\n",
       "      <td>2020-08-22 02:38:59 UTC</td>\n",
       "      <td>caedb6d31bf14d43a13e62cfdd5e97d8</td>\n",
       "      <td>comments</td>\n",
       "      <td>1.0</td>\n",
       "      <td>1.0</td>\n",
       "      <td>3200.0</td>\n",
       "      <td>114.0</td>\n",
       "      <td>[]</td>\n",
       "      <td>96d1aa63ffb8499e97d6776c77fa932b</td>\n",
       "      <td>2021-01-09T14:18:41.367313+00:00</td>\n",
       "      <td>[hs9Gr]</td>\n",
       "      <td>716.0</td>\n",
       "      <td>1200.0</td>\n",
       "      <td>0.0</td>\n",
       "      <td>https://parler.com/comment/96d1aa63ffb8499e97d...</td>\n",
       "      <td>0.0</td>\n",
       "      <td>[{'createdAt': '20200822023850', 'domain': 'im...</td>\n",
       "      <td>Hollisone123</td>\n",
       "      <td>0.0</td>\n",
       "      <td>NaN</td>\n",
       "      <td>NaN</td>\n",
       "      <td>NaN</td>\n",
       "      <td>NaN</td>\n",
       "      <td>NaN</td>\n",
       "      <td>c5d84fd2f80a42aba05f56b9ead51fbf</td>\n",
       "      <td>#a60303</td>\n",
       "      <td>0.0</td>\n",
       "      <td>0.0</td>\n",
       "      <td>0.0</td>\n",
       "      <td>c5d84fd2f80a42aba05f56b9ead51fbf</td>\n",
       "      <td>0.0</td>\n",
       "      <td>1.0</td>\n",
       "      <td>NaN</td>\n",
       "      <td>NaN</td>\n",
       "    </tr>\n",
       "  </tbody>\n",
       "</table>\n",
       "</div>"
      ],
      "text/plain": [
       "         comments                                               body  \\\n",
       "493517          0  Possibly........\\n\\n•Chynaa.\\n•Soros.\\n•Global...   \n",
       "622723          0                                             Right!   \n",
       "778459          0  Cuomo is an egotistical asshole. His day is co...   \n",
       "723942          1  You can Find Aynaz Anni Cyrus Here on parler a...   \n",
       "1065418        -1  Yuppers the judge in the Flynn case ! Hummmmm ...   \n",
       "\n",
       "                                              bodywithurls     createdAt  \\\n",
       "493517   Possibly........\\n\\n•Chynaa.\\n•Soros.\\n•Global...  2.020090e+13   \n",
       "622723                                            Right!\\n  2.020072e+13   \n",
       "778459   Cuomo is an egotistical asshole. His day is co...  2.020113e+13   \n",
       "723942   You can Find Aynaz Anni Cyrus Here on parler a...  2.020111e+13   \n",
       "1065418  Yuppers the judge in the Flynn case ! Hummmmm ...  2.020082e+13   \n",
       "\n",
       "              createdAtformatted                           creator  datatype  \\\n",
       "493517   2020-09-01 18:05:07 UTC  e0ccf0acef0a43fa9ea7a447debdc781  comments   \n",
       "622723   2020-07-24 20:58:59 UTC  781e9ee94ab242f294627d69ee1e74ac  comments   \n",
       "778459   2020-11-29 16:25:55 UTC  9c46ba5cdb7445b28d1e301ad873bb75  comments   \n",
       "723942   2020-11-12 13:09:24 UTC  a7498473fc3840b5955a500b8b80ae00  comments   \n",
       "1065418  2020-08-22 02:38:59 UTC  caedb6d31bf14d43a13e62cfdd5e97d8  comments   \n",
       "\n",
       "         depth  depthRaw  followers  following hashtags  \\\n",
       "493517     2.0       2.0      701.0      525.0       []   \n",
       "622723     1.0       1.0       10.0       12.0       []   \n",
       "778459     1.0       1.0     3100.0     5700.0       []   \n",
       "723942     1.0       1.0       19.0       47.0       []   \n",
       "1065418    1.0       1.0     3200.0      114.0       []   \n",
       "\n",
       "                                       id                        lastseents  \\\n",
       "493517   08511f2c61514e0f805e299e467f4727  2020-12-26T12:16:52.766453+00:00   \n",
       "622723   52059b3edb194960b7f1db5fa577f2d9  2021-01-09T18:36:02.804212+00:00   \n",
       "778459   5d3df500ce124a99bf93d15518b732ee  2021-01-09T16:02:03.575467+00:00   \n",
       "723942   0e48bcec83c647178c282b6afa03e34f  2020-12-23T21:03:23.338655+00:00   \n",
       "1065418  96d1aa63ffb8499e97d6776c77fa932b  2021-01-09T14:18:41.367313+00:00   \n",
       "\n",
       "           links  media   posts  sensitive  \\\n",
       "493517        []  168.0  1100.0        0.0   \n",
       "622723        []    0.0    18.0        0.0   \n",
       "778459        []    1.0  7900.0        0.0   \n",
       "723942        []   12.0   138.0        0.0   \n",
       "1065418  [hs9Gr]  716.0  1200.0        0.0   \n",
       "\n",
       "                                                 shareLink  upvotes  \\\n",
       "493517   https://parler.com/comment/08511f2c61514e0f805...      0.0   \n",
       "622723   https://parler.com/comment/52059b3edb194960b7f...      0.0   \n",
       "778459   https://parler.com/comment/5d3df500ce124a99bf9...      1.0   \n",
       "723942   https://parler.com/comment/0e48bcec83c647178c2...      1.0   \n",
       "1065418  https://parler.com/comment/96d1aa63ffb8499e97d...      0.0   \n",
       "\n",
       "                                                      urls          username  \\\n",
       "493517                                                  []          Dd061973   \n",
       "622723                                                  []      AlisonHMcvay   \n",
       "778459                                                  []        Mlaster206   \n",
       "723942                                                  []  FreedomWithJesus   \n",
       "1065418  [{'createdAt': '20200822023850', 'domain': 'im...      Hollisone123   \n",
       "\n",
       "         verified  article  impressions preview  reposts  state  \\\n",
       "493517        0.0      NaN          NaN     NaN      NaN    NaN   \n",
       "622723        0.0      NaN          NaN     NaN      NaN    NaN   \n",
       "778459        0.0      NaN          NaN     NaN      NaN    NaN   \n",
       "723942        0.0      NaN          NaN     NaN      NaN    NaN   \n",
       "1065418       0.0      NaN          NaN     NaN      NaN    NaN   \n",
       "\n",
       "                                   parent    color  commentDepth  controversy  \\\n",
       "493517   692baa94e4c845df829fa5b333a0e61b  #808080           1.0          0.0   \n",
       "622723   77528f6960b34bb691405135b27f9782  #a60303           0.0          0.0   \n",
       "778459   7c187094ac5c4ed2a408d6288f923b4e  #a60303           0.0          0.0   \n",
       "723942   d66fc5c7fcb247dca4031b8d48aea6dc  #a60303           0.0          0.0   \n",
       "1065418  c5d84fd2f80a42aba05f56b9ead51fbf  #a60303           0.0          0.0   \n",
       "\n",
       "         downvotes                              post  score  isPrimary  \\\n",
       "493517         0.0  19a9db6ce1c040f1accff10028d90cb8    0.0        0.0   \n",
       "622723         0.0  77528f6960b34bb691405135b27f9782    0.0        1.0   \n",
       "778459         0.0  7c187094ac5c4ed2a408d6288f923b4e    1.0        1.0   \n",
       "723942         0.0  d66fc5c7fcb247dca4031b8d48aea6dc    1.0        1.0   \n",
       "1065418        0.0  c5d84fd2f80a42aba05f56b9ead51fbf    0.0        1.0   \n",
       "\n",
       "        conversation replyingTo  \n",
       "493517           NaN        NaN  \n",
       "622723           NaN        NaN  \n",
       "778459           NaN        NaN  \n",
       "723942           NaN        NaN  \n",
       "1065418          NaN        NaN  "
      ]
     },
     "execution_count": 67,
     "metadata": {},
     "output_type": "execute_result"
    }
   ],
   "source": [
    "sample_df.head()"
   ]
  },
  {
   "cell_type": "code",
   "execution_count": 68,
   "id": "13fcd74f-6f51-4f43-93b0-9fe7055489c9",
   "metadata": {},
   "outputs": [],
   "source": [
    "# sample_df.to_csv('data/posts_01_raw_sample.csv', index=False)"
   ]
  },
  {
   "cell_type": "markdown",
   "id": "f94959a3-5454-4250-a43b-a1b85578b566",
   "metadata": {},
   "source": [
    "## Import data files "
   ]
  },
  {
   "cell_type": "code",
   "execution_count": 6,
   "id": "9f46607c-6905-4302-adfe-76da764e6c94",
   "metadata": {},
   "outputs": [],
   "source": [
    "# df_2 = pd.read_json('data/raw_ndjson/parler_data/parler_data000000000002.ndjson', lines=True)\n",
    "# df_2.to_csv('data/posts_02_raw.csv', index=False)\n",
    "# df_3 = pd.read_json('data/raw_ndjson/parler_data/parler_data000000000003.ndjson', lines=True)\n",
    "# df_3.to_csv('data/posts_03_raw.csv', index=False)\n",
    "# df_164 = pd.read_json('data/raw_ndjson/parler_data/parler_data000000000164.ndjson', lines=True)\n",
    "# df_164.to_csv('data/posts_164_raw.csv', index=False)\n",
    "# df_165 = pd.read_json('data/raw_ndjson/parler_data/parler_data000000000165.ndjson', lines=True)\n",
    "# df_165.to_csv('data/posts_165_raw.csv', index=False)\n",
    "# df_166 = pd.read_json('data/raw_ndjson/parler_data/parler_data000000000166.ndjson', lines=True)\n",
    "# df_166.to_csv('data/posts_166_raw.csv', index=False)"
   ]
  },
  {
   "cell_type": "markdown",
   "id": "a085334a-a9cf-4631-8c5e-6edcd9dbb212",
   "metadata": {},
   "source": [
    "## Import CSV files and concatenate"
   ]
  },
  {
   "cell_type": "code",
   "execution_count": 7,
   "id": "6987b754-1497-4a45-a0dc-2790d7ab048e",
   "metadata": {},
   "outputs": [
    {
     "name": "stderr",
     "output_type": "stream",
     "text": [
      "/Users/cassidycampbellmueller/opt/anaconda3/lib/python3.9/site-packages/IPython/core/interactiveshell.py:3457: DtypeWarning: Columns (25,29,33,36,37) have mixed types.Specify dtype option on import or set low_memory=False.\n",
      "  exec(code_obj, self.user_global_ns, self.user_ns)\n",
      "/Users/cassidycampbellmueller/opt/anaconda3/lib/python3.9/site-packages/IPython/core/interactiveshell.py:3457: DtypeWarning: Columns (25,29,32,33,36,37) have mixed types.Specify dtype option on import or set low_memory=False.\n",
      "  exec(code_obj, self.user_global_ns, self.user_ns)\n",
      "/Users/cassidycampbellmueller/opt/anaconda3/lib/python3.9/site-packages/IPython/core/interactiveshell.py:3457: DtypeWarning: Columns (16,25,29,32,34,35) have mixed types.Specify dtype option on import or set low_memory=False.\n",
      "  exec(code_obj, self.user_global_ns, self.user_ns)\n"
     ]
    }
   ],
   "source": [
    "csv_1 = pd.read_csv('data/raw_ndjson/posts_01_raw.csv')\n",
    "csv_2 = pd.read_csv('data/raw_ndjson/posts_02_raw.csv')\n",
    "csv_3 = pd.read_csv('data/raw_ndjson/posts_03_raw.csv')\n",
    "csv_164 = pd.read_csv('data/raw_ndjson/posts_164_raw.csv')\n",
    "csv_165 = pd.read_csv('data/raw_ndjson/posts_165_raw.csv')\n",
    "csv_166 = pd.read_csv('data/raw_ndjson/posts_166_raw.csv')"
   ]
  },
  {
   "cell_type": "code",
   "execution_count": 62,
   "id": "dc9ed13b-e094-4a0c-92fb-657f136cbc99",
   "metadata": {},
   "outputs": [
    {
     "data": {
      "text/plain": [
       "[119, 136, 76, 108, 27, 93, 116, 133, 67, 106]"
      ]
     },
     "execution_count": 62,
     "metadata": {},
     "output_type": "execute_result"
    }
   ],
   "source": [
    "np.random.seed(123)\n",
    "json_list = list(np.random.randint(10, 150, 10))\n",
    "json_list"
   ]
  },
  {
   "cell_type": "code",
   "execution_count": 77,
   "id": "879c7511-2738-4323-8433-7c8388dbfb7b",
   "metadata": {},
   "outputs": [
    {
     "name": "stdout",
     "output_type": "stream",
     "text": [
      "csv_119 = pd.read_csv('data/raw_ndjson/posts_119_raw.csv')\n",
      "csv_136 = pd.read_csv('data/raw_ndjson/posts_136_raw.csv')\n",
      "csv_76 = pd.read_csv('data/raw_ndjson/posts_76_raw.csv')\n",
      "csv_108 = pd.read_csv('data/raw_ndjson/posts_108_raw.csv')\n",
      "csv_27 = pd.read_csv('data/raw_ndjson/posts_27_raw.csv')\n",
      "csv_93 = pd.read_csv('data/raw_ndjson/posts_93_raw.csv')\n",
      "csv_116 = pd.read_csv('data/raw_ndjson/posts_116_raw.csv')\n",
      "csv_133 = pd.read_csv('data/raw_ndjson/posts_133_raw.csv')\n",
      "csv_67 = pd.read_csv('data/raw_ndjson/posts_67_raw.csv')\n",
      "csv_106 = pd.read_csv('data/raw_ndjson/posts_106_raw.csv')\n"
     ]
    }
   ],
   "source": [
    "for each in json_list:\n",
    "    print(f\"csv_{each} = pd.read_csv('data/raw_ndjson/posts_{each}_raw.csv')\")\n",
    "    # print(f'csv_{each}')"
   ]
  },
  {
   "cell_type": "code",
   "execution_count": 81,
   "id": "c93681a7-aaab-4161-a726-1c1eca309299",
   "metadata": {},
   "outputs": [
    {
     "name": "stdout",
     "output_type": "stream",
     "text": [
      "csv_119,\n",
      "csv_136,\n",
      "csv_76,\n",
      "csv_108,\n",
      "csv_27,\n",
      "csv_93,\n",
      "csv_116,\n",
      "csv_133,\n",
      "csv_67,\n",
      "csv_106,\n"
     ]
    }
   ],
   "source": [
    "for each in json_list:\n",
    "    print(f'csv_{each},')"
   ]
  },
  {
   "cell_type": "code",
   "execution_count": 82,
   "id": "bbaf1ce6-8036-4e22-84de-72954d1c287b",
   "metadata": {},
   "outputs": [],
   "source": [
    "list_csv = [csv_119,\n",
    "csv_136,\n",
    "csv_76,\n",
    "csv_108,\n",
    "csv_27,\n",
    "csv_93,\n",
    "csv_116,\n",
    "csv_133,\n",
    "csv_67,\n",
    "csv_106,\n",
    "]"
   ]
  },
  {
   "cell_type": "code",
   "execution_count": 52,
   "id": "fce52d8d-ce28-45fa-958d-f6f42a37e399",
   "metadata": {},
   "outputs": [],
   "source": [
    "pd.read_json('data/raw_ndjson/parler_data/parler_data000000000119.ndjson', lines=True).to_csv('data/raw_ndjson/posts_119_raw.csv', index=False)"
   ]
  },
  {
   "cell_type": "code",
   "execution_count": 53,
   "id": "64cd6a15-c435-4f6c-97d1-dd404370e069",
   "metadata": {},
   "outputs": [],
   "source": [
    "pd.read_json('data/raw_ndjson/parler_data/parler_data000000000136.ndjson', lines=True).to_csv('data/raw_ndjson/posts_136_raw.csv', index=False)"
   ]
  },
  {
   "cell_type": "code",
   "execution_count": 54,
   "id": "fc2ce085-4590-45eb-afcb-dc49bd74d9de",
   "metadata": {},
   "outputs": [],
   "source": [
    "pd.read_json('data/raw_ndjson/parler_data/parler_data000000000076.ndjson', lines=True).to_csv('data/raw_ndjson/posts_76_raw.csv', index=False)"
   ]
  },
  {
   "cell_type": "code",
   "execution_count": 55,
   "id": "78b255d1-5a48-4c9f-85d9-c531c4b44c1b",
   "metadata": {},
   "outputs": [],
   "source": [
    "pd.read_json('data/raw_ndjson/parler_data/parler_data000000000108.ndjson', lines=True).to_csv('data/raw_ndjson/posts_108_raw.csv', index=False)"
   ]
  },
  {
   "cell_type": "code",
   "execution_count": 56,
   "id": "bc0bde9d-14de-429e-8b9c-661ce49451af",
   "metadata": {},
   "outputs": [],
   "source": [
    "pd.read_json('data/raw_ndjson/parler_data/parler_data000000000027.ndjson', lines=True).to_csv('data/raw_ndjson/posts_27_raw.csv', index=False)"
   ]
  },
  {
   "cell_type": "code",
   "execution_count": 57,
   "id": "c40322e3-fa41-4e85-8329-21fe3a7956bf",
   "metadata": {},
   "outputs": [],
   "source": [
    "pd.read_json('data/raw_ndjson/parler_data/parler_data000000000093.ndjson', lines=True).to_csv('data/raw_ndjson/posts_93_raw.csv', index=False)"
   ]
  },
  {
   "cell_type": "code",
   "execution_count": 58,
   "id": "fe10e72d-63a5-4fb0-81b4-d8aa43b71ef6",
   "metadata": {},
   "outputs": [],
   "source": [
    "pd.read_json('data/raw_ndjson/parler_data/parler_data000000000116.ndjson', lines=True).to_csv('data/raw_ndjson/posts_116_raw.csv', index=False)"
   ]
  },
  {
   "cell_type": "code",
   "execution_count": 59,
   "id": "d243ef4c-c3d0-4981-bfff-996b45b32590",
   "metadata": {},
   "outputs": [],
   "source": [
    "pd.read_json('data/raw_ndjson/parler_data/parler_data000000000133.ndjson', lines=True).to_csv('data/raw_ndjson/posts_133_raw.csv', index=False)"
   ]
  },
  {
   "cell_type": "code",
   "execution_count": 60,
   "id": "d317f221-2568-440d-920c-cea3f0762870",
   "metadata": {},
   "outputs": [],
   "source": [
    "pd.read_json('data/raw_ndjson/parler_data/parler_data000000000067.ndjson', lines=True).to_csv('data/raw_ndjson/posts_67_raw.csv', index=False)"
   ]
  },
  {
   "cell_type": "code",
   "execution_count": 61,
   "id": "31995e33-e51c-4dd5-892d-d294c4426906",
   "metadata": {},
   "outputs": [],
   "source": [
    "pd.read_json('data/raw_ndjson/parler_data/parler_data000000000106.ndjson', lines=True).to_csv('data/raw_ndjson/posts_106_raw.csv', index=False)"
   ]
  },
  {
   "cell_type": "code",
   "execution_count": 65,
   "id": "e3e477bb-7a4f-4da7-be4f-13da47394c49",
   "metadata": {},
   "outputs": [
    {
     "name": "stderr",
     "output_type": "stream",
     "text": [
      "/Users/cassidycampbellmueller/opt/anaconda3/lib/python3.9/site-packages/IPython/core/interactiveshell.py:3457: DtypeWarning: Columns (16,25,29,32,34,35) have mixed types.Specify dtype option on import or set low_memory=False.\n",
      "  exec(code_obj, self.user_global_ns, self.user_ns)\n",
      "/Users/cassidycampbellmueller/opt/anaconda3/lib/python3.9/site-packages/IPython/core/interactiveshell.py:3457: DtypeWarning: Columns (25,29,33,36,37) have mixed types.Specify dtype option on import or set low_memory=False.\n",
      "  exec(code_obj, self.user_global_ns, self.user_ns)\n",
      "/Users/cassidycampbellmueller/opt/anaconda3/lib/python3.9/site-packages/IPython/core/interactiveshell.py:3457: DtypeWarning: Columns (26,29,32,34,37) have mixed types.Specify dtype option on import or set low_memory=False.\n",
      "  exec(code_obj, self.user_global_ns, self.user_ns)\n",
      "/Users/cassidycampbellmueller/opt/anaconda3/lib/python3.9/site-packages/IPython/core/interactiveshell.py:3457: DtypeWarning: Columns (25,29,32,33,36,37) have mixed types.Specify dtype option on import or set low_memory=False.\n",
      "  exec(code_obj, self.user_global_ns, self.user_ns)\n"
     ]
    }
   ],
   "source": [
    "# csv_119 = pd.read_csv('data/raw_ndjson/posts_119_raw.csv')\n",
    "# csv_136 = pd.read_csv('data/raw_ndjson/posts_136_raw.csv')\n",
    "# csv_76 = pd.read_csv('data/raw_ndjson/posts_76_raw.csv')\n",
    "# csv_108 = pd.read_csv('data/raw_ndjson/posts_108_raw.csv')\n",
    "# csv_27 = pd.read_csv('data/raw_ndjson/posts_27_raw.csv')\n",
    "# csv_93 = pd.read_csv('data/raw_ndjson/posts_93_raw.csv')\n",
    "# csv_116 = pd.read_csv('data/raw_ndjson/posts_116_raw.csv')\n",
    "# csv_133 = pd.read_csv('data/raw_ndjson/posts_133_raw.csv')\n",
    "# csv_67 = pd.read_csv('data/raw_ndjson/posts_67_raw.csv')\n",
    "# csv_106 = pd.read_csv('data/raw_ndjson/posts_106_raw.csv')"
   ]
  },
  {
   "cell_type": "code",
   "execution_count": 72,
   "id": "5f13c7cf-b84b-43ae-8376-95cc4690fc8e",
   "metadata": {},
   "outputs": [
    {
     "data": {
      "text/plain": [
       "['csv_119',\n",
       " 'csv_136',\n",
       " 'csv_76',\n",
       " 'csv_108',\n",
       " 'csv_27',\n",
       " 'csv_93',\n",
       " 'csv_116',\n",
       " 'csv_133',\n",
       " 'csv_67',\n",
       " 'csv_106']"
      ]
     },
     "execution_count": 72,
     "metadata": {},
     "output_type": "execute_result"
    }
   ],
   "source": [
    "list_csv"
   ]
  },
  {
   "cell_type": "code",
   "execution_count": 36,
   "id": "fa575d39-6ce3-4e45-ae64-de89c727c90b",
   "metadata": {},
   "outputs": [],
   "source": [
    "posts_csv = [csv_1, csv_2, csv_3, csv_164, csv_165, csv_166]"
   ]
  },
  {
   "cell_type": "code",
   "execution_count": 10,
   "id": "b0b43a47-c4b2-4f7e-943f-e9a3771c0b2d",
   "metadata": {},
   "outputs": [
    {
     "data": {
      "text/plain": [
       "[(1095287, 38),\n",
       " (1095321, 38),\n",
       " (1095184, 38),\n",
       " (1094981, 38),\n",
       " (1094402, 38),\n",
       " (1098081, 38)]"
      ]
     },
     "execution_count": 10,
     "metadata": {},
     "output_type": "execute_result"
    }
   ],
   "source": [
    "[each.shape for each in posts_csv]"
   ]
  },
  {
   "cell_type": "code",
   "execution_count": 83,
   "id": "d161dbb7-b93c-48bb-8e82-acaa046ce3ce",
   "metadata": {},
   "outputs": [
    {
     "data": {
      "text/plain": [
       "[(1097712, 38),\n",
       " (1097700, 38),\n",
       " (1095287, 38),\n",
       " (1095412, 38),\n",
       " (1099484, 38),\n",
       " (1095256, 38),\n",
       " (1096329, 38),\n",
       " (1094354, 38),\n",
       " (1096188, 38),\n",
       " (1095598, 38)]"
      ]
     },
     "execution_count": 83,
     "metadata": {},
     "output_type": "execute_result"
    }
   ],
   "source": [
    "[each.shape for each in list_csv]"
   ]
  },
  {
   "cell_type": "code",
   "execution_count": 13,
   "id": "b1562640-2ea1-49e2-87c4-9f0afdc06ab3",
   "metadata": {},
   "outputs": [
    {
     "data": {
      "text/plain": [
       "6573256"
      ]
     },
     "execution_count": 13,
     "metadata": {},
     "output_type": "execute_result"
    }
   ],
   "source": [
    "sum([each.shape[0] for each in posts_csv])"
   ]
  },
  {
   "cell_type": "code",
   "execution_count": 84,
   "id": "61bbaff5-cf8b-4c96-a0f7-d61ea0dccd7c",
   "metadata": {},
   "outputs": [
    {
     "data": {
      "text/plain": [
       "10963320"
      ]
     },
     "execution_count": 84,
     "metadata": {},
     "output_type": "execute_result"
    }
   ],
   "source": [
    "sum([each.shape[0] for each in list_csv])"
   ]
  },
  {
   "cell_type": "code",
   "execution_count": 85,
   "id": "ce6579db-4341-407f-9ac7-468960def2b5",
   "metadata": {},
   "outputs": [
    {
     "data": {
      "text/plain": [
       "(10963320, 38)"
      ]
     },
     "execution_count": 85,
     "metadata": {},
     "output_type": "execute_result"
    }
   ],
   "source": [
    "all_posts_2 = pd.concat(list_csv)\n",
    "all_posts_2.shape"
   ]
  },
  {
   "cell_type": "markdown",
   "id": "8af8b249-189d-40be-84ed-ccea1a85011a",
   "metadata": {},
   "source": [
    "The combined dataframe should have 6 million 573 thousand 256 rows "
   ]
  },
  {
   "cell_type": "code",
   "execution_count": 110,
   "id": "a5494a13-4755-4205-bf22-1de417bc8f09",
   "metadata": {},
   "outputs": [],
   "source": [
    "all_posts = pd.concat(posts_csv)"
   ]
  },
  {
   "cell_type": "code",
   "execution_count": 111,
   "id": "7bae6881-b86c-4f38-b1b6-ef01c6f9cea4",
   "metadata": {},
   "outputs": [
    {
     "data": {
      "text/plain": [
       "(6573256, 38)"
      ]
     },
     "execution_count": 111,
     "metadata": {},
     "output_type": "execute_result"
    }
   ],
   "source": [
    "all_posts.shape"
   ]
  },
  {
   "cell_type": "code",
   "execution_count": 112,
   "id": "da91d33b-fd93-4e43-a35c-653d5a3e6dc0",
   "metadata": {},
   "outputs": [],
   "source": [
    "all_posts.dropna(subset=['body'], inplace=True)"
   ]
  },
  {
   "cell_type": "code",
   "execution_count": 113,
   "id": "f8d50718-8c92-40a0-ae91-1fd4b80ccb97",
   "metadata": {},
   "outputs": [
    {
     "data": {
      "text/plain": [
       "(3821366, 38)"
      ]
     },
     "execution_count": 113,
     "metadata": {},
     "output_type": "execute_result"
    }
   ],
   "source": [
    "all_posts.shape"
   ]
  },
  {
   "cell_type": "code",
   "execution_count": 114,
   "id": "fd69f4a1-6407-400a-b00c-c70185fb8b00",
   "metadata": {},
   "outputs": [],
   "source": [
    "all_posts['body'] = all_posts['body'].str.strip()"
   ]
  },
  {
   "cell_type": "code",
   "execution_count": 115,
   "id": "7091ced5-efdd-44c3-923f-2ef0ba6642db",
   "metadata": {},
   "outputs": [],
   "source": [
    "all_posts = all_posts.loc[all_posts['body'] != '']"
   ]
  },
  {
   "cell_type": "code",
   "execution_count": 116,
   "id": "c6ff1981-62a3-4c90-8107-c0eabb6a44d9",
   "metadata": {},
   "outputs": [
    {
     "data": {
      "text/html": [
       "<div>\n",
       "<style scoped>\n",
       "    .dataframe tbody tr th:only-of-type {\n",
       "        vertical-align: middle;\n",
       "    }\n",
       "\n",
       "    .dataframe tbody tr th {\n",
       "        vertical-align: top;\n",
       "    }\n",
       "\n",
       "    .dataframe thead th {\n",
       "        text-align: right;\n",
       "    }\n",
       "</style>\n",
       "<table border=\"1\" class=\"dataframe\">\n",
       "  <thead>\n",
       "    <tr style=\"text-align: right;\">\n",
       "      <th></th>\n",
       "      <th>comments</th>\n",
       "      <th>body</th>\n",
       "      <th>bodywithurls</th>\n",
       "      <th>createdAt</th>\n",
       "      <th>createdAtformatted</th>\n",
       "      <th>creator</th>\n",
       "      <th>datatype</th>\n",
       "      <th>depth</th>\n",
       "      <th>depthRaw</th>\n",
       "      <th>followers</th>\n",
       "      <th>following</th>\n",
       "      <th>hashtags</th>\n",
       "      <th>id</th>\n",
       "      <th>lastseents</th>\n",
       "      <th>links</th>\n",
       "      <th>media</th>\n",
       "      <th>posts</th>\n",
       "      <th>sensitive</th>\n",
       "      <th>shareLink</th>\n",
       "      <th>upvotes</th>\n",
       "      <th>urls</th>\n",
       "      <th>username</th>\n",
       "      <th>verified</th>\n",
       "      <th>article</th>\n",
       "      <th>impressions</th>\n",
       "      <th>preview</th>\n",
       "      <th>reposts</th>\n",
       "      <th>state</th>\n",
       "      <th>parent</th>\n",
       "      <th>color</th>\n",
       "      <th>commentDepth</th>\n",
       "      <th>controversy</th>\n",
       "      <th>downvotes</th>\n",
       "      <th>post</th>\n",
       "      <th>score</th>\n",
       "      <th>isPrimary</th>\n",
       "      <th>conversation</th>\n",
       "      <th>replyingTo</th>\n",
       "    </tr>\n",
       "  </thead>\n",
       "  <tbody>\n",
       "  </tbody>\n",
       "</table>\n",
       "</div>"
      ],
      "text/plain": [
       "Empty DataFrame\n",
       "Columns: [comments, body, bodywithurls, createdAt, createdAtformatted, creator, datatype, depth, depthRaw, followers, following, hashtags, id, lastseents, links, media, posts, sensitive, shareLink, upvotes, urls, username, verified, article, impressions, preview, reposts, state, parent, color, commentDepth, controversy, downvotes, post, score, isPrimary, conversation, replyingTo]\n",
       "Index: []"
      ]
     },
     "execution_count": 116,
     "metadata": {},
     "output_type": "execute_result"
    }
   ],
   "source": [
    "all_posts.loc[all_posts['body'] == '  ']"
   ]
  },
  {
   "cell_type": "code",
   "execution_count": 117,
   "id": "f33dabac-1f5b-41d9-924b-154071e56e48",
   "metadata": {},
   "outputs": [
    {
     "data": {
      "text/plain": [
       "(3821365, 38)"
      ]
     },
     "execution_count": 117,
     "metadata": {},
     "output_type": "execute_result"
    }
   ],
   "source": [
    "all_posts.shape"
   ]
  },
  {
   "cell_type": "code",
   "execution_count": 118,
   "id": "79585e72-83f3-459c-943a-f6fd36a34328",
   "metadata": {},
   "outputs": [
    {
     "data": {
      "text/plain": [
       "0          ‪ CHILLS! \\n\\nI loved hearing Airforce Technic...\n",
       "2          Justice Department Zeroes In On Cuomo's COVID ...\n",
       "3          Interesting how ultra-liberal, hysterical, Hol...\n",
       "4          Petraeus Says Trump May Have Restored U.S. 'De...\n",
       "5          Hillary Clinton Calls Bernie Sanders a Sore Lo...\n",
       "                                 ...                        \n",
       "1098070                    No surprise there 🤪\\n\\n#trump2Q2Q\n",
       "1098071                                                Truth\n",
       "1098073    #lisapage #exposecoruption #corruption #hillar...\n",
       "1098076                                            Need one?\n",
       "1098077             Asking for a friend\\n\\n#humor\\n#laughter\n",
       "Name: body, Length: 3821365, dtype: object"
      ]
     },
     "execution_count": 118,
     "metadata": {},
     "output_type": "execute_result"
    }
   ],
   "source": [
    "all_posts['body']"
   ]
  },
  {
   "cell_type": "code",
   "execution_count": 119,
   "id": "c935dc40-c86d-43a8-a0c1-89fa7d7323a4",
   "metadata": {},
   "outputs": [],
   "source": [
    "all_posts.reset_index(inplace=True)"
   ]
  },
  {
   "cell_type": "code",
   "execution_count": 120,
   "id": "fb4a8705-1ea2-40ab-8411-5ab2a49db16a",
   "metadata": {},
   "outputs": [
    {
     "data": {
      "text/plain": [
       "(708742,)"
      ]
     },
     "execution_count": 120,
     "metadata": {},
     "output_type": "execute_result"
    }
   ],
   "source": [
    "all_posts['creator'].unique().shape"
   ]
  },
  {
   "cell_type": "code",
   "execution_count": 100,
   "id": "7c5b16bf-793e-4163-858d-d19638f4c39a",
   "metadata": {},
   "outputs": [
    {
     "data": {
      "text/plain": [
       "(10963320, 38)"
      ]
     },
     "execution_count": 100,
     "metadata": {},
     "output_type": "execute_result"
    }
   ],
   "source": [
    "all_posts_2.shape"
   ]
  },
  {
   "cell_type": "code",
   "execution_count": 101,
   "id": "b7bd31e8-e134-409d-9739-9ba873b86009",
   "metadata": {},
   "outputs": [],
   "source": [
    "all_posts_2.dropna(subset=['body'], inplace=True)"
   ]
  },
  {
   "cell_type": "code",
   "execution_count": 102,
   "id": "3adf6a27-0376-4757-8c02-7a9db07c546b",
   "metadata": {},
   "outputs": [
    {
     "data": {
      "text/plain": [
       "(6375927, 38)"
      ]
     },
     "execution_count": 102,
     "metadata": {},
     "output_type": "execute_result"
    }
   ],
   "source": [
    "all_posts_2.shape"
   ]
  },
  {
   "cell_type": "code",
   "execution_count": 103,
   "id": "0387094c-fadb-4ef6-bcce-778cd8102659",
   "metadata": {},
   "outputs": [],
   "source": [
    "all_posts_2['body'] = all_posts_2['body'].str.strip()"
   ]
  },
  {
   "cell_type": "code",
   "execution_count": 104,
   "id": "872ef2db-03d6-490f-95e2-db98d7b39cdc",
   "metadata": {},
   "outputs": [],
   "source": [
    "all_posts_2 = all_posts_2.loc[all_posts_2['body'] != '']"
   ]
  },
  {
   "cell_type": "code",
   "execution_count": 105,
   "id": "c475df59-fcd1-4d09-8c68-9a5460fe037c",
   "metadata": {},
   "outputs": [
    {
     "data": {
      "text/html": [
       "<div>\n",
       "<style scoped>\n",
       "    .dataframe tbody tr th:only-of-type {\n",
       "        vertical-align: middle;\n",
       "    }\n",
       "\n",
       "    .dataframe tbody tr th {\n",
       "        vertical-align: top;\n",
       "    }\n",
       "\n",
       "    .dataframe thead th {\n",
       "        text-align: right;\n",
       "    }\n",
       "</style>\n",
       "<table border=\"1\" class=\"dataframe\">\n",
       "  <thead>\n",
       "    <tr style=\"text-align: right;\">\n",
       "      <th></th>\n",
       "      <th>comments</th>\n",
       "      <th>body</th>\n",
       "      <th>bodywithurls</th>\n",
       "      <th>createdAt</th>\n",
       "      <th>createdAtformatted</th>\n",
       "      <th>creator</th>\n",
       "      <th>datatype</th>\n",
       "      <th>depth</th>\n",
       "      <th>depthRaw</th>\n",
       "      <th>followers</th>\n",
       "      <th>following</th>\n",
       "      <th>hashtags</th>\n",
       "      <th>id</th>\n",
       "      <th>lastseents</th>\n",
       "      <th>links</th>\n",
       "      <th>media</th>\n",
       "      <th>parent</th>\n",
       "      <th>posts</th>\n",
       "      <th>sensitive</th>\n",
       "      <th>upvotes</th>\n",
       "      <th>urls</th>\n",
       "      <th>username</th>\n",
       "      <th>verified</th>\n",
       "      <th>article</th>\n",
       "      <th>impressions</th>\n",
       "      <th>preview</th>\n",
       "      <th>reposts</th>\n",
       "      <th>state</th>\n",
       "      <th>shareLink</th>\n",
       "      <th>color</th>\n",
       "      <th>commentDepth</th>\n",
       "      <th>controversy</th>\n",
       "      <th>conversation</th>\n",
       "      <th>downvotes</th>\n",
       "      <th>post</th>\n",
       "      <th>replyingTo</th>\n",
       "      <th>score</th>\n",
       "      <th>isPrimary</th>\n",
       "    </tr>\n",
       "  </thead>\n",
       "  <tbody>\n",
       "  </tbody>\n",
       "</table>\n",
       "</div>"
      ],
      "text/plain": [
       "Empty DataFrame\n",
       "Columns: [comments, body, bodywithurls, createdAt, createdAtformatted, creator, datatype, depth, depthRaw, followers, following, hashtags, id, lastseents, links, media, parent, posts, sensitive, upvotes, urls, username, verified, article, impressions, preview, reposts, state, shareLink, color, commentDepth, controversy, conversation, downvotes, post, replyingTo, score, isPrimary]\n",
       "Index: []"
      ]
     },
     "execution_count": 105,
     "metadata": {},
     "output_type": "execute_result"
    }
   ],
   "source": [
    "all_posts_2.loc[all_posts_2['body'] == ' ']"
   ]
  },
  {
   "cell_type": "code",
   "execution_count": 106,
   "id": "b769a458-b60e-44a7-98ac-fc8d88119ddc",
   "metadata": {},
   "outputs": [
    {
     "data": {
      "text/plain": [
       "(6375924, 38)"
      ]
     },
     "execution_count": 106,
     "metadata": {},
     "output_type": "execute_result"
    }
   ],
   "source": [
    "all_posts_2.shape"
   ]
  },
  {
   "cell_type": "code",
   "execution_count": 107,
   "id": "1491ae64-02a7-4eff-b0b8-1ec2661b3d00",
   "metadata": {},
   "outputs": [
    {
     "data": {
      "text/plain": [
       "59                             Great we need fair elections.\n",
       "150        #antifa #sjw #blm #blacklivesmatter #whitepeop...\n",
       "265                                                   F Yes!\n",
       "276                          Che was a piece of human filth.\n",
       "290                           LMAO! \\n\\n🇺🇸WWG1WGA🇺🇸TRUMP2020\n",
       "                                 ...                        \n",
       "1095591    LIFE, Understand That Shit Happens Every Year....\n",
       "1095592    How are these morons going to chase any one,\\n...\n",
       "1095593    PANTIFA!!!\\nECHO!!!\\n\\n🇺🇸#MAGA #Trump2020 #WWG...\n",
       "1095595    Kamala Harris loves the BLM and Antifa protest...\n",
       "1095596                 #bidencrimefamily #massivevoterfraud\n",
       "Name: body, Length: 6375924, dtype: object"
      ]
     },
     "execution_count": 107,
     "metadata": {},
     "output_type": "execute_result"
    }
   ],
   "source": [
    "all_posts_2['body']"
   ]
  },
  {
   "cell_type": "code",
   "execution_count": 108,
   "id": "9907f725-a169-4c46-bf39-b8d923c5380c",
   "metadata": {},
   "outputs": [],
   "source": [
    "all_posts_2.reset_index(inplace=True)"
   ]
  },
  {
   "cell_type": "code",
   "execution_count": 109,
   "id": "61de0f31-1d54-41a6-933e-602c80f7b3eb",
   "metadata": {},
   "outputs": [
    {
     "data": {
      "text/plain": [
       "(944696,)"
      ]
     },
     "execution_count": 109,
     "metadata": {},
     "output_type": "execute_result"
    }
   ],
   "source": [
    "all_posts_2['creator'].unique().shape"
   ]
  },
  {
   "cell_type": "code",
   "execution_count": null,
   "id": "7c1358f5-0fb2-46cb-910e-8dc6292d1f45",
   "metadata": {},
   "outputs": [],
   "source": []
  },
  {
   "cell_type": "code",
   "execution_count": 121,
   "id": "93774109-8f77-485c-b137-9b499d03b358",
   "metadata": {},
   "outputs": [],
   "source": [
    "combined_df = pd.concat([all_posts, all_posts_2], ignore_index=True).reset_index()"
   ]
  },
  {
   "cell_type": "code",
   "execution_count": 122,
   "id": "d57b9505-2714-4c6e-ab9d-d88171aef9f1",
   "metadata": {},
   "outputs": [
    {
     "data": {
      "text/plain": [
       "(10197289, 40)"
      ]
     },
     "execution_count": 122,
     "metadata": {},
     "output_type": "execute_result"
    }
   ],
   "source": [
    "combined_df.shape"
   ]
  },
  {
   "cell_type": "code",
   "execution_count": 123,
   "id": "6a1a98b4-3289-4e46-9137-1ebd7c16d1d8",
   "metadata": {},
   "outputs": [
    {
     "data": {
      "text/html": [
       "<div>\n",
       "<style scoped>\n",
       "    .dataframe tbody tr th:only-of-type {\n",
       "        vertical-align: middle;\n",
       "    }\n",
       "\n",
       "    .dataframe tbody tr th {\n",
       "        vertical-align: top;\n",
       "    }\n",
       "\n",
       "    .dataframe thead th {\n",
       "        text-align: right;\n",
       "    }\n",
       "</style>\n",
       "<table border=\"1\" class=\"dataframe\">\n",
       "  <thead>\n",
       "    <tr style=\"text-align: right;\">\n",
       "      <th></th>\n",
       "      <th>level_0</th>\n",
       "      <th>index</th>\n",
       "      <th>comments</th>\n",
       "      <th>body</th>\n",
       "      <th>bodywithurls</th>\n",
       "      <th>createdAt</th>\n",
       "      <th>createdAtformatted</th>\n",
       "      <th>creator</th>\n",
       "      <th>datatype</th>\n",
       "      <th>depth</th>\n",
       "      <th>depthRaw</th>\n",
       "      <th>followers</th>\n",
       "      <th>following</th>\n",
       "      <th>hashtags</th>\n",
       "      <th>id</th>\n",
       "      <th>lastseents</th>\n",
       "      <th>links</th>\n",
       "      <th>media</th>\n",
       "      <th>posts</th>\n",
       "      <th>sensitive</th>\n",
       "      <th>shareLink</th>\n",
       "      <th>upvotes</th>\n",
       "      <th>urls</th>\n",
       "      <th>username</th>\n",
       "      <th>verified</th>\n",
       "      <th>article</th>\n",
       "      <th>impressions</th>\n",
       "      <th>preview</th>\n",
       "      <th>reposts</th>\n",
       "      <th>state</th>\n",
       "      <th>parent</th>\n",
       "      <th>color</th>\n",
       "      <th>commentDepth</th>\n",
       "      <th>controversy</th>\n",
       "      <th>downvotes</th>\n",
       "      <th>post</th>\n",
       "      <th>score</th>\n",
       "      <th>isPrimary</th>\n",
       "      <th>conversation</th>\n",
       "      <th>replyingTo</th>\n",
       "    </tr>\n",
       "  </thead>\n",
       "  <tbody>\n",
       "    <tr>\n",
       "      <th>0</th>\n",
       "      <td>0</td>\n",
       "      <td>0</td>\n",
       "      <td>2</td>\n",
       "      <td>‪ CHILLS! \\n\\nI loved hearing Airforce Technic...</td>\n",
       "      <td>‪ CHILLS! \\n\\nI loved hearing Airforce Technic...</td>\n",
       "      <td>2.020022e+13</td>\n",
       "      <td>2020-02-16 23:15:56 UTC</td>\n",
       "      <td>59501f9de23142fdbecee0b6592eb17f</td>\n",
       "      <td>posts</td>\n",
       "      <td>0.0</td>\n",
       "      <td>0.0</td>\n",
       "      <td>12000.0</td>\n",
       "      <td>2900.0</td>\n",
       "      <td>['daytona500']</td>\n",
       "      <td>f2c55d1b981e4e109863cd7b30486a3f</td>\n",
       "      <td>2020-12-14T07:02:54.021284+00:00</td>\n",
       "      <td>['SyVr4']</td>\n",
       "      <td>4.0</td>\n",
       "      <td>682.0</td>\n",
       "      <td>0.0</td>\n",
       "      <td>https://parler.com/post/f2c55d1b981e4e109863cd...</td>\n",
       "      <td>31.0</td>\n",
       "      <td>[{'createdAt': '20200216231414', 'domain': 'tw...</td>\n",
       "      <td>Jamierodr14</td>\n",
       "      <td>0.0</td>\n",
       "      <td>0.0</td>\n",
       "      <td>2500.0</td>\n",
       "      <td>‪ CHILLS! \\n\\nI loved hearing Airforce Technic...</td>\n",
       "      <td>16.0</td>\n",
       "      <td>4.0</td>\n",
       "      <td>NaN</td>\n",
       "      <td>NaN</td>\n",
       "      <td>NaN</td>\n",
       "      <td>NaN</td>\n",
       "      <td>NaN</td>\n",
       "      <td>NaN</td>\n",
       "      <td>NaN</td>\n",
       "      <td>NaN</td>\n",
       "      <td>NaN</td>\n",
       "      <td>NaN</td>\n",
       "    </tr>\n",
       "  </tbody>\n",
       "</table>\n",
       "</div>"
      ],
      "text/plain": [
       "   level_0  index  comments  \\\n",
       "0        0      0         2   \n",
       "\n",
       "                                                body  \\\n",
       "0  ‪ CHILLS! \\n\\nI loved hearing Airforce Technic...   \n",
       "\n",
       "                                        bodywithurls     createdAt  \\\n",
       "0  ‪ CHILLS! \\n\\nI loved hearing Airforce Technic...  2.020022e+13   \n",
       "\n",
       "        createdAtformatted                           creator datatype  depth  \\\n",
       "0  2020-02-16 23:15:56 UTC  59501f9de23142fdbecee0b6592eb17f    posts    0.0   \n",
       "\n",
       "   depthRaw  followers  following        hashtags  \\\n",
       "0       0.0    12000.0     2900.0  ['daytona500']   \n",
       "\n",
       "                                 id                        lastseents  \\\n",
       "0  f2c55d1b981e4e109863cd7b30486a3f  2020-12-14T07:02:54.021284+00:00   \n",
       "\n",
       "       links  media  posts sensitive  \\\n",
       "0  ['SyVr4']    4.0  682.0       0.0   \n",
       "\n",
       "                                           shareLink  upvotes  \\\n",
       "0  https://parler.com/post/f2c55d1b981e4e109863cd...     31.0   \n",
       "\n",
       "                                                urls     username verified  \\\n",
       "0  [{'createdAt': '20200216231414', 'domain': 'tw...  Jamierodr14      0.0   \n",
       "\n",
       "   article  impressions                                            preview  \\\n",
       "0      0.0       2500.0  ‪ CHILLS! \\n\\nI loved hearing Airforce Technic...   \n",
       "\n",
       "   reposts  state parent color  commentDepth  controversy downvotes post  \\\n",
       "0     16.0    4.0    NaN   NaN           NaN          NaN       NaN  NaN   \n",
       "\n",
       "   score  isPrimary conversation replyingTo  \n",
       "0    NaN        NaN          NaN        NaN  "
      ]
     },
     "execution_count": 123,
     "metadata": {},
     "output_type": "execute_result"
    }
   ],
   "source": [
    "combined_df.head(1)"
   ]
  },
  {
   "cell_type": "code",
   "execution_count": 124,
   "id": "d34357df-ae95-4237-9117-9dc474dc5d79",
   "metadata": {},
   "outputs": [],
   "source": [
    "combined_df.to_csv('data/raw_ndjson/all_posts.csv', index=False)"
   ]
  },
  {
   "cell_type": "code",
   "execution_count": 128,
   "id": "87f06000-3476-44b6-8c5d-93a45a8385ab",
   "metadata": {},
   "outputs": [],
   "source": [
    "unique_creators = list(set(combined_df['creator']))"
   ]
  },
  {
   "cell_type": "code",
   "execution_count": 132,
   "id": "d8a0d16c-c922-41be-ab6b-34b89df12821",
   "metadata": {},
   "outputs": [
    {
     "data": {
      "text/plain": [
       "610395"
      ]
     },
     "execution_count": 132,
     "metadata": {},
     "output_type": "execute_result"
    }
   ],
   "source": [
    "len(unique_creators)//2"
   ]
  },
  {
   "cell_type": "code",
   "execution_count": 135,
   "id": "b9cd73c0-a7cd-4c44-8f39-4369d192dc6c",
   "metadata": {},
   "outputs": [],
   "source": [
    "split_610395_creators = unique_creators[:610395]"
   ]
  },
  {
   "cell_type": "code",
   "execution_count": null,
   "id": "e55d85f0-b9f5-4b37-b513-e0f6bd86bac5",
   "metadata": {},
   "outputs": [],
   "source": [
    "half_df = combined_df.loc[combined_df['creator'] == split_610395_creators]"
   ]
  },
  {
   "cell_type": "code",
   "execution_count": null,
   "id": "7e2ac522-b3e3-4ae8-bf9c-b5e21dbd1d40",
   "metadata": {},
   "outputs": [],
   "source": []
  },
  {
   "cell_type": "code",
   "execution_count": null,
   "id": "fff3776d-ec6f-4b4f-a761-3a53fa07be44",
   "metadata": {},
   "outputs": [],
   "source": []
  }
 ],
 "metadata": {
  "kernelspec": {
   "display_name": "Python 3 (ipykernel)",
   "language": "python",
   "name": "python3"
  },
  "language_info": {
   "codemirror_mode": {
    "name": "ipython",
    "version": 3
   },
   "file_extension": ".py",
   "mimetype": "text/x-python",
   "name": "python",
   "nbconvert_exporter": "python",
   "pygments_lexer": "ipython3",
   "version": "3.9.7"
  }
 },
 "nbformat": 4,
 "nbformat_minor": 5
}
