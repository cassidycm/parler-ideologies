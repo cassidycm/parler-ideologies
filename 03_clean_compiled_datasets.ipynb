{
 "cells": [
  {
   "cell_type": "markdown",
   "id": "c3c8a21c-4579-47b4-9ed8-50a20bfbf9b0",
   "metadata": {},
   "source": [
    "# Clean users and posts compiled datasets "
   ]
  },
  {
   "cell_type": "markdown",
   "id": "db775ca7-9b52-46b0-90f3-a1090671e3c1",
   "metadata": {},
   "source": [
    "For both the users and posts datasets:\n",
    "- Pare down features\n",
    "- Drop nulls and deal with missing data\n",
    "- Remove usernames and html artifacts \n",
    "- Join users to post dataset\n",
    "- Export cleaned data as 2 separate csvs: modeling (for train and test) and validation "
   ]
  },
  {
   "cell_type": "code",
   "execution_count": 1,
   "id": "7847eee5-c6a0-49a2-ba5c-3b1a65fbb480",
   "metadata": {},
   "outputs": [],
   "source": [
    "import numpy as np\n",
    "import pandas as pd\n",
    "import re\n",
    "\n",
    "pd.set_option('display.max_columns', 100)\n",
    "pd.set_option('display.max_colwidth', 500)"
   ]
  },
  {
   "cell_type": "code",
   "execution_count": 2,
   "id": "2feeedfc-7f1b-42c8-bc25-0ce8db71a92a",
   "metadata": {},
   "outputs": [
    {
     "data": {
      "text/plain": [
       "(100000, 38)"
      ]
     },
     "execution_count": 2,
     "metadata": {},
     "output_type": "execute_result"
    }
   ],
   "source": [
    "posts = pd.read_csv('data/posts_01_raw_sample.csv')\n",
    "posts.shape"
   ]
  },
  {
   "cell_type": "code",
   "execution_count": 3,
   "id": "c91bc6b1-25b4-4288-b59a-dd28bf0cd9a9",
   "metadata": {
    "tags": []
   },
   "outputs": [
    {
     "data": {
      "text/html": [
       "<div>\n",
       "<style scoped>\n",
       "    .dataframe tbody tr th:only-of-type {\n",
       "        vertical-align: middle;\n",
       "    }\n",
       "\n",
       "    .dataframe tbody tr th {\n",
       "        vertical-align: top;\n",
       "    }\n",
       "\n",
       "    .dataframe thead th {\n",
       "        text-align: right;\n",
       "    }\n",
       "</style>\n",
       "<table border=\"1\" class=\"dataframe\">\n",
       "  <thead>\n",
       "    <tr style=\"text-align: right;\">\n",
       "      <th></th>\n",
       "      <th>comments</th>\n",
       "      <th>body</th>\n",
       "      <th>bodywithurls</th>\n",
       "      <th>createdAt</th>\n",
       "      <th>createdAtformatted</th>\n",
       "      <th>creator</th>\n",
       "      <th>datatype</th>\n",
       "      <th>depth</th>\n",
       "      <th>depthRaw</th>\n",
       "      <th>followers</th>\n",
       "      <th>following</th>\n",
       "      <th>hashtags</th>\n",
       "      <th>id</th>\n",
       "      <th>lastseents</th>\n",
       "      <th>links</th>\n",
       "      <th>media</th>\n",
       "      <th>posts</th>\n",
       "      <th>sensitive</th>\n",
       "      <th>shareLink</th>\n",
       "      <th>upvotes</th>\n",
       "      <th>urls</th>\n",
       "      <th>username</th>\n",
       "      <th>verified</th>\n",
       "      <th>article</th>\n",
       "      <th>impressions</th>\n",
       "      <th>preview</th>\n",
       "      <th>reposts</th>\n",
       "      <th>state</th>\n",
       "      <th>parent</th>\n",
       "      <th>color</th>\n",
       "      <th>commentDepth</th>\n",
       "      <th>controversy</th>\n",
       "      <th>downvotes</th>\n",
       "      <th>post</th>\n",
       "      <th>score</th>\n",
       "      <th>isPrimary</th>\n",
       "      <th>conversation</th>\n",
       "      <th>replyingTo</th>\n",
       "    </tr>\n",
       "  </thead>\n",
       "  <tbody>\n",
       "    <tr>\n",
       "      <th>0</th>\n",
       "      <td>0</td>\n",
       "      <td>Possibly........\\n\\n•Chynaa.\\n•Soros.\\n•Globalists.\\n•Deep State.\\n\\nAnd a whole host of brain washed Idiots - investing in their own future safety.</td>\n",
       "      <td>Possibly........\\n\\n•Chynaa.\\n•Soros.\\n•Globalists.\\n•Deep State.\\n\\nAnd a whole host of brain washed Idiots - investing in their own future safety.\\n</td>\n",
       "      <td>2.020090e+13</td>\n",
       "      <td>2020-09-01 18:05:07 UTC</td>\n",
       "      <td>e0ccf0acef0a43fa9ea7a447debdc781</td>\n",
       "      <td>comments</td>\n",
       "      <td>2.0</td>\n",
       "      <td>2.0</td>\n",
       "      <td>701.0</td>\n",
       "      <td>525.0</td>\n",
       "      <td>[]</td>\n",
       "      <td>08511f2c61514e0f805e299e467f4727</td>\n",
       "      <td>2020-12-26T12:16:52.766453+00:00</td>\n",
       "      <td>[]</td>\n",
       "      <td>168.0</td>\n",
       "      <td>1100.0</td>\n",
       "      <td>0.0</td>\n",
       "      <td>https://parler.com/comment/08511f2c61514e0f805e299e467f4727</td>\n",
       "      <td>0.0</td>\n",
       "      <td>[]</td>\n",
       "      <td>Dd061973</td>\n",
       "      <td>0.0</td>\n",
       "      <td>NaN</td>\n",
       "      <td>NaN</td>\n",
       "      <td>NaN</td>\n",
       "      <td>NaN</td>\n",
       "      <td>NaN</td>\n",
       "      <td>692baa94e4c845df829fa5b333a0e61b</td>\n",
       "      <td>#808080</td>\n",
       "      <td>1.0</td>\n",
       "      <td>0.0</td>\n",
       "      <td>0.0</td>\n",
       "      <td>19a9db6ce1c040f1accff10028d90cb8</td>\n",
       "      <td>0.0</td>\n",
       "      <td>0.0</td>\n",
       "      <td>NaN</td>\n",
       "      <td>NaN</td>\n",
       "    </tr>\n",
       "    <tr>\n",
       "      <th>1</th>\n",
       "      <td>0</td>\n",
       "      <td>Right!</td>\n",
       "      <td>Right!\\n</td>\n",
       "      <td>2.020072e+13</td>\n",
       "      <td>2020-07-24 20:58:59 UTC</td>\n",
       "      <td>781e9ee94ab242f294627d69ee1e74ac</td>\n",
       "      <td>comments</td>\n",
       "      <td>1.0</td>\n",
       "      <td>1.0</td>\n",
       "      <td>10.0</td>\n",
       "      <td>12.0</td>\n",
       "      <td>[]</td>\n",
       "      <td>52059b3edb194960b7f1db5fa577f2d9</td>\n",
       "      <td>2021-01-09T18:36:02.804212+00:00</td>\n",
       "      <td>[]</td>\n",
       "      <td>0.0</td>\n",
       "      <td>18.0</td>\n",
       "      <td>0.0</td>\n",
       "      <td>https://parler.com/comment/52059b3edb194960b7f1db5fa577f2d9</td>\n",
       "      <td>0.0</td>\n",
       "      <td>[]</td>\n",
       "      <td>AlisonHMcvay</td>\n",
       "      <td>0.0</td>\n",
       "      <td>NaN</td>\n",
       "      <td>NaN</td>\n",
       "      <td>NaN</td>\n",
       "      <td>NaN</td>\n",
       "      <td>NaN</td>\n",
       "      <td>77528f6960b34bb691405135b27f9782</td>\n",
       "      <td>#a60303</td>\n",
       "      <td>0.0</td>\n",
       "      <td>0.0</td>\n",
       "      <td>0.0</td>\n",
       "      <td>77528f6960b34bb691405135b27f9782</td>\n",
       "      <td>0.0</td>\n",
       "      <td>1.0</td>\n",
       "      <td>NaN</td>\n",
       "      <td>NaN</td>\n",
       "    </tr>\n",
       "    <tr>\n",
       "      <th>2</th>\n",
       "      <td>0</td>\n",
       "      <td>Cuomo is an egotistical asshole. His day is coming.</td>\n",
       "      <td>Cuomo is an egotistical asshole. His day is coming.\\n</td>\n",
       "      <td>2.020113e+13</td>\n",
       "      <td>2020-11-29 16:25:55 UTC</td>\n",
       "      <td>9c46ba5cdb7445b28d1e301ad873bb75</td>\n",
       "      <td>comments</td>\n",
       "      <td>1.0</td>\n",
       "      <td>1.0</td>\n",
       "      <td>3100.0</td>\n",
       "      <td>5700.0</td>\n",
       "      <td>[]</td>\n",
       "      <td>5d3df500ce124a99bf93d15518b732ee</td>\n",
       "      <td>2021-01-09T16:02:03.575467+00:00</td>\n",
       "      <td>[]</td>\n",
       "      <td>1.0</td>\n",
       "      <td>7900.0</td>\n",
       "      <td>0.0</td>\n",
       "      <td>https://parler.com/comment/5d3df500ce124a99bf93d15518b732ee</td>\n",
       "      <td>1.0</td>\n",
       "      <td>[]</td>\n",
       "      <td>Mlaster206</td>\n",
       "      <td>0.0</td>\n",
       "      <td>NaN</td>\n",
       "      <td>NaN</td>\n",
       "      <td>NaN</td>\n",
       "      <td>NaN</td>\n",
       "      <td>NaN</td>\n",
       "      <td>7c187094ac5c4ed2a408d6288f923b4e</td>\n",
       "      <td>#a60303</td>\n",
       "      <td>0.0</td>\n",
       "      <td>0.0</td>\n",
       "      <td>0.0</td>\n",
       "      <td>7c187094ac5c4ed2a408d6288f923b4e</td>\n",
       "      <td>1.0</td>\n",
       "      <td>1.0</td>\n",
       "      <td>NaN</td>\n",
       "      <td>NaN</td>\n",
       "    </tr>\n",
       "  </tbody>\n",
       "</table>\n",
       "</div>"
      ],
      "text/plain": [
       "   comments  \\\n",
       "0         0   \n",
       "1         0   \n",
       "2         0   \n",
       "\n",
       "                                                                                                                                                   body  \\\n",
       "0  Possibly........\\n\\n•Chynaa.\\n•Soros.\\n•Globalists.\\n•Deep State.\\n\\nAnd a whole host of brain washed Idiots - investing in their own future safety.   \n",
       "1                                                                                                                                                Right!   \n",
       "2                                                                                                   Cuomo is an egotistical asshole. His day is coming.   \n",
       "\n",
       "                                                                                                                                             bodywithurls  \\\n",
       "0  Possibly........\\n\\n•Chynaa.\\n•Soros.\\n•Globalists.\\n•Deep State.\\n\\nAnd a whole host of brain washed Idiots - investing in their own future safety.\\n   \n",
       "1                                                                                                                                                Right!\\n   \n",
       "2                                                                                                   Cuomo is an egotistical asshole. His day is coming.\\n   \n",
       "\n",
       "      createdAt       createdAtformatted                           creator  \\\n",
       "0  2.020090e+13  2020-09-01 18:05:07 UTC  e0ccf0acef0a43fa9ea7a447debdc781   \n",
       "1  2.020072e+13  2020-07-24 20:58:59 UTC  781e9ee94ab242f294627d69ee1e74ac   \n",
       "2  2.020113e+13  2020-11-29 16:25:55 UTC  9c46ba5cdb7445b28d1e301ad873bb75   \n",
       "\n",
       "   datatype  depth  depthRaw  followers  following hashtags  \\\n",
       "0  comments    2.0       2.0      701.0      525.0       []   \n",
       "1  comments    1.0       1.0       10.0       12.0       []   \n",
       "2  comments    1.0       1.0     3100.0     5700.0       []   \n",
       "\n",
       "                                 id                        lastseents links  \\\n",
       "0  08511f2c61514e0f805e299e467f4727  2020-12-26T12:16:52.766453+00:00    []   \n",
       "1  52059b3edb194960b7f1db5fa577f2d9  2021-01-09T18:36:02.804212+00:00    []   \n",
       "2  5d3df500ce124a99bf93d15518b732ee  2021-01-09T16:02:03.575467+00:00    []   \n",
       "\n",
       "   media   posts  sensitive  \\\n",
       "0  168.0  1100.0        0.0   \n",
       "1    0.0    18.0        0.0   \n",
       "2    1.0  7900.0        0.0   \n",
       "\n",
       "                                                     shareLink  upvotes urls  \\\n",
       "0  https://parler.com/comment/08511f2c61514e0f805e299e467f4727      0.0   []   \n",
       "1  https://parler.com/comment/52059b3edb194960b7f1db5fa577f2d9      0.0   []   \n",
       "2  https://parler.com/comment/5d3df500ce124a99bf93d15518b732ee      1.0   []   \n",
       "\n",
       "       username  verified  article  impressions preview  reposts  state  \\\n",
       "0      Dd061973       0.0      NaN          NaN     NaN      NaN    NaN   \n",
       "1  AlisonHMcvay       0.0      NaN          NaN     NaN      NaN    NaN   \n",
       "2    Mlaster206       0.0      NaN          NaN     NaN      NaN    NaN   \n",
       "\n",
       "                             parent    color  commentDepth  controversy  \\\n",
       "0  692baa94e4c845df829fa5b333a0e61b  #808080           1.0          0.0   \n",
       "1  77528f6960b34bb691405135b27f9782  #a60303           0.0          0.0   \n",
       "2  7c187094ac5c4ed2a408d6288f923b4e  #a60303           0.0          0.0   \n",
       "\n",
       "   downvotes                              post  score  isPrimary conversation  \\\n",
       "0        0.0  19a9db6ce1c040f1accff10028d90cb8    0.0        0.0          NaN   \n",
       "1        0.0  77528f6960b34bb691405135b27f9782    0.0        1.0          NaN   \n",
       "2        0.0  7c187094ac5c4ed2a408d6288f923b4e    1.0        1.0          NaN   \n",
       "\n",
       "  replyingTo  \n",
       "0        NaN  \n",
       "1        NaN  \n",
       "2        NaN  "
      ]
     },
     "execution_count": 3,
     "metadata": {},
     "output_type": "execute_result"
    }
   ],
   "source": [
    "posts.head(3)"
   ]
  },
  {
   "cell_type": "markdown",
   "id": "01e06280-e095-4cd2-b0c6-e43d6d706725",
   "metadata": {
    "tags": []
   },
   "source": [
    "## Drop columns"
   ]
  },
  {
   "cell_type": "code",
   "execution_count": 4,
   "id": "79e973dd-3fe2-42b4-b785-93648f704c3b",
   "metadata": {},
   "outputs": [],
   "source": [
    "posts = posts.drop(columns=['bodywithurls', 'createdAt', 'color', 'shareLink', 'urls'])"
   ]
  },
  {
   "cell_type": "code",
   "execution_count": 5,
   "id": "8afc535b-f0f6-4a5f-93c4-78e125bf91ad",
   "metadata": {},
   "outputs": [],
   "source": [
    "# lowercase column names\n",
    "posts.columns = posts.columns.str.lower()"
   ]
  },
  {
   "cell_type": "markdown",
   "id": "40814d59-f835-47df-ab85-9a6b6b2a5e91",
   "metadata": {
    "tags": []
   },
   "source": [
    "## Clean up text with regex "
   ]
  },
  {
   "cell_type": "code",
   "execution_count": 6,
   "id": "35118d43-6527-4f78-bb70-98b5792a0718",
   "metadata": {},
   "outputs": [],
   "source": [
    "# remove usernames\n",
    "posts['body'] = posts['body'].map(lambda x: re.sub(\"\\@[a-zA-Z0-9]*\", ' ', str(x)))"
   ]
  },
  {
   "cell_type": "code",
   "execution_count": 7,
   "id": "374c7912-f8cb-4b02-b86b-7555118f9580",
   "metadata": {},
   "outputs": [],
   "source": [
    "# remove new lines characters and html artifacts\n",
    "posts['body'] = posts['body'].map(lambda x: re.sub(\"\\n|\\r|&amp;#x200B;|&amp;\", ' ', str(x)))"
   ]
  },
  {
   "cell_type": "markdown",
   "id": "ed0f0c42-e1ec-4c89-ac2b-ab8246a1b51d",
   "metadata": {},
   "source": [
    "## Remove rows where body text contains the following words \n",
    "- parler/Parler \n",
    "- Welcome/welcome\n",
    "- Non-english languages (Arabic)"
   ]
  },
  {
   "cell_type": "code",
   "execution_count": 8,
   "id": "513b6991-a3ce-47dc-afeb-d38f5ee0719d",
   "metadata": {},
   "outputs": [
    {
     "data": {
      "text/plain": [
       "100000"
      ]
     },
     "execution_count": 8,
     "metadata": {},
     "output_type": "execute_result"
    }
   ],
   "source": [
    "len(posts)"
   ]
  },
  {
   "cell_type": "code",
   "execution_count": 9,
   "id": "e6e1c022-20e1-4761-9b92-05a098852552",
   "metadata": {},
   "outputs": [],
   "source": [
    "posts = posts[posts['body'].str.contains('parler') == False]"
   ]
  },
  {
   "cell_type": "code",
   "execution_count": 10,
   "id": "106970ce-73dc-4ef1-b13d-45e1606ba523",
   "metadata": {},
   "outputs": [
    {
     "data": {
      "text/plain": [
       "98737"
      ]
     },
     "execution_count": 10,
     "metadata": {},
     "output_type": "execute_result"
    }
   ],
   "source": [
    "len(posts)"
   ]
  },
  {
   "cell_type": "code",
   "execution_count": 11,
   "id": "32c8d861-abf7-46f5-a644-097cd92fc80c",
   "metadata": {},
   "outputs": [],
   "source": [
    "posts = posts[posts['body'].str.contains('Parler') == False]"
   ]
  },
  {
   "cell_type": "code",
   "execution_count": 12,
   "id": "81a0c9e2-b732-4fc3-ab97-45f298bde48d",
   "metadata": {},
   "outputs": [
    {
     "data": {
      "text/plain": [
       "89751"
      ]
     },
     "execution_count": 12,
     "metadata": {},
     "output_type": "execute_result"
    }
   ],
   "source": [
    "len(posts)"
   ]
  },
  {
   "cell_type": "code",
   "execution_count": 13,
   "id": "34fd7eca-8c40-40d3-81b7-25709e600596",
   "metadata": {},
   "outputs": [],
   "source": [
    "posts = posts[posts['body'].str.contains('welcome') == False]"
   ]
  },
  {
   "cell_type": "code",
   "execution_count": 14,
   "id": "e8c4dd29-1ce2-43b0-9d3f-d98bfc8ff826",
   "metadata": {},
   "outputs": [
    {
     "data": {
      "text/plain": [
       "89593"
      ]
     },
     "execution_count": 14,
     "metadata": {},
     "output_type": "execute_result"
    }
   ],
   "source": [
    "len(posts)"
   ]
  },
  {
   "cell_type": "code",
   "execution_count": 15,
   "id": "df72a0f1-5e8a-4904-8725-bbef7def2377",
   "metadata": {},
   "outputs": [],
   "source": [
    "posts = posts[posts['body'].str.contains('Welcome') == False]"
   ]
  },
  {
   "cell_type": "code",
   "execution_count": 16,
   "id": "62bfd3fc-8446-4b4e-9ef0-5c36debd94a4",
   "metadata": {},
   "outputs": [
    {
     "data": {
      "text/plain": [
       "87788"
      ]
     },
     "execution_count": 16,
     "metadata": {},
     "output_type": "execute_result"
    }
   ],
   "source": [
    "len(posts)"
   ]
  },
  {
   "cell_type": "code",
   "execution_count": 17,
   "id": "d24fb74a-2cc4-4d45-a126-c8b800f4e0c0",
   "metadata": {},
   "outputs": [
    {
     "data": {
      "text/html": [
       "<div>\n",
       "<style scoped>\n",
       "    .dataframe tbody tr th:only-of-type {\n",
       "        vertical-align: middle;\n",
       "    }\n",
       "\n",
       "    .dataframe tbody tr th {\n",
       "        vertical-align: top;\n",
       "    }\n",
       "\n",
       "    .dataframe thead th {\n",
       "        text-align: right;\n",
       "    }\n",
       "</style>\n",
       "<table border=\"1\" class=\"dataframe\">\n",
       "  <thead>\n",
       "    <tr style=\"text-align: right;\">\n",
       "      <th></th>\n",
       "      <th>comments</th>\n",
       "      <th>body</th>\n",
       "      <th>createdatformatted</th>\n",
       "      <th>creator</th>\n",
       "      <th>datatype</th>\n",
       "      <th>depth</th>\n",
       "      <th>depthraw</th>\n",
       "      <th>followers</th>\n",
       "      <th>following</th>\n",
       "      <th>hashtags</th>\n",
       "      <th>id</th>\n",
       "      <th>lastseents</th>\n",
       "      <th>links</th>\n",
       "      <th>media</th>\n",
       "      <th>posts</th>\n",
       "      <th>sensitive</th>\n",
       "      <th>upvotes</th>\n",
       "      <th>username</th>\n",
       "      <th>verified</th>\n",
       "      <th>article</th>\n",
       "      <th>impressions</th>\n",
       "      <th>preview</th>\n",
       "      <th>reposts</th>\n",
       "      <th>state</th>\n",
       "      <th>parent</th>\n",
       "      <th>commentdepth</th>\n",
       "      <th>controversy</th>\n",
       "      <th>downvotes</th>\n",
       "      <th>post</th>\n",
       "      <th>score</th>\n",
       "      <th>isprimary</th>\n",
       "      <th>conversation</th>\n",
       "      <th>replyingto</th>\n",
       "    </tr>\n",
       "  </thead>\n",
       "  <tbody>\n",
       "    <tr>\n",
       "      <th>0</th>\n",
       "      <td>0</td>\n",
       "      <td>Possibly........  •Chynaa. •Soros. •Globalists. •Deep State.  And a whole host of brain washed Idiots - investing in their own future safety.</td>\n",
       "      <td>2020-09-01 18:05:07 UTC</td>\n",
       "      <td>e0ccf0acef0a43fa9ea7a447debdc781</td>\n",
       "      <td>comments</td>\n",
       "      <td>2.0</td>\n",
       "      <td>2.0</td>\n",
       "      <td>701.0</td>\n",
       "      <td>525.0</td>\n",
       "      <td>[]</td>\n",
       "      <td>08511f2c61514e0f805e299e467f4727</td>\n",
       "      <td>2020-12-26T12:16:52.766453+00:00</td>\n",
       "      <td>[]</td>\n",
       "      <td>168.0</td>\n",
       "      <td>1100.0</td>\n",
       "      <td>0.0</td>\n",
       "      <td>0.0</td>\n",
       "      <td>Dd061973</td>\n",
       "      <td>0.0</td>\n",
       "      <td>NaN</td>\n",
       "      <td>NaN</td>\n",
       "      <td>NaN</td>\n",
       "      <td>NaN</td>\n",
       "      <td>NaN</td>\n",
       "      <td>692baa94e4c845df829fa5b333a0e61b</td>\n",
       "      <td>1.0</td>\n",
       "      <td>0.0</td>\n",
       "      <td>0.0</td>\n",
       "      <td>19a9db6ce1c040f1accff10028d90cb8</td>\n",
       "      <td>0.0</td>\n",
       "      <td>0.0</td>\n",
       "      <td>NaN</td>\n",
       "      <td>NaN</td>\n",
       "    </tr>\n",
       "    <tr>\n",
       "      <th>1</th>\n",
       "      <td>0</td>\n",
       "      <td>Right!</td>\n",
       "      <td>2020-07-24 20:58:59 UTC</td>\n",
       "      <td>781e9ee94ab242f294627d69ee1e74ac</td>\n",
       "      <td>comments</td>\n",
       "      <td>1.0</td>\n",
       "      <td>1.0</td>\n",
       "      <td>10.0</td>\n",
       "      <td>12.0</td>\n",
       "      <td>[]</td>\n",
       "      <td>52059b3edb194960b7f1db5fa577f2d9</td>\n",
       "      <td>2021-01-09T18:36:02.804212+00:00</td>\n",
       "      <td>[]</td>\n",
       "      <td>0.0</td>\n",
       "      <td>18.0</td>\n",
       "      <td>0.0</td>\n",
       "      <td>0.0</td>\n",
       "      <td>AlisonHMcvay</td>\n",
       "      <td>0.0</td>\n",
       "      <td>NaN</td>\n",
       "      <td>NaN</td>\n",
       "      <td>NaN</td>\n",
       "      <td>NaN</td>\n",
       "      <td>NaN</td>\n",
       "      <td>77528f6960b34bb691405135b27f9782</td>\n",
       "      <td>0.0</td>\n",
       "      <td>0.0</td>\n",
       "      <td>0.0</td>\n",
       "      <td>77528f6960b34bb691405135b27f9782</td>\n",
       "      <td>0.0</td>\n",
       "      <td>1.0</td>\n",
       "      <td>NaN</td>\n",
       "      <td>NaN</td>\n",
       "    </tr>\n",
       "  </tbody>\n",
       "</table>\n",
       "</div>"
      ],
      "text/plain": [
       "   comments  \\\n",
       "0         0   \n",
       "1         0   \n",
       "\n",
       "                                                                                                                                            body  \\\n",
       "0  Possibly........  •Chynaa. •Soros. •Globalists. •Deep State.  And a whole host of brain washed Idiots - investing in their own future safety.   \n",
       "1                                                                                                                                         Right!   \n",
       "\n",
       "        createdatformatted                           creator  datatype  depth  \\\n",
       "0  2020-09-01 18:05:07 UTC  e0ccf0acef0a43fa9ea7a447debdc781  comments    2.0   \n",
       "1  2020-07-24 20:58:59 UTC  781e9ee94ab242f294627d69ee1e74ac  comments    1.0   \n",
       "\n",
       "   depthraw  followers  following hashtags                                id  \\\n",
       "0       2.0      701.0      525.0       []  08511f2c61514e0f805e299e467f4727   \n",
       "1       1.0       10.0       12.0       []  52059b3edb194960b7f1db5fa577f2d9   \n",
       "\n",
       "                         lastseents links  media   posts  sensitive  upvotes  \\\n",
       "0  2020-12-26T12:16:52.766453+00:00    []  168.0  1100.0        0.0      0.0   \n",
       "1  2021-01-09T18:36:02.804212+00:00    []    0.0    18.0        0.0      0.0   \n",
       "\n",
       "       username  verified  article  impressions preview  reposts  state  \\\n",
       "0      Dd061973       0.0      NaN          NaN     NaN      NaN    NaN   \n",
       "1  AlisonHMcvay       0.0      NaN          NaN     NaN      NaN    NaN   \n",
       "\n",
       "                             parent  commentdepth  controversy  downvotes  \\\n",
       "0  692baa94e4c845df829fa5b333a0e61b           1.0          0.0        0.0   \n",
       "1  77528f6960b34bb691405135b27f9782           0.0          0.0        0.0   \n",
       "\n",
       "                               post  score  isprimary conversation replyingto  \n",
       "0  19a9db6ce1c040f1accff10028d90cb8    0.0        0.0          NaN        NaN  \n",
       "1  77528f6960b34bb691405135b27f9782    0.0        1.0          NaN        NaN  "
      ]
     },
     "execution_count": 17,
     "metadata": {},
     "output_type": "execute_result"
    }
   ],
   "source": [
    "posts.head(2)"
   ]
  },
  {
   "cell_type": "code",
   "execution_count": 18,
   "id": "40ff67ca-10d3-4932-a675-9370b64dac00",
   "metadata": {},
   "outputs": [
    {
     "data": {
      "text/plain": [
       "comments               0.000000\n",
       "verified               0.000000\n",
       "username               0.000000\n",
       "sensitive              0.000000\n",
       "posts                  0.000000\n",
       "media                  0.000000\n",
       "links                  0.000000\n",
       "lastseents             0.000000\n",
       "id                     0.000000\n",
       "upvotes                0.000000\n",
       "following              0.000000\n",
       "followers              0.000000\n",
       "depthraw               0.000000\n",
       "depth                  0.000000\n",
       "datatype               0.000000\n",
       "creator                0.000000\n",
       "createdatformatted     0.000000\n",
       "body                   0.000000\n",
       "hashtags               0.000000\n",
       "parent                12.720417\n",
       "score                 22.778740\n",
       "post                  22.778740\n",
       "downvotes             22.778740\n",
       "controversy           22.778740\n",
       "commentdepth          22.778740\n",
       "isprimary             33.623046\n",
       "preview               77.221260\n",
       "reposts               77.221260\n",
       "impressions           77.221260\n",
       "article               77.983323\n",
       "state                 78.821707\n",
       "conversation          89.155693\n",
       "replyingto            92.456828\n",
       "dtype: float64"
      ]
     },
     "execution_count": 18,
     "metadata": {},
     "output_type": "execute_result"
    }
   ],
   "source": [
    "(posts.isna().sum()/len(posts) * 100).sort_values()"
   ]
  },
  {
   "cell_type": "code",
   "execution_count": 19,
   "id": "251a7615-7b5d-4d7b-9317-33c898fcd3f5",
   "metadata": {},
   "outputs": [],
   "source": [
    "posts = posts.drop(columns=['conversation', 'replyingto'])"
   ]
  },
  {
   "cell_type": "markdown",
   "id": "53c5ece1-f744-42ae-96b5-3755acd2eed9",
   "metadata": {},
   "source": [
    "## Export cleaned posts csv"
   ]
  },
  {
   "cell_type": "code",
   "execution_count": 20,
   "id": "767998a4-6648-4fb4-8bc2-989074c7ac3c",
   "metadata": {},
   "outputs": [],
   "source": [
    "posts.to_csv('data/posts_01_cleaned_sample.csv', index=False)"
   ]
  },
  {
   "cell_type": "code",
   "execution_count": null,
   "id": "c6f706b3-e6c5-4c4a-be4b-fb34db8ea19f",
   "metadata": {},
   "outputs": [],
   "source": []
  },
  {
   "cell_type": "markdown",
   "id": "37d31141-51db-42d1-ac0b-830ca9c6b745",
   "metadata": {},
   "source": [
    "## Create transposed table with creator, body text, timestamp "
   ]
  },
  {
   "cell_type": "code",
   "execution_count": 21,
   "id": "bdd91554-087a-431b-8c20-cdec8b93dbe2",
   "metadata": {},
   "outputs": [
    {
     "data": {
      "text/plain": [
       "(87788, 31)"
      ]
     },
     "execution_count": 21,
     "metadata": {},
     "output_type": "execute_result"
    }
   ],
   "source": [
    "posts.shape"
   ]
  },
  {
   "cell_type": "code",
   "execution_count": 22,
   "id": "72ce11cc-203f-4872-8044-56466772cb91",
   "metadata": {},
   "outputs": [],
   "source": [
    "users_posts = posts[['body', 'username']]"
   ]
  },
  {
   "cell_type": "code",
   "execution_count": 23,
   "id": "c7704945-e575-494d-95ca-3d179974c44a",
   "metadata": {},
   "outputs": [
    {
     "data": {
      "text/plain": [
       "(87788, 2)"
      ]
     },
     "execution_count": 23,
     "metadata": {},
     "output_type": "execute_result"
    }
   ],
   "source": [
    "users_posts.shape"
   ]
  },
  {
   "cell_type": "code",
   "execution_count": 24,
   "id": "7b3db4f2-95d6-420d-bbae-312f5734bc7b",
   "metadata": {},
   "outputs": [
    {
     "data": {
      "text/plain": [
       "Ot00              29\n",
       "TTexasRepublic    29\n",
       "KimmyKesler       29\n",
       "DC11546736        29\n",
       "NotJustTrying     29\n",
       "1DRACARYS         30\n",
       "baconguns         31\n",
       "Jakebe            32\n",
       "arhumes3          33\n",
       "SamRiddle         33\n",
       "Tinagcrawley      33\n",
       "Simonbrennen      33\n",
       "moon52            33\n",
       "91q               34\n",
       "DancrDave         37\n",
       "ThomasFox         39\n",
       "Oldmanrant        40\n",
       "Cobrarick98       41\n",
       "Mikewin           43\n",
       "chucknellis       43\n",
       "jenniev101        48\n",
       "Klonokid          49\n",
       "doutingthomas1    50\n",
       "LibertyElaine     54\n",
       "Gayle7753         55\n",
       "Name: username, dtype: int64"
      ]
     },
     "execution_count": 24,
     "metadata": {},
     "output_type": "execute_result"
    }
   ],
   "source": [
    "users_posts['username'].value_counts().sort_values().tail(25)"
   ]
  },
  {
   "cell_type": "code",
   "execution_count": 25,
   "id": "d2b27993-fbec-41b9-949b-170a05f6fdfc",
   "metadata": {},
   "outputs": [],
   "source": [
    "# code for combing rows https://stackoverflow.com/questions/36392735/how-to-combine-multiple-rows-into-a-single-row-with-pandas\n",
    "combined_posts = users_posts.groupby('username')['body'].apply(' '.join).reset_index()"
   ]
  },
  {
   "cell_type": "code",
   "execution_count": 26,
   "id": "e8dcb941-ae46-4436-8f32-9b8238eb879f",
   "metadata": {},
   "outputs": [
    {
     "data": {
      "text/html": [
       "<div>\n",
       "<style scoped>\n",
       "    .dataframe tbody tr th:only-of-type {\n",
       "        vertical-align: middle;\n",
       "    }\n",
       "\n",
       "    .dataframe tbody tr th {\n",
       "        vertical-align: top;\n",
       "    }\n",
       "\n",
       "    .dataframe thead th {\n",
       "        text-align: right;\n",
       "    }\n",
       "</style>\n",
       "<table border=\"1\" class=\"dataframe\">\n",
       "  <thead>\n",
       "    <tr style=\"text-align: right;\">\n",
       "      <th></th>\n",
       "      <th>username</th>\n",
       "      <th>body</th>\n",
       "    </tr>\n",
       "  </thead>\n",
       "  <tbody>\n",
       "    <tr>\n",
       "      <th>55954</th>\n",
       "      <td>laderechadiario</td>\n",
       "      <td>🇧🇷 | #Brasil: de qué se trata el proyecto de ley que presentó el diputado federal Eduardo Bolsonaro, hijo del presidente Jair Bolsonaro, para combatir el nazismo y el comunismo y asegurar un futuro libre de autoritarismos en el país. 🇻🇪 | #Venezuela: el dictador Nicolás Maduro anunció el pasado sábado sus intenciones de comprar misiles al régimen iraní, poniendo en alerta a los países vecinos, quienes están preparando sus tropas ante un posible conflicto en la zona.</td>\n",
       "    </tr>\n",
       "    <tr>\n",
       "      <th>2869</th>\n",
       "      <td>Apothecariostore</td>\n",
       "      <td>Leftists are ‘Ridic’</td>\n",
       "    </tr>\n",
       "    <tr>\n",
       "      <th>46920</th>\n",
       "      <td>TammyBarrier2</td>\n",
       "      <td>Disregard for the nation is how we ended up here. The deep state players could not let it be a fair election but have no fear the schemes will all be brought to light</td>\n",
       "    </tr>\n",
       "    <tr>\n",
       "      <th>19155</th>\n",
       "      <td>Henry74</td>\n",
       "      <td>🤣</td>\n",
       "    </tr>\n",
       "    <tr>\n",
       "      <th>31159</th>\n",
       "      <td>Maury19763</td>\n",
       "      <td>This election is not Trump vs Biden. It is Pro America vs Anti America.</td>\n",
       "    </tr>\n",
       "    <tr>\n",
       "      <th>101</th>\n",
       "      <td>1751Migrant</td>\n",
       "      <td>When he shares the advice with the court, GAME OVER.   It’s not about gender, it’s about emotion, which you make abundantly clear.   Reading is fundamental. You should try it.</td>\n",
       "    </tr>\n",
       "    <tr>\n",
       "      <th>20392</th>\n",
       "      <td>Irvincooper75</td>\n",
       "      <td>YES! WHORONO IS AN IDIOT! They will destroy our country and turn us into another Hong Kong. A 5year old child would make more sense then any CNN, MSNBC reporter ever would and would put out the truth. The MSM reporters do not know what the word TRUTH even means.</td>\n",
       "    </tr>\n",
       "    <tr>\n",
       "      <th>43595</th>\n",
       "      <td>Shawndudka</td>\n",
       "      <td>You know what they say about snitches</td>\n",
       "    </tr>\n",
       "    <tr>\n",
       "      <th>57093</th>\n",
       "      <td>privitae</td>\n",
       "      <td>Lol</td>\n",
       "    </tr>\n",
       "    <tr>\n",
       "      <th>52304</th>\n",
       "      <td>Wmoseley48</td>\n",
       "      <td>?????</td>\n",
       "    </tr>\n",
       "  </tbody>\n",
       "</table>\n",
       "</div>"
      ],
      "text/plain": [
       "               username  \\\n",
       "55954   laderechadiario   \n",
       "2869   Apothecariostore   \n",
       "46920     TammyBarrier2   \n",
       "19155           Henry74   \n",
       "31159        Maury19763   \n",
       "101         1751Migrant   \n",
       "20392     Irvincooper75   \n",
       "43595        Shawndudka   \n",
       "57093          privitae   \n",
       "52304        Wmoseley48   \n",
       "\n",
       "                                                                                                                                                                                                                                                                                                                                                                                                                                                                                         body  \n",
       "55954  🇧🇷 | #Brasil: de qué se trata el proyecto de ley que presentó el diputado federal Eduardo Bolsonaro, hijo del presidente Jair Bolsonaro, para combatir el nazismo y el comunismo y asegurar un futuro libre de autoritarismos en el país. 🇻🇪 | #Venezuela: el dictador Nicolás Maduro anunció el pasado sábado sus intenciones de comprar misiles al régimen iraní, poniendo en alerta a los países vecinos, quienes están preparando sus tropas ante un posible conflicto en la zona.  \n",
       "2869                                                                                                                                                                                                                                                                                                                                                                                                                                                                     Leftists are ‘Ridic’  \n",
       "46920                                                                                                                                                                                                                                                                                                                  Disregard for the nation is how we ended up here. The deep state players could not let it be a fair election but have no fear the schemes will all be brought to light  \n",
       "19155                                                                                                                                                                                                                                                                                                                                                                                                                                                                                       🤣  \n",
       "31159                                                                                                                                                                                                                                                                                                                                                                                                                 This election is not Trump vs Biden. It is Pro America vs Anti America.  \n",
       "101                                                                                                                                                                                                                                                                                                           When he shares the advice with the court, GAME OVER.   It’s not about gender, it’s about emotion, which you make abundantly clear.   Reading is fundamental. You should try it.  \n",
       "20392                                                                                                                                                                                                                  YES! WHORONO IS AN IDIOT! They will destroy our country and turn us into another Hong Kong. A 5year old child would make more sense then any CNN, MSNBC reporter ever would and would put out the truth. The MSM reporters do not know what the word TRUTH even means.  \n",
       "43595                                                                                                                                                                                                                                                                                                                                                                                                                                                   You know what they say about snitches  \n",
       "57093                                                                                                                                                                                                                                                                                                                                                                                                                                                                                     Lol  \n",
       "52304                                                                                                                                                                                                                                                                                                                                                                                                                                                                                   ?????  "
      ]
     },
     "execution_count": 26,
     "metadata": {},
     "output_type": "execute_result"
    }
   ],
   "source": [
    "combined_posts.sample(10)"
   ]
  },
  {
   "cell_type": "code",
   "execution_count": 27,
   "id": "105e6368-6a44-4fc0-81cd-f872d3790a91",
   "metadata": {},
   "outputs": [
    {
     "data": {
      "text/plain": [
       "-generaldebellis    1\n",
       "Ranger503           1\n",
       "RangerLiebowitz     1\n",
       "RangerWay           1\n",
       "Rangerhondo         1\n",
       "                   ..\n",
       "Horny3000           1\n",
       "Hornykraken         1\n",
       "HorseBranch         1\n",
       "Horsefanextreme     1\n",
       "zundel              1\n",
       "Name: username, Length: 58797, dtype: int64"
      ]
     },
     "execution_count": 27,
     "metadata": {},
     "output_type": "execute_result"
    }
   ],
   "source": [
    "combined_posts['username'].value_counts()"
   ]
  },
  {
   "cell_type": "code",
   "execution_count": 28,
   "id": "0e6c3c7f-9370-4fc7-8a49-4cd865ae661d",
   "metadata": {},
   "outputs": [
    {
     "data": {
      "text/html": [
       "<div>\n",
       "<style scoped>\n",
       "    .dataframe tbody tr th:only-of-type {\n",
       "        vertical-align: middle;\n",
       "    }\n",
       "\n",
       "    .dataframe tbody tr th {\n",
       "        vertical-align: top;\n",
       "    }\n",
       "\n",
       "    .dataframe thead th {\n",
       "        text-align: right;\n",
       "    }\n",
       "</style>\n",
       "<table border=\"1\" class=\"dataframe\">\n",
       "  <thead>\n",
       "    <tr style=\"text-align: right;\">\n",
       "      <th></th>\n",
       "      <th>username</th>\n",
       "      <th>body</th>\n",
       "    </tr>\n",
       "  </thead>\n",
       "  <tbody>\n",
       "    <tr>\n",
       "      <th>23393</th>\n",
       "      <td>John</td>\n",
       "      <td>Nobody owns me. They do this every week.   No that was a photoshopped picture.... Fox never confirmed. So if I promise to create 19,000 jobs can I have an extremely low interest loan of 5.5b and give myself a massive bonus?   Should we keep giving them this money for forever? Maybe we should have the government pay every business’s expenses for perpetuity so nobody looses a job again? Basically. Probably Most of it.</td>\n",
       "    </tr>\n",
       "  </tbody>\n",
       "</table>\n",
       "</div>"
      ],
      "text/plain": [
       "      username  \\\n",
       "23393     John   \n",
       "\n",
       "                                                                                                                                                                                                                                                                                                                                                                                                                                      body  \n",
       "23393  Nobody owns me. They do this every week.   No that was a photoshopped picture.... Fox never confirmed. So if I promise to create 19,000 jobs can I have an extremely low interest loan of 5.5b and give myself a massive bonus?   Should we keep giving them this money for forever? Maybe we should have the government pay every business’s expenses for perpetuity so nobody looses a job again? Basically. Probably Most of it.  "
      ]
     },
     "execution_count": 28,
     "metadata": {},
     "output_type": "execute_result"
    }
   ],
   "source": [
    "combined_posts.loc[combined_posts['username'] == 'John']"
   ]
  },
  {
   "cell_type": "code",
   "execution_count": 29,
   "id": "cfd9ed39-eaa0-4a55-8a3c-2e6fa1edf85b",
   "metadata": {},
   "outputs": [
    {
     "data": {
      "text/html": [
       "<div>\n",
       "<style scoped>\n",
       "    .dataframe tbody tr th:only-of-type {\n",
       "        vertical-align: middle;\n",
       "    }\n",
       "\n",
       "    .dataframe tbody tr th {\n",
       "        vertical-align: top;\n",
       "    }\n",
       "\n",
       "    .dataframe thead th {\n",
       "        text-align: right;\n",
       "    }\n",
       "</style>\n",
       "<table border=\"1\" class=\"dataframe\">\n",
       "  <thead>\n",
       "    <tr style=\"text-align: right;\">\n",
       "      <th></th>\n",
       "      <th>username</th>\n",
       "      <th>body</th>\n",
       "    </tr>\n",
       "  </thead>\n",
       "  <tbody>\n",
       "  </tbody>\n",
       "</table>\n",
       "</div>"
      ],
      "text/plain": [
       "Empty DataFrame\n",
       "Columns: [username, body]\n",
       "Index: []"
      ]
     },
     "execution_count": 29,
     "metadata": {},
     "output_type": "execute_result"
    }
   ],
   "source": [
    "combined_posts.loc[combined_posts['username'] == 'ronpaul']"
   ]
  },
  {
   "cell_type": "code",
   "execution_count": 30,
   "id": "f3ecc9ec-d90c-43b6-8d4c-61259d7dc121",
   "metadata": {},
   "outputs": [
    {
     "data": {
      "text/html": [
       "<div>\n",
       "<style scoped>\n",
       "    .dataframe tbody tr th:only-of-type {\n",
       "        vertical-align: middle;\n",
       "    }\n",
       "\n",
       "    .dataframe tbody tr th {\n",
       "        vertical-align: top;\n",
       "    }\n",
       "\n",
       "    .dataframe thead th {\n",
       "        text-align: right;\n",
       "    }\n",
       "</style>\n",
       "<table border=\"1\" class=\"dataframe\">\n",
       "  <thead>\n",
       "    <tr style=\"text-align: right;\">\n",
       "      <th></th>\n",
       "      <th>username</th>\n",
       "      <th>body</th>\n",
       "    </tr>\n",
       "  </thead>\n",
       "  <tbody>\n",
       "  </tbody>\n",
       "</table>\n",
       "</div>"
      ],
      "text/plain": [
       "Empty DataFrame\n",
       "Columns: [username, body]\n",
       "Index: []"
      ]
     },
     "execution_count": 30,
     "metadata": {},
     "output_type": "execute_result"
    }
   ],
   "source": [
    "combined_posts.loc[combined_posts['username'] == 'TeamTrump']"
   ]
  },
  {
   "cell_type": "code",
   "execution_count": 31,
   "id": "38c08b72-f7e8-47e4-8e13-95bd45a41ee6",
   "metadata": {},
   "outputs": [
    {
     "data": {
      "text/html": [
       "<div>\n",
       "<style scoped>\n",
       "    .dataframe tbody tr th:only-of-type {\n",
       "        vertical-align: middle;\n",
       "    }\n",
       "\n",
       "    .dataframe tbody tr th {\n",
       "        vertical-align: top;\n",
       "    }\n",
       "\n",
       "    .dataframe thead th {\n",
       "        text-align: right;\n",
       "    }\n",
       "</style>\n",
       "<table border=\"1\" class=\"dataframe\">\n",
       "  <thead>\n",
       "    <tr style=\"text-align: right;\">\n",
       "      <th></th>\n",
       "      <th>username</th>\n",
       "      <th>body</th>\n",
       "    </tr>\n",
       "  </thead>\n",
       "  <tbody>\n",
       "    <tr>\n",
       "      <th>15577</th>\n",
       "      <td>FetchingFeline</td>\n",
       "      <td>I’ve seen a few men on here crying that they were scammed by this account or that one, that their bank accounts or identity’s were stolen. Well now, how did that happen ? You gave your bank account info to some picture of boobs on here? You deserve what you got then....   I feel ya.... it’s getting real.   Why yes, yes I am ! ♥️ ....China. Notice how, with ONE tweet calling out #ElijahCummings,   was able to completely shut down any further media coverage of Mueller’s embarrassing testimony?...</td>\n",
       "    </tr>\n",
       "  </tbody>\n",
       "</table>\n",
       "</div>"
      ],
      "text/plain": [
       "             username  \\\n",
       "15577  FetchingFeline   \n",
       "\n",
       "                                                                                                                                                                                                                                                                                                                                                                                                                                                                                                                      body  \n",
       "15577  I’ve seen a few men on here crying that they were scammed by this account or that one, that their bank accounts or identity’s were stolen. Well now, how did that happen ? You gave your bank account info to some picture of boobs on here? You deserve what you got then....   I feel ya.... it’s getting real.   Why yes, yes I am ! ♥️ ....China. Notice how, with ONE tweet calling out #ElijahCummings,   was able to completely shut down any further media coverage of Mueller’s embarrassing testimony?...  "
      ]
     },
     "execution_count": 31,
     "metadata": {},
     "output_type": "execute_result"
    }
   ],
   "source": [
    "combined_posts.loc[combined_posts['username'] == 'FetchingFeline']"
   ]
  },
  {
   "cell_type": "code",
   "execution_count": 32,
   "id": "89548f61-8c3a-45e8-b413-099868831644",
   "metadata": {},
   "outputs": [
    {
     "data": {
      "text/html": [
       "<div>\n",
       "<style scoped>\n",
       "    .dataframe tbody tr th:only-of-type {\n",
       "        vertical-align: middle;\n",
       "    }\n",
       "\n",
       "    .dataframe tbody tr th {\n",
       "        vertical-align: top;\n",
       "    }\n",
       "\n",
       "    .dataframe thead th {\n",
       "        text-align: right;\n",
       "    }\n",
       "</style>\n",
       "<table border=\"1\" class=\"dataframe\">\n",
       "  <thead>\n",
       "    <tr style=\"text-align: right;\">\n",
       "      <th></th>\n",
       "      <th>username</th>\n",
       "      <th>body</th>\n",
       "    </tr>\n",
       "  </thead>\n",
       "  <tbody>\n",
       "    <tr>\n",
       "      <th>48459</th>\n",
       "      <td>ThomasFox</td>\n",
       "      <td>🚨⭐️🇺🇸President Trump's Approval with Black Voters Soars to 46% After Debate Win Over Joe \"Predator\" Biden🇺🇸⭐️🚨 Virginia: 1,000+ Voters Receive Two Absentee Ballots Dem Sen. Blumenthal: I Won't Meet with Barrett, 'It Would Treat This Process as Legitimate' Miami lifts COVID-19 curfew after legal win by local jiggle joint Yep Hypocrisy Biased and sticking to their propaganda RNC vs. dnc Facebook is paying people to shut down their accounts ahead of the election - The Verge Coronavirus vaccine ...</td>\n",
       "    </tr>\n",
       "  </tbody>\n",
       "</table>\n",
       "</div>"
      ],
      "text/plain": [
       "        username  \\\n",
       "48459  ThomasFox   \n",
       "\n",
       "                                                                                                                                                                                                                                                                                                                                                                                                                                                                                                                      body  \n",
       "48459  🚨⭐️🇺🇸President Trump's Approval with Black Voters Soars to 46% After Debate Win Over Joe \"Predator\" Biden🇺🇸⭐️🚨 Virginia: 1,000+ Voters Receive Two Absentee Ballots Dem Sen. Blumenthal: I Won't Meet with Barrett, 'It Would Treat This Process as Legitimate' Miami lifts COVID-19 curfew after legal win by local jiggle joint Yep Hypocrisy Biased and sticking to their propaganda RNC vs. dnc Facebook is paying people to shut down their accounts ahead of the election - The Verge Coronavirus vaccine ...  "
      ]
     },
     "execution_count": 32,
     "metadata": {},
     "output_type": "execute_result"
    }
   ],
   "source": [
    "combined_posts.loc[combined_posts['username'] == 'ThomasFox']"
   ]
  },
  {
   "cell_type": "code",
   "execution_count": 33,
   "id": "fd94e692-37a4-4b65-94ad-b4d805ebd096",
   "metadata": {},
   "outputs": [
    {
     "data": {
      "text/html": [
       "<div>\n",
       "<style scoped>\n",
       "    .dataframe tbody tr th:only-of-type {\n",
       "        vertical-align: middle;\n",
       "    }\n",
       "\n",
       "    .dataframe tbody tr th {\n",
       "        vertical-align: top;\n",
       "    }\n",
       "\n",
       "    .dataframe thead th {\n",
       "        text-align: right;\n",
       "    }\n",
       "</style>\n",
       "<table border=\"1\" class=\"dataframe\">\n",
       "  <thead>\n",
       "    <tr style=\"text-align: right;\">\n",
       "      <th></th>\n",
       "      <th>username</th>\n",
       "      <th>body</th>\n",
       "    </tr>\n",
       "  </thead>\n",
       "  <tbody>\n",
       "    <tr>\n",
       "      <th>51575</th>\n",
       "      <td>WashTimesOpEd</td>\n",
       "      <td>Kay Coles James: “Lessons from past elections were lost on many, and now the mistakes — made more challenging in 2020 by mail-in ballots — have multiplied across the nation as a result.”   #WashTimesOpEd</td>\n",
       "    </tr>\n",
       "  </tbody>\n",
       "</table>\n",
       "</div>"
      ],
      "text/plain": [
       "            username  \\\n",
       "51575  WashTimesOpEd   \n",
       "\n",
       "                                                                                                                                                                                                              body  \n",
       "51575  Kay Coles James: “Lessons from past elections were lost on many, and now the mistakes — made more challenging in 2020 by mail-in ballots — have multiplied across the nation as a result.”   #WashTimesOpEd  "
      ]
     },
     "execution_count": 33,
     "metadata": {},
     "output_type": "execute_result"
    }
   ],
   "source": [
    "combined_posts.loc[combined_posts['username'] == 'WashTimesOpEd']"
   ]
  },
  {
   "cell_type": "code",
   "execution_count": 35,
   "id": "730416a8-7c78-4881-bef9-4c54f08b6799",
   "metadata": {},
   "outputs": [
    {
     "data": {
      "text/html": [
       "<div>\n",
       "<style scoped>\n",
       "    .dataframe tbody tr th:only-of-type {\n",
       "        vertical-align: middle;\n",
       "    }\n",
       "\n",
       "    .dataframe tbody tr th {\n",
       "        vertical-align: top;\n",
       "    }\n",
       "\n",
       "    .dataframe thead th {\n",
       "        text-align: right;\n",
       "    }\n",
       "</style>\n",
       "<table border=\"1\" class=\"dataframe\">\n",
       "  <thead>\n",
       "    <tr style=\"text-align: right;\">\n",
       "      <th></th>\n",
       "      <th>username</th>\n",
       "      <th>body</th>\n",
       "    </tr>\n",
       "  </thead>\n",
       "  <tbody>\n",
       "    <tr>\n",
       "      <th>16965</th>\n",
       "      <td>Gayle7753</td>\n",
       "      <td>REPORT: N. Korea: Trump's suggestion to meet Kim at DMZ is 'very interesting' Joe Buck and Troy Aikman caught in hot mic moment ridiculing the military flyover before NFL game - TheBlaze BREAKING: Federal Reserve approves its first rate cut since 2008 LGBT TERROR: Transgender 'Lady' Viciously Beats Elderly Christian Preacher on NYC Subway - Big League Politics CBN NEWS EXCLUSIVE - Mitch McConnell on Reshaping the Courts and Pro-Life Legislation: 'Leave No Vacancy Behind' | CBN News San Fran ...</td>\n",
       "    </tr>\n",
       "  </tbody>\n",
       "</table>\n",
       "</div>"
      ],
      "text/plain": [
       "        username  \\\n",
       "16965  Gayle7753   \n",
       "\n",
       "                                                                                                                                                                                                                                                                                                                                                                                                                                                                                                                      body  \n",
       "16965  REPORT: N. Korea: Trump's suggestion to meet Kim at DMZ is 'very interesting' Joe Buck and Troy Aikman caught in hot mic moment ridiculing the military flyover before NFL game - TheBlaze BREAKING: Federal Reserve approves its first rate cut since 2008 LGBT TERROR: Transgender 'Lady' Viciously Beats Elderly Christian Preacher on NYC Subway - Big League Politics CBN NEWS EXCLUSIVE - Mitch McConnell on Reshaping the Courts and Pro-Life Legislation: 'Leave No Vacancy Behind' | CBN News San Fran ...  "
      ]
     },
     "execution_count": 35,
     "metadata": {},
     "output_type": "execute_result"
    }
   ],
   "source": [
    "combined_posts.loc[combined_posts['username'] == 'Gayle7753']"
   ]
  },
  {
   "cell_type": "code",
   "execution_count": 36,
   "id": "011a13cf-3fe8-4049-a925-c327768036c1",
   "metadata": {},
   "outputs": [
    {
     "data": {
      "text/html": [
       "<div>\n",
       "<style scoped>\n",
       "    .dataframe tbody tr th:only-of-type {\n",
       "        vertical-align: middle;\n",
       "    }\n",
       "\n",
       "    .dataframe tbody tr th {\n",
       "        vertical-align: top;\n",
       "    }\n",
       "\n",
       "    .dataframe thead th {\n",
       "        text-align: right;\n",
       "    }\n",
       "</style>\n",
       "<table border=\"1\" class=\"dataframe\">\n",
       "  <thead>\n",
       "    <tr style=\"text-align: right;\">\n",
       "      <th></th>\n",
       "      <th>username</th>\n",
       "      <th>body</th>\n",
       "    </tr>\n",
       "  </thead>\n",
       "  <tbody>\n",
       "    <tr>\n",
       "      <th>28046</th>\n",
       "      <td>LibertyElaine</td>\n",
       "      <td>AMEN       Yes. Biden role models:  BRZEZINSKI and BYRD  GENOCIDAL and  RACIST DICTATOR AMEN    COMMUNISM Poop  Not a REAL POPE If you love someone TELL THEM TO TAKE  ▪︎HCQ AND ▪︎ ZINC IF THEY GET SICK  with COVID-19  If one pharmacy denies your doctors order, GO TO ANOTHER pharmacy. GET DR. SIMONE GOLD's map that shows where you can get HCQ Americas Front Line Doctors. Dr Simone Gold DUMMIES  MOCKINGBIRDS  Losers COVID-19 AND THE EMPERORS     BARTENDER for Soros.  SENSELESS drivel. SETH RIC...</td>\n",
       "    </tr>\n",
       "  </tbody>\n",
       "</table>\n",
       "</div>"
      ],
      "text/plain": [
       "            username  \\\n",
       "28046  LibertyElaine   \n",
       "\n",
       "                                                                                                                                                                                                                                                                                                                                                                                                                                                                                                                      body  \n",
       "28046  AMEN       Yes. Biden role models:  BRZEZINSKI and BYRD  GENOCIDAL and  RACIST DICTATOR AMEN    COMMUNISM Poop  Not a REAL POPE If you love someone TELL THEM TO TAKE  ▪︎HCQ AND ▪︎ ZINC IF THEY GET SICK  with COVID-19  If one pharmacy denies your doctors order, GO TO ANOTHER pharmacy. GET DR. SIMONE GOLD's map that shows where you can get HCQ Americas Front Line Doctors. Dr Simone Gold DUMMIES  MOCKINGBIRDS  Losers COVID-19 AND THE EMPERORS     BARTENDER for Soros.  SENSELESS drivel. SETH RIC...  "
      ]
     },
     "execution_count": 36,
     "metadata": {},
     "output_type": "execute_result"
    }
   ],
   "source": [
    "combined_posts.loc[combined_posts['username'] == 'LibertyElaine']"
   ]
  },
  {
   "cell_type": "code",
   "execution_count": 37,
   "id": "7b2b1c67-b889-45fc-ae0a-cbc91b1e82bd",
   "metadata": {},
   "outputs": [
    {
     "data": {
      "text/html": [
       "<div>\n",
       "<style scoped>\n",
       "    .dataframe tbody tr th:only-of-type {\n",
       "        vertical-align: middle;\n",
       "    }\n",
       "\n",
       "    .dataframe tbody tr th {\n",
       "        vertical-align: top;\n",
       "    }\n",
       "\n",
       "    .dataframe thead th {\n",
       "        text-align: right;\n",
       "    }\n",
       "</style>\n",
       "<table border=\"1\" class=\"dataframe\">\n",
       "  <thead>\n",
       "    <tr style=\"text-align: right;\">\n",
       "      <th></th>\n",
       "      <th>username</th>\n",
       "      <th>body</th>\n",
       "    </tr>\n",
       "  </thead>\n",
       "  <tbody>\n",
       "    <tr>\n",
       "      <th>54457</th>\n",
       "      <td>doutingthomas1</td>\n",
       "      <td>AAA test finds some automotive pedestrian detection systems don't work at night and need improvement  Explore the Fox News apps that are right for you at I wonder what kind a Parfum RBG WEARS IS SHE INDEED IS STILL AMONG THE LIVING? AuDe Corpse? 😬🍸 👍👏👏👏👏👏👏👏👏👏👏👏👏👏👏👏👏👏👏👏👏👏👏👏👏👏 Trump announces increased tariffs on China in latest trade war salvo  Explore the Fox News apps that are right for you at 'Shark Tank' star Daymond John tried to sell Florida N95 masks at an inflated price: report  Explo...</td>\n",
       "    </tr>\n",
       "  </tbody>\n",
       "</table>\n",
       "</div>"
      ],
      "text/plain": [
       "             username  \\\n",
       "54457  doutingthomas1   \n",
       "\n",
       "                                                                                                                                                                                                                                                                                                                                                                                                                                                                                                                      body  \n",
       "54457  AAA test finds some automotive pedestrian detection systems don't work at night and need improvement  Explore the Fox News apps that are right for you at I wonder what kind a Parfum RBG WEARS IS SHE INDEED IS STILL AMONG THE LIVING? AuDe Corpse? 😬🍸 👍👏👏👏👏👏👏👏👏👏👏👏👏👏👏👏👏👏👏👏👏👏👏👏👏👏 Trump announces increased tariffs on China in latest trade war salvo  Explore the Fox News apps that are right for you at 'Shark Tank' star Daymond John tried to sell Florida N95 masks at an inflated price: report  Explo...  "
      ]
     },
     "execution_count": 37,
     "metadata": {},
     "output_type": "execute_result"
    }
   ],
   "source": [
    "combined_posts.loc[combined_posts['username'] == 'doutingthomas1']"
   ]
  },
  {
   "cell_type": "code",
   "execution_count": 38,
   "id": "b88248e4-352e-4192-867f-9fd141423be6",
   "metadata": {},
   "outputs": [
    {
     "data": {
      "text/html": [
       "<div>\n",
       "<style scoped>\n",
       "    .dataframe tbody tr th:only-of-type {\n",
       "        vertical-align: middle;\n",
       "    }\n",
       "\n",
       "    .dataframe tbody tr th {\n",
       "        vertical-align: top;\n",
       "    }\n",
       "\n",
       "    .dataframe thead th {\n",
       "        text-align: right;\n",
       "    }\n",
       "</style>\n",
       "<table border=\"1\" class=\"dataframe\">\n",
       "  <thead>\n",
       "    <tr style=\"text-align: right;\">\n",
       "      <th></th>\n",
       "      <th>username</th>\n",
       "      <th>body</th>\n",
       "    </tr>\n",
       "  </thead>\n",
       "  <tbody>\n",
       "    <tr>\n",
       "      <th>26401</th>\n",
       "      <td>Klonokid</td>\n",
       "      <td>US charges 4 Chinese military members in Equifax breach One of busiest roads in Baghdad was blocked by Kataib Hizbulla members, holding pictures of Iranian supreme leader Khamenei to intimidate drivers passing by #Iraq via   Merkel on second wave: Europe must show it has learned its lesson  Riyadh Daily Watch: Pete Buttigieg Runs away from Reporters' Questions in Spin Room | Breitbart Sharad Pawar, Nephew Ajit Pawar Named In Rs 25,000-Crore Money Laundering Case Ahead Of Maharashtra Election...</td>\n",
       "    </tr>\n",
       "  </tbody>\n",
       "</table>\n",
       "</div>"
      ],
      "text/plain": [
       "       username  \\\n",
       "26401  Klonokid   \n",
       "\n",
       "                                                                                                                                                                                                                                                                                                                                                                                                                                                                                                                      body  \n",
       "26401  US charges 4 Chinese military members in Equifax breach One of busiest roads in Baghdad was blocked by Kataib Hizbulla members, holding pictures of Iranian supreme leader Khamenei to intimidate drivers passing by #Iraq via   Merkel on second wave: Europe must show it has learned its lesson  Riyadh Daily Watch: Pete Buttigieg Runs away from Reporters' Questions in Spin Room | Breitbart Sharad Pawar, Nephew Ajit Pawar Named In Rs 25,000-Crore Money Laundering Case Ahead Of Maharashtra Election...  "
      ]
     },
     "execution_count": 38,
     "metadata": {},
     "output_type": "execute_result"
    }
   ],
   "source": [
    "combined_posts.loc[combined_posts['username'] == 'Klonokid']"
   ]
  },
  {
   "cell_type": "markdown",
   "id": "e4b26f2f-ca33-4cdd-b9e1-a665149792a6",
   "metadata": {},
   "source": [
    "LibertyElaine and doutingthomas1 seem like they might be bots"
   ]
  },
  {
   "cell_type": "code",
   "execution_count": 39,
   "id": "e9687262-8f3e-42c9-99ba-7c090ddab263",
   "metadata": {},
   "outputs": [],
   "source": [
    "combined_posts.to_csv('data/posts_by_use_sample.csv', index=False)"
   ]
  },
  {
   "cell_type": "code",
   "execution_count": null,
   "id": "7bb3e367-2d8f-40ab-99c5-7c88608482af",
   "metadata": {},
   "outputs": [],
   "source": []
  }
 ],
 "metadata": {
  "kernelspec": {
   "display_name": "Python 3 (ipykernel)",
   "language": "python",
   "name": "python3"
  },
  "language_info": {
   "codemirror_mode": {
    "name": "ipython",
    "version": 3
   },
   "file_extension": ".py",
   "mimetype": "text/x-python",
   "name": "python",
   "nbconvert_exporter": "python",
   "pygments_lexer": "ipython3",
   "version": "3.9.7"
  }
 },
 "nbformat": 4,
 "nbformat_minor": 5
}
