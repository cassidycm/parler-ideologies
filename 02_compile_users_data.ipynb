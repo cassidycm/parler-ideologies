{
 "cells": [
  {
   "cell_type": "markdown",
   "id": "df7622da-6ece-40d4-87b8-613123296a09",
   "metadata": {},
   "source": [
    "# Read in user data from json files"
   ]
  },
  {
   "cell_type": "markdown",
   "id": "b459de9c-bae3-4588-a223-604666ee4725",
   "metadata": {},
   "source": [
    "Citation:\n",
    "\n",
    "Max Aliapoulios, Emmi Bevensee, Jeremy Blackburn, Barry Bradlyn, Emiliano De Cristofaro, Gianluca Stringhini, & Savvas Zannettou. (2021). A Large Open Dataset from the Parler Social Network (Version 1) [Data set]. Zenodo. https://doi.org/10.5281/zenodo.4442460"
   ]
  },
  {
   "cell_type": "markdown",
   "id": "a0981a1e-42ce-497f-b4f9-6840458fd090",
   "metadata": {},
   "source": [
    "## Read in dataset"
   ]
  },
  {
   "cell_type": "markdown",
   "id": "0dbe27b3-6c3a-4abc-870b-4a9ea0773d2f",
   "metadata": {},
   "source": [
    "Each json file is a post scraped from parler and compiled by Aliapoulios et al. 2021 "
   ]
  },
  {
   "cell_type": "code",
   "execution_count": 24,
   "id": "31f82b2c-9722-4651-bcfd-6484962ead50",
   "metadata": {},
   "outputs": [],
   "source": [
    "import pandas as pd\n",
    "import numpy as np \n",
    "import matplotlib.pyplot as plt\n",
    "\n",
    "pd.set_option('display.max_columns', None)"
   ]
  },
  {
   "cell_type": "code",
   "execution_count": 2,
   "id": "3d5a4bc7-f1d5-425e-bc10-462dda18d150",
   "metadata": {},
   "outputs": [],
   "source": [
    "# solution for reading in ndjson from: https://stackoverflow.com/questions/63501251/how-to-open-ndjson-file-in-python "
   ]
  },
  {
   "cell_type": "code",
   "execution_count": 3,
   "id": "5c39061c-72ee-4d7c-93a4-ca3b4e9a1158",
   "metadata": {},
   "outputs": [],
   "source": [
    "# df = pd.read_json('data/parler_users/parler_user000000000000.ndjson', lines=True)"
   ]
  },
  {
   "cell_type": "code",
   "execution_count": 4,
   "id": "32689997-19d6-4d1b-adba-8403ad7de2a8",
   "metadata": {},
   "outputs": [],
   "source": [
    "# with open('data/parler_users/parler_user000000000000.ndjson', 'r') as f:\n",
    "#     data = json.load(f)"
   ]
  },
  {
   "cell_type": "code",
   "execution_count": 5,
   "id": "83b0e860-f294-419e-9c98-089bad688f1d",
   "metadata": {},
   "outputs": [],
   "source": [
    "# df.shape"
   ]
  },
  {
   "cell_type": "markdown",
   "id": "1146a480-56f6-4a5b-9149-f7a05edde999",
   "metadata": {},
   "source": [
    "The first user file has 1472075 user IDs and 30 features "
   ]
  },
  {
   "cell_type": "code",
   "execution_count": 6,
   "id": "6770a06a-1428-4516-b665-e907c11978f2",
   "metadata": {},
   "outputs": [],
   "source": [
    "# sample = df.sample(100_000, random_state=42)"
   ]
  },
  {
   "cell_type": "code",
   "execution_count": 7,
   "id": "c78e20c3-0a17-4145-9209-9ec4915a5bf2",
   "metadata": {},
   "outputs": [],
   "source": [
    "# sample.to_csv('data/user_00_raw_sample.csv')"
   ]
  },
  {
   "cell_type": "code",
   "execution_count": 8,
   "id": "2040f038-ed7e-412d-9cf4-eb6ebfa5b70c",
   "metadata": {},
   "outputs": [],
   "source": [
    "sample = pd.read_csv('data/user_00_raw_sample.csv')\n",
    "sample.drop(columns='Unnamed: 0', inplace=True)"
   ]
  },
  {
   "cell_type": "code",
   "execution_count": 25,
   "id": "078c621a-0d19-4384-a3a3-909b4b194726",
   "metadata": {},
   "outputs": [
    {
     "data": {
      "text/html": [
       "<div>\n",
       "<style scoped>\n",
       "    .dataframe tbody tr th:only-of-type {\n",
       "        vertical-align: middle;\n",
       "    }\n",
       "\n",
       "    .dataframe tbody tr th {\n",
       "        vertical-align: top;\n",
       "    }\n",
       "\n",
       "    .dataframe thead th {\n",
       "        text-align: right;\n",
       "    }\n",
       "</style>\n",
       "<table border=\"1\" class=\"dataframe\">\n",
       "  <thead>\n",
       "    <tr style=\"text-align: right;\">\n",
       "      <th></th>\n",
       "      <th>id</th>\n",
       "      <th>key</th>\n",
       "      <th>banned</th>\n",
       "      <th>blocked</th>\n",
       "      <th>comments</th>\n",
       "      <th>datatype</th>\n",
       "      <th>followed</th>\n",
       "      <th>user_followers</th>\n",
       "      <th>user_following</th>\n",
       "      <th>following</th>\n",
       "      <th>human</th>\n",
       "      <th>integration</th>\n",
       "      <th>isFollowingYou</th>\n",
       "      <th>joined</th>\n",
       "      <th>lastseents</th>\n",
       "      <th>likes</th>\n",
       "      <th>media</th>\n",
       "      <th>muted</th>\n",
       "      <th>pendingFollow</th>\n",
       "      <th>posts</th>\n",
       "      <th>private</th>\n",
       "      <th>rss</th>\n",
       "      <th>userid</th>\n",
       "      <th>username</th>\n",
       "      <th>verified</th>\n",
       "      <th>verifiedComments</th>\n",
       "    </tr>\n",
       "  </thead>\n",
       "  <tbody>\n",
       "    <tr>\n",
       "      <th>0</th>\n",
       "      <td>76ae04ba192f4f029b5fbb26e9915443</td>\n",
       "      <td>76ae04ba192f4f029b5fbb26e9915443</td>\n",
       "      <td>0.0</td>\n",
       "      <td>0.0</td>\n",
       "      <td>0.0</td>\n",
       "      <td>user_profile</td>\n",
       "      <td>0.0</td>\n",
       "      <td>0.0</td>\n",
       "      <td>8.0</td>\n",
       "      <td>8.0</td>\n",
       "      <td>0.0</td>\n",
       "      <td>0.0</td>\n",
       "      <td>0.0</td>\n",
       "      <td>2.021011e+13</td>\n",
       "      <td>2021-01-08 04:37:47.229435 UTC</td>\n",
       "      <td>0.0</td>\n",
       "      <td>0.0</td>\n",
       "      <td>0.0</td>\n",
       "      <td>0.0</td>\n",
       "      <td>1.0</td>\n",
       "      <td>0.0</td>\n",
       "      <td>0.0</td>\n",
       "      <td>76ae04ba192f4f029b5fbb26e9915443</td>\n",
       "      <td>halkiat</td>\n",
       "      <td>False</td>\n",
       "      <td>0.0</td>\n",
       "    </tr>\n",
       "    <tr>\n",
       "      <th>1</th>\n",
       "      <td>1034e4a078ef4be29b4e66301c6d44dc</td>\n",
       "      <td>1034e4a078ef4be29b4e66301c6d44dc</td>\n",
       "      <td>0.0</td>\n",
       "      <td>0.0</td>\n",
       "      <td>0.0</td>\n",
       "      <td>user_profile</td>\n",
       "      <td>0.0</td>\n",
       "      <td>0.0</td>\n",
       "      <td>0.0</td>\n",
       "      <td>0.0</td>\n",
       "      <td>0.0</td>\n",
       "      <td>0.0</td>\n",
       "      <td>0.0</td>\n",
       "      <td>2.019063e+13</td>\n",
       "      <td>2020-12-21 15:30:55.666202 UTC</td>\n",
       "      <td>0.0</td>\n",
       "      <td>0.0</td>\n",
       "      <td>0.0</td>\n",
       "      <td>0.0</td>\n",
       "      <td>0.0</td>\n",
       "      <td>0.0</td>\n",
       "      <td>0.0</td>\n",
       "      <td>1034e4a078ef4be29b4e66301c6d44dc</td>\n",
       "      <td>Parler+ztq7o</td>\n",
       "      <td>False</td>\n",
       "      <td>0.0</td>\n",
       "    </tr>\n",
       "    <tr>\n",
       "      <th>3</th>\n",
       "      <td>e84ef3c7e1e443f59c6fafd29c3eff0e</td>\n",
       "      <td>e84ef3c7e1e443f59c6fafd29c3eff0e</td>\n",
       "      <td>0.0</td>\n",
       "      <td>0.0</td>\n",
       "      <td>0.0</td>\n",
       "      <td>user_profile</td>\n",
       "      <td>0.0</td>\n",
       "      <td>2.0</td>\n",
       "      <td>18.0</td>\n",
       "      <td>18.0</td>\n",
       "      <td>0.0</td>\n",
       "      <td>0.0</td>\n",
       "      <td>0.0</td>\n",
       "      <td>2.020073e+13</td>\n",
       "      <td>2020-12-21 01:56:56.395851 UTC</td>\n",
       "      <td>0.0</td>\n",
       "      <td>0.0</td>\n",
       "      <td>0.0</td>\n",
       "      <td>0.0</td>\n",
       "      <td>1.0</td>\n",
       "      <td>0.0</td>\n",
       "      <td>0.0</td>\n",
       "      <td>e84ef3c7e1e443f59c6fafd29c3eff0e</td>\n",
       "      <td>Tommy9iron1</td>\n",
       "      <td>False</td>\n",
       "      <td>0.0</td>\n",
       "    </tr>\n",
       "    <tr>\n",
       "      <th>4</th>\n",
       "      <td>8813d6952a5449849cef748f4c7b3277</td>\n",
       "      <td>8813d6952a5449849cef748f4c7b3277</td>\n",
       "      <td>0.0</td>\n",
       "      <td>0.0</td>\n",
       "      <td>0.0</td>\n",
       "      <td>user_profile</td>\n",
       "      <td>0.0</td>\n",
       "      <td>1.0</td>\n",
       "      <td>3.0</td>\n",
       "      <td>3.0</td>\n",
       "      <td>0.0</td>\n",
       "      <td>0.0</td>\n",
       "      <td>0.0</td>\n",
       "      <td>2.020063e+13</td>\n",
       "      <td>2020-12-21 22:20:03.408452 UTC</td>\n",
       "      <td>0.0</td>\n",
       "      <td>0.0</td>\n",
       "      <td>0.0</td>\n",
       "      <td>0.0</td>\n",
       "      <td>6.0</td>\n",
       "      <td>0.0</td>\n",
       "      <td>0.0</td>\n",
       "      <td>8813d6952a5449849cef748f4c7b3277</td>\n",
       "      <td>Cha951390</td>\n",
       "      <td>False</td>\n",
       "      <td>0.0</td>\n",
       "    </tr>\n",
       "    <tr>\n",
       "      <th>5</th>\n",
       "      <td>5f88254dfbf64210900e421d455298f6</td>\n",
       "      <td>5f88254dfbf64210900e421d455298f6</td>\n",
       "      <td>0.0</td>\n",
       "      <td>0.0</td>\n",
       "      <td>0.0</td>\n",
       "      <td>user_profile</td>\n",
       "      <td>0.0</td>\n",
       "      <td>4.0</td>\n",
       "      <td>8.0</td>\n",
       "      <td>8.0</td>\n",
       "      <td>0.0</td>\n",
       "      <td>0.0</td>\n",
       "      <td>0.0</td>\n",
       "      <td>2.020111e+13</td>\n",
       "      <td>2020-12-21 23:37:34.877248 UTC</td>\n",
       "      <td>0.0</td>\n",
       "      <td>0.0</td>\n",
       "      <td>0.0</td>\n",
       "      <td>0.0</td>\n",
       "      <td>1.0</td>\n",
       "      <td>0.0</td>\n",
       "      <td>0.0</td>\n",
       "      <td>5f88254dfbf64210900e421d455298f6</td>\n",
       "      <td>CoryCox77</td>\n",
       "      <td>False</td>\n",
       "      <td>0.0</td>\n",
       "    </tr>\n",
       "  </tbody>\n",
       "</table>\n",
       "</div>"
      ],
      "text/plain": [
       "                                 id                               key  banned  \\\n",
       "0  76ae04ba192f4f029b5fbb26e9915443  76ae04ba192f4f029b5fbb26e9915443     0.0   \n",
       "1  1034e4a078ef4be29b4e66301c6d44dc  1034e4a078ef4be29b4e66301c6d44dc     0.0   \n",
       "3  e84ef3c7e1e443f59c6fafd29c3eff0e  e84ef3c7e1e443f59c6fafd29c3eff0e     0.0   \n",
       "4  8813d6952a5449849cef748f4c7b3277  8813d6952a5449849cef748f4c7b3277     0.0   \n",
       "5  5f88254dfbf64210900e421d455298f6  5f88254dfbf64210900e421d455298f6     0.0   \n",
       "\n",
       "   blocked  comments      datatype  followed  user_followers  user_following  \\\n",
       "0      0.0       0.0  user_profile       0.0             0.0             8.0   \n",
       "1      0.0       0.0  user_profile       0.0             0.0             0.0   \n",
       "3      0.0       0.0  user_profile       0.0             2.0            18.0   \n",
       "4      0.0       0.0  user_profile       0.0             1.0             3.0   \n",
       "5      0.0       0.0  user_profile       0.0             4.0             8.0   \n",
       "\n",
       "   following  human  integration  isFollowingYou        joined  \\\n",
       "0        8.0    0.0          0.0             0.0  2.021011e+13   \n",
       "1        0.0    0.0          0.0             0.0  2.019063e+13   \n",
       "3       18.0    0.0          0.0             0.0  2.020073e+13   \n",
       "4        3.0    0.0          0.0             0.0  2.020063e+13   \n",
       "5        8.0    0.0          0.0             0.0  2.020111e+13   \n",
       "\n",
       "                       lastseents  likes  media  muted  pendingFollow  posts  \\\n",
       "0  2021-01-08 04:37:47.229435 UTC    0.0    0.0    0.0            0.0    1.0   \n",
       "1  2020-12-21 15:30:55.666202 UTC    0.0    0.0    0.0            0.0    0.0   \n",
       "3  2020-12-21 01:56:56.395851 UTC    0.0    0.0    0.0            0.0    1.0   \n",
       "4  2020-12-21 22:20:03.408452 UTC    0.0    0.0    0.0            0.0    6.0   \n",
       "5  2020-12-21 23:37:34.877248 UTC    0.0    0.0    0.0            0.0    1.0   \n",
       "\n",
       "   private  rss                            userid      username  verified  \\\n",
       "0      0.0  0.0  76ae04ba192f4f029b5fbb26e9915443       halkiat     False   \n",
       "1      0.0  0.0  1034e4a078ef4be29b4e66301c6d44dc  Parler+ztq7o     False   \n",
       "3      0.0  0.0  e84ef3c7e1e443f59c6fafd29c3eff0e   Tommy9iron1     False   \n",
       "4      0.0  0.0  8813d6952a5449849cef748f4c7b3277     Cha951390     False   \n",
       "5      0.0  0.0  5f88254dfbf64210900e421d455298f6     CoryCox77     False   \n",
       "\n",
       "   verifiedComments  \n",
       "0               0.0  \n",
       "1               0.0  \n",
       "3               0.0  \n",
       "4               0.0  \n",
       "5               0.0  "
      ]
     },
     "execution_count": 25,
     "metadata": {},
     "output_type": "execute_result"
    }
   ],
   "source": [
    "sample.head()"
   ]
  },
  {
   "cell_type": "code",
   "execution_count": 10,
   "id": "a44a6ebc-9214-429e-ab61-1eac9901503f",
   "metadata": {},
   "outputs": [
    {
     "data": {
      "text/plain": [
       "Index(['id', 'key', 'badges', 'banned', 'bio', 'blocked', 'comments',\n",
       "       'datatype', 'followed', 'user_followers', 'user_following', 'following',\n",
       "       'human', 'integration', 'isFollowingYou', 'joined', 'lastseents',\n",
       "       'likes', 'media', 'muted', 'pendingFollow', 'posts', 'private',\n",
       "       'profilePhoto', 'rss', 'state', 'userid', 'username', 'verified',\n",
       "       'verifiedComments'],\n",
       "      dtype='object')"
      ]
     },
     "execution_count": 10,
     "metadata": {},
     "output_type": "execute_result"
    }
   ],
   "source": [
    "sample.columns"
   ]
  },
  {
   "cell_type": "code",
   "execution_count": 11,
   "id": "b7010e98-6f17-4971-9aa4-92c77f2bf27e",
   "metadata": {},
   "outputs": [
    {
     "name": "stdout",
     "output_type": "stream",
     "text": [
      "<class 'pandas.core.frame.DataFrame'>\n",
      "RangeIndex: 100000 entries, 0 to 99999\n",
      "Data columns (total 30 columns):\n",
      " #   Column            Non-Null Count   Dtype  \n",
      "---  ------            --------------   -----  \n",
      " 0   id                100000 non-null  object \n",
      " 1   key               100000 non-null  object \n",
      " 2   badges            100000 non-null  object \n",
      " 3   banned            99981 non-null   float64\n",
      " 4   bio               12565 non-null   object \n",
      " 5   blocked           100000 non-null  float64\n",
      " 6   comments          93013 non-null   float64\n",
      " 7   datatype          100000 non-null  object \n",
      " 8   followed          100000 non-null  float64\n",
      " 9   user_followers    93101 non-null   float64\n",
      " 10  user_following    93101 non-null   float64\n",
      " 11  following         93013 non-null   float64\n",
      " 12  human             100000 non-null  float64\n",
      " 13  integration       100000 non-null  float64\n",
      " 14  isFollowingYou    99981 non-null   float64\n",
      " 15  joined            100000 non-null  float64\n",
      " 16  lastseents        99985 non-null   object \n",
      " 17  likes             93013 non-null   float64\n",
      " 18  media             93013 non-null   float64\n",
      " 19  muted             100000 non-null  float64\n",
      " 20  pendingFollow     99981 non-null   float64\n",
      " 21  posts             93013 non-null   float64\n",
      " 22  private           99976 non-null   float64\n",
      " 23  profilePhoto      35972 non-null   object \n",
      " 24  rss               100000 non-null  float64\n",
      " 25  state             73486 non-null   float64\n",
      " 26  userid            100000 non-null  object \n",
      " 27  username          99999 non-null   object \n",
      " 28  verified          100000 non-null  bool   \n",
      " 29  verifiedComments  100000 non-null  float64\n",
      "dtypes: bool(1), float64(20), object(9)\n",
      "memory usage: 22.2+ MB\n"
     ]
    }
   ],
   "source": [
    "sample.info()"
   ]
  },
  {
   "cell_type": "code",
   "execution_count": 12,
   "id": "e1800ede-83e3-4be2-a882-accf5bda5dd6",
   "metadata": {},
   "outputs": [
    {
     "data": {
      "text/plain": [
       "id                   0.000\n",
       "key                  0.000\n",
       "badges               0.000\n",
       "banned               0.019\n",
       "bio                 87.435\n",
       "blocked              0.000\n",
       "comments             6.987\n",
       "datatype             0.000\n",
       "followed             0.000\n",
       "user_followers       6.899\n",
       "user_following       6.899\n",
       "following            6.987\n",
       "human                0.000\n",
       "integration          0.000\n",
       "isFollowingYou       0.019\n",
       "joined               0.000\n",
       "lastseents           0.015\n",
       "likes                6.987\n",
       "media                6.987\n",
       "muted                0.000\n",
       "pendingFollow        0.019\n",
       "posts                6.987\n",
       "private              0.024\n",
       "profilePhoto        64.028\n",
       "rss                  0.000\n",
       "state               26.514\n",
       "userid               0.000\n",
       "username             0.001\n",
       "verified             0.000\n",
       "verifiedComments     0.000\n",
       "dtype: float64"
      ]
     },
     "execution_count": 12,
     "metadata": {},
     "output_type": "execute_result"
    }
   ],
   "source": [
    "sample.isna().sum()/len(sample)*100"
   ]
  },
  {
   "cell_type": "markdown",
   "id": "29133fbe-632c-40ec-8a1a-e53349859833",
   "metadata": {},
   "source": [
    "### Drop columns with over 10% null values "
   ]
  },
  {
   "cell_type": "code",
   "execution_count": 13,
   "id": "362be081-c55f-4cf4-919e-463bde51a8e6",
   "metadata": {},
   "outputs": [
    {
     "data": {
      "text/plain": [
       "1.0    70785\n",
       "5.0     1997\n",
       "2.0      591\n",
       "3.0      113\n",
       "Name: state, dtype: int64"
      ]
     },
     "execution_count": 13,
     "metadata": {},
     "output_type": "execute_result"
    }
   ],
   "source": [
    "sample['state'].value_counts()"
   ]
  },
  {
   "cell_type": "code",
   "execution_count": 14,
   "id": "097a02ec-a95e-453c-b43a-e298e2c72f48",
   "metadata": {},
   "outputs": [
    {
     "data": {
      "text/plain": [
       "e373c936ec4e4793b68f3017b99b920d    1\n",
       "0947a345af3d45ff8350c76636b198ec    1\n",
       "07abab877a8d4e478f77a3e8c799f891    1\n",
       "8e49d2c4dc0f492c9145acb1d34e3348    1\n",
       "c481830bee8a44b48c8e57146921753d    1\n",
       "                                   ..\n",
       "36b6c606d45641f6a570137c504c3838    1\n",
       "c63de6cfb5514dbe8fa583e97cd86349    1\n",
       "bc7246779300489c97bf309e255698e0    1\n",
       "5cdef8c4acb14cb685e74cfdb2e4013a    1\n",
       "b272d5d33db44323b47b985b97e0c43e    1\n",
       "Name: profilePhoto, Length: 35972, dtype: int64"
      ]
     },
     "execution_count": 14,
     "metadata": {},
     "output_type": "execute_result"
    }
   ],
   "source": [
    "sample['profilePhoto'].value_counts()"
   ]
  },
  {
   "cell_type": "code",
   "execution_count": 15,
   "id": "3112bdab-63d0-4fee-b23d-7c40e4a46e5e",
   "metadata": {},
   "outputs": [
    {
     "data": {
      "text/html": [
       "<div>\n",
       "<style scoped>\n",
       "    .dataframe tbody tr th:only-of-type {\n",
       "        vertical-align: middle;\n",
       "    }\n",
       "\n",
       "    .dataframe tbody tr th {\n",
       "        vertical-align: top;\n",
       "    }\n",
       "\n",
       "    .dataframe thead th {\n",
       "        text-align: right;\n",
       "    }\n",
       "</style>\n",
       "<table border=\"1\" class=\"dataframe\">\n",
       "  <thead>\n",
       "    <tr style=\"text-align: right;\">\n",
       "      <th></th>\n",
       "      <th>bio</th>\n",
       "    </tr>\n",
       "  </thead>\n",
       "  <tbody>\n",
       "    <tr>\n",
       "      <th>0</th>\n",
       "      <td>���� #USA, ����#TRUMP2020, ����#MAGA, ������#B...</td>\n",
       "    </tr>\n",
       "    <tr>\n",
       "      <th>1</th>\n",
       "      <td>King Sky with a patch on my eye. Loving life a...</td>\n",
       "    </tr>\n",
       "    <tr>\n",
       "      <th>2</th>\n",
       "      <td>“A arquitetura da minha alma é barroca. Sou fr...</td>\n",
       "    </tr>\n",
       "  </tbody>\n",
       "</table>\n",
       "</div>"
      ],
      "text/plain": [
       "                                                 bio\n",
       "0  ���� #USA, ����#TRUMP2020, ����#MAGA, ������#B...\n",
       "1  King Sky with a patch on my eye. Loving life a...\n",
       "2  “A arquitetura da minha alma é barroca. Sou fr..."
      ]
     },
     "execution_count": 15,
     "metadata": {},
     "output_type": "execute_result"
    }
   ],
   "source": [
    "bio_df = sample[['bio']].dropna().reset_index(drop=True)\n",
    "bio_df = bio_df.loc[(bio_df['bio'] != '') & (bio_df['bio'] != ' ')]\n",
    "bio_df.head(3)"
   ]
  },
  {
   "cell_type": "code",
   "execution_count": 30,
   "id": "1327c75c-f623-4390-b920-47ce72d0d082",
   "metadata": {},
   "outputs": [],
   "source": [
    "bio_df.to_csv('data/user_00_bio_sample.csv', index=False)"
   ]
  },
  {
   "cell_type": "code",
   "execution_count": 16,
   "id": "ad074e25-f4ab-44c4-9ae7-feeb5c4ea7c6",
   "metadata": {},
   "outputs": [],
   "source": [
    "sample = sample.drop(columns=['bio', 'profilePhoto', 'state', 'badges'])"
   ]
  },
  {
   "cell_type": "markdown",
   "id": "107272df-9f63-4181-ace4-d57433b23439",
   "metadata": {},
   "source": [
    "### Drop nulls for the rest of the dataframe"
   ]
  },
  {
   "cell_type": "code",
   "execution_count": 17,
   "id": "b43fe1dc-1382-43c4-b281-a21c15dea93c",
   "metadata": {},
   "outputs": [],
   "source": [
    "original_len = sample.shape[0]"
   ]
  },
  {
   "cell_type": "code",
   "execution_count": 18,
   "id": "b4be5dd0-64af-43be-b7e3-8f19b73ac8a2",
   "metadata": {},
   "outputs": [
    {
     "data": {
      "text/plain": [
       "92.976"
      ]
     },
     "execution_count": 18,
     "metadata": {},
     "output_type": "execute_result"
    }
   ],
   "source": [
    "sample.dropna(inplace=True)\n",
    "new_len = sample.shape[0]\n",
    "new_len/original_len*100"
   ]
  },
  {
   "cell_type": "code",
   "execution_count": 19,
   "id": "b0f3de3b-96ea-4a5f-a8ef-d74ccfa3941c",
   "metadata": {},
   "outputs": [
    {
     "name": "stdout",
     "output_type": "stream",
     "text": [
      "['banned', 'blocked', 'comments', 'followed', 'user_followers', 'user_following', 'following', 'human', 'integration', 'isFollowingYou', 'joined', 'likes', 'media', 'muted', 'pendingFollow', 'posts', 'private', 'rss', 'verifiedComments']\n"
     ]
    }
   ],
   "source": [
    "numeric_cols = list(sample.select_dtypes(include='number'))\n",
    "print(numeric_cols)"
   ]
  },
  {
   "cell_type": "code",
   "execution_count": 20,
   "id": "96463042-d215-48c3-bbd7-6ae37a1a7f2f",
   "metadata": {},
   "outputs": [
    {
     "data": {
      "text/plain": [
       "Index(['id', 'key', 'datatype', 'lastseents', 'userid', 'username',\n",
       "       'verified'],\n",
       "      dtype='object')"
      ]
     },
     "execution_count": 20,
     "metadata": {},
     "output_type": "execute_result"
    }
   ],
   "source": [
    "object_cols = sample.drop(columns=numeric_cols).columns\n",
    "object_cols"
   ]
  },
  {
   "cell_type": "code",
   "execution_count": 21,
   "id": "aad5e179-dead-4c55-aa82-a9b37e0497f7",
   "metadata": {},
   "outputs": [
    {
     "data": {
      "text/html": [
       "<div>\n",
       "<style scoped>\n",
       "    .dataframe tbody tr th:only-of-type {\n",
       "        vertical-align: middle;\n",
       "    }\n",
       "\n",
       "    .dataframe tbody tr th {\n",
       "        vertical-align: top;\n",
       "    }\n",
       "\n",
       "    .dataframe thead th {\n",
       "        text-align: right;\n",
       "    }\n",
       "</style>\n",
       "<table border=\"1\" class=\"dataframe\">\n",
       "  <thead>\n",
       "    <tr style=\"text-align: right;\">\n",
       "      <th></th>\n",
       "      <th>id</th>\n",
       "      <th>key</th>\n",
       "      <th>banned</th>\n",
       "      <th>blocked</th>\n",
       "      <th>comments</th>\n",
       "      <th>datatype</th>\n",
       "      <th>followed</th>\n",
       "      <th>user_followers</th>\n",
       "      <th>user_following</th>\n",
       "      <th>following</th>\n",
       "      <th>...</th>\n",
       "      <th>media</th>\n",
       "      <th>muted</th>\n",
       "      <th>pendingFollow</th>\n",
       "      <th>posts</th>\n",
       "      <th>private</th>\n",
       "      <th>rss</th>\n",
       "      <th>userid</th>\n",
       "      <th>username</th>\n",
       "      <th>verified</th>\n",
       "      <th>verifiedComments</th>\n",
       "    </tr>\n",
       "  </thead>\n",
       "  <tbody>\n",
       "    <tr>\n",
       "      <th>0</th>\n",
       "      <td>76ae04ba192f4f029b5fbb26e9915443</td>\n",
       "      <td>76ae04ba192f4f029b5fbb26e9915443</td>\n",
       "      <td>0.0</td>\n",
       "      <td>0.0</td>\n",
       "      <td>0.0</td>\n",
       "      <td>user_profile</td>\n",
       "      <td>0.0</td>\n",
       "      <td>0.0</td>\n",
       "      <td>8.0</td>\n",
       "      <td>8.0</td>\n",
       "      <td>...</td>\n",
       "      <td>0.0</td>\n",
       "      <td>0.0</td>\n",
       "      <td>0.0</td>\n",
       "      <td>1.0</td>\n",
       "      <td>0.0</td>\n",
       "      <td>0.0</td>\n",
       "      <td>76ae04ba192f4f029b5fbb26e9915443</td>\n",
       "      <td>halkiat</td>\n",
       "      <td>False</td>\n",
       "      <td>0.0</td>\n",
       "    </tr>\n",
       "    <tr>\n",
       "      <th>1</th>\n",
       "      <td>1034e4a078ef4be29b4e66301c6d44dc</td>\n",
       "      <td>1034e4a078ef4be29b4e66301c6d44dc</td>\n",
       "      <td>0.0</td>\n",
       "      <td>0.0</td>\n",
       "      <td>0.0</td>\n",
       "      <td>user_profile</td>\n",
       "      <td>0.0</td>\n",
       "      <td>0.0</td>\n",
       "      <td>0.0</td>\n",
       "      <td>0.0</td>\n",
       "      <td>...</td>\n",
       "      <td>0.0</td>\n",
       "      <td>0.0</td>\n",
       "      <td>0.0</td>\n",
       "      <td>0.0</td>\n",
       "      <td>0.0</td>\n",
       "      <td>0.0</td>\n",
       "      <td>1034e4a078ef4be29b4e66301c6d44dc</td>\n",
       "      <td>Parler+ztq7o</td>\n",
       "      <td>False</td>\n",
       "      <td>0.0</td>\n",
       "    </tr>\n",
       "    <tr>\n",
       "      <th>3</th>\n",
       "      <td>e84ef3c7e1e443f59c6fafd29c3eff0e</td>\n",
       "      <td>e84ef3c7e1e443f59c6fafd29c3eff0e</td>\n",
       "      <td>0.0</td>\n",
       "      <td>0.0</td>\n",
       "      <td>0.0</td>\n",
       "      <td>user_profile</td>\n",
       "      <td>0.0</td>\n",
       "      <td>2.0</td>\n",
       "      <td>18.0</td>\n",
       "      <td>18.0</td>\n",
       "      <td>...</td>\n",
       "      <td>0.0</td>\n",
       "      <td>0.0</td>\n",
       "      <td>0.0</td>\n",
       "      <td>1.0</td>\n",
       "      <td>0.0</td>\n",
       "      <td>0.0</td>\n",
       "      <td>e84ef3c7e1e443f59c6fafd29c3eff0e</td>\n",
       "      <td>Tommy9iron1</td>\n",
       "      <td>False</td>\n",
       "      <td>0.0</td>\n",
       "    </tr>\n",
       "  </tbody>\n",
       "</table>\n",
       "<p>3 rows × 26 columns</p>\n",
       "</div>"
      ],
      "text/plain": [
       "                                 id                               key  banned  \\\n",
       "0  76ae04ba192f4f029b5fbb26e9915443  76ae04ba192f4f029b5fbb26e9915443     0.0   \n",
       "1  1034e4a078ef4be29b4e66301c6d44dc  1034e4a078ef4be29b4e66301c6d44dc     0.0   \n",
       "3  e84ef3c7e1e443f59c6fafd29c3eff0e  e84ef3c7e1e443f59c6fafd29c3eff0e     0.0   \n",
       "\n",
       "   blocked  comments      datatype  followed  user_followers  user_following  \\\n",
       "0      0.0       0.0  user_profile       0.0             0.0             8.0   \n",
       "1      0.0       0.0  user_profile       0.0             0.0             0.0   \n",
       "3      0.0       0.0  user_profile       0.0             2.0            18.0   \n",
       "\n",
       "   following  ...  media  muted  pendingFollow  posts private  rss  \\\n",
       "0        8.0  ...    0.0    0.0            0.0    1.0     0.0  0.0   \n",
       "1        0.0  ...    0.0    0.0            0.0    0.0     0.0  0.0   \n",
       "3       18.0  ...    0.0    0.0            0.0    1.0     0.0  0.0   \n",
       "\n",
       "                             userid      username  verified  verifiedComments  \n",
       "0  76ae04ba192f4f029b5fbb26e9915443       halkiat     False               0.0  \n",
       "1  1034e4a078ef4be29b4e66301c6d44dc  Parler+ztq7o     False               0.0  \n",
       "3  e84ef3c7e1e443f59c6fafd29c3eff0e   Tommy9iron1     False               0.0  \n",
       "\n",
       "[3 rows x 26 columns]"
      ]
     },
     "execution_count": 21,
     "metadata": {},
     "output_type": "execute_result"
    }
   ],
   "source": [
    "sample.head(3)"
   ]
  },
  {
   "cell_type": "code",
   "execution_count": 26,
   "id": "8e0b8de8-23ff-44dc-9620-e071d9340ac5",
   "metadata": {},
   "outputs": [
    {
     "data": {
      "text/plain": [
       "0"
      ]
     },
     "execution_count": 26,
     "metadata": {},
     "output_type": "execute_result"
    }
   ],
   "source": [
    "sample.isna().sum().sum()"
   ]
  },
  {
   "cell_type": "code",
   "execution_count": 22,
   "id": "a04062f8-001d-40a0-bfe2-fac4c9d79073",
   "metadata": {},
   "outputs": [
    {
     "name": "stdout",
     "output_type": "stream",
     "text": [
      "banned\n",
      "0.0    92975\n",
      "1.0        1\n",
      "Name: banned, dtype: int64\n",
      "\n",
      "blocked\n",
      "0.0    92976\n",
      "Name: blocked, dtype: int64\n",
      "\n",
      "comments\n",
      "0.0      71992\n",
      "1.0       7321\n",
      "2.0       3180\n",
      "3.0       1829\n",
      "4.0       1145\n",
      "         ...  \n",
      "744.0        1\n",
      "341.0        1\n",
      "323.0        1\n",
      "444.0        1\n",
      "532.0        1\n",
      "Name: comments, Length: 482, dtype: int64\n",
      "\n",
      "followed\n",
      "0.0    92976\n",
      "Name: followed, dtype: int64\n",
      "\n",
      "user_followers\n",
      "0.0      41388\n",
      "1.0      14790\n",
      "2.0       8005\n",
      "3.0       4952\n",
      "4.0       3507\n",
      "         ...  \n",
      "526.0        1\n",
      "572.0        1\n",
      "644.0        1\n",
      "679.0        1\n",
      "881.0        1\n",
      "Name: user_followers, Length: 736, dtype: int64\n",
      "\n",
      "user_following\n",
      "0.0      16422\n",
      "1.0       7049\n",
      "2.0       5641\n",
      "3.0       5194\n",
      "4.0       4930\n",
      "         ...  \n",
      "528.0        1\n",
      "657.0        1\n",
      "864.0        1\n",
      "449.0        1\n",
      "560.0        1\n",
      "Name: user_following, Length: 730, dtype: int64\n",
      "\n",
      "following\n",
      "0.0      16422\n",
      "1.0       7049\n",
      "2.0       5641\n",
      "3.0       5194\n",
      "4.0       4930\n",
      "         ...  \n",
      "528.0        1\n",
      "657.0        1\n",
      "864.0        1\n",
      "449.0        1\n",
      "560.0        1\n",
      "Name: following, Length: 730, dtype: int64\n",
      "\n",
      "human\n",
      "0.0    91228\n",
      "1.0     1748\n",
      "Name: human, dtype: int64\n",
      "\n",
      "integration\n",
      "0.0    92976\n",
      "Name: integration, dtype: int64\n",
      "\n",
      "isFollowingYou\n",
      "0.0    92976\n",
      "Name: isFollowingYou, dtype: int64\n",
      "\n",
      "joined\n",
      "2.020111e+13    4\n",
      "2.020112e+13    4\n",
      "2.020111e+13    4\n",
      "2.020111e+13    4\n",
      "2.020111e+13    4\n",
      "               ..\n",
      "2.020081e+13    1\n",
      "2.019061e+13    1\n",
      "2.020111e+13    1\n",
      "2.020111e+13    1\n",
      "2.020122e+13    1\n",
      "Name: joined, Length: 90104, dtype: int64\n",
      "\n",
      "likes\n",
      "0.0      57799\n",
      "1.0       8228\n",
      "2.0       3761\n",
      "3.0       2332\n",
      "4.0       1683\n",
      "         ...  \n",
      "955.0        1\n",
      "974.0        1\n",
      "429.0        1\n",
      "921.0        1\n",
      "428.0        1\n",
      "Name: likes, Length: 922, dtype: int64\n",
      "\n",
      "media\n",
      "0.0       84979\n",
      "1.0        3630\n",
      "2.0        1255\n",
      "3.0         682\n",
      "4.0         450\n",
      "          ...  \n",
      "166.0         1\n",
      "289.0         1\n",
      "3900.0        1\n",
      "329.0         1\n",
      "97.0          1\n",
      "Name: media, Length: 202, dtype: int64\n",
      "\n",
      "muted\n",
      "0.0    92976\n",
      "Name: muted, dtype: int64\n",
      "\n",
      "pendingFollow\n",
      "0.0    92976\n",
      "Name: pendingFollow, dtype: int64\n",
      "\n",
      "posts\n",
      "1.0      51686\n",
      "0.0      14391\n",
      "2.0       7275\n",
      "3.0       3266\n",
      "4.0       2015\n",
      "         ...  \n",
      "467.0        1\n",
      "214.0        1\n",
      "952.0        1\n",
      "456.0        1\n",
      "648.0        1\n",
      "Name: posts, Length: 767, dtype: int64\n",
      "\n",
      "private\n",
      "0.0    92976\n",
      "Name: private, dtype: int64\n",
      "\n",
      "rss\n",
      "0.0    92976\n",
      "Name: rss, dtype: int64\n",
      "\n",
      "verifiedComments\n",
      "0.0    92956\n",
      "1.0       20\n",
      "Name: verifiedComments, dtype: int64\n",
      "\n"
     ]
    }
   ],
   "source": [
    "for i in numeric_cols:\n",
    "    print(i)\n",
    "    print(sample[i].value_counts())\n",
    "    print()"
   ]
  },
  {
   "cell_type": "code",
   "execution_count": 23,
   "id": "141dcd87-fe7c-4694-ba99-18c781afc0e3",
   "metadata": {},
   "outputs": [
    {
     "data": {
      "image/png": "[encoded data removed]",
      "text/plain": [
       "<Figure size 432x288 with 1 Axes>"
      ]
     },
     "metadata": {
      "needs_background": "light"
     },
     "output_type": "display_data"
    },
    {
     "name": "stdout",
     "output_type": "stream",
     "text": [
      "\n"
     ]
    },
    {
     "data": {
      "image/png": "[encoded data removed]",
      "text/plain": [
       "<Figure size 432x288 with 1 Axes>"
      ]
     },
     "metadata": {
      "needs_background": "light"
     },
     "output_type": "display_data"
    },
    {
     "name": "stdout",
     "output_type": "stream",
     "text": [
      "\n"
     ]
    },
    {
     "data": {
      "image/png": "[encoded data removed]",
      "text/plain": [
       "<Figure size 432x288 with 1 Axes>"
      ]
     },
     "metadata": {
      "needs_background": "light"
     },
     "output_type": "display_data"
    },
    {
     "name": "stdout",
     "output_type": "stream",
     "text": [
      "\n"
     ]
    },
    {
     "data": {
      "image/png": "[encoded data removed]",
      "text/plain": [
       "<Figure size 432x288 with 1 Axes>"
      ]
     },
     "metadata": {
      "needs_background": "light"
     },
     "output_type": "display_data"
    },
    {
     "name": "stdout",
     "output_type": "stream",
     "text": [
      "\n"
     ]
    },
    {
     "data": {
      "image/png": "[encoded data removed]",
      "text/plain": [
       "<Figure size 432x288 with 1 Axes>"
      ]
     },
     "metadata": {
      "needs_background": "light"
     },
     "output_type": "display_data"
    },
    {
     "name": "stdout",
     "output_type": "stream",
     "text": [
      "\n"
     ]
    },
    {
     "data": {
      "image/png": "[encoded data removed]",
      "text/plain": [
       "<Figure size 432x288 with 1 Axes>"
      ]
     },
     "metadata": {
      "needs_background": "light"
     },
     "output_type": "display_data"
    },
    {
     "name": "stdout",
     "output_type": "stream",
     "text": [
      "\n"
     ]
    },
    {
     "data": {
      "image/png": "[encoded data removed]",
      "text/plain": [
       "<Figure size 432x288 with 1 Axes>"
      ]
     },
     "metadata": {
      "needs_background": "light"
     },
     "output_type": "display_data"
    },
    {
     "name": "stdout",
     "output_type": "stream",
     "text": [
      "\n"
     ]
    },
    {
     "data": {
      "image/png": "[encoded data removed]",
      "text/plain": [
       "<Figure size 432x288 with 1 Axes>"
      ]
     },
     "metadata": {
      "needs_background": "light"
     },
     "output_type": "display_data"
    },
    {
     "name": "stdout",
     "output_type": "stream",
     "text": [
      "\n"
     ]
    },
    {
     "data": {
      "image/png": "[encoded data removed]",
      "text/plain": [
       "<Figure size 432x288 with 1 Axes>"
      ]
     },
     "metadata": {
      "needs_background": "light"
     },
     "output_type": "display_data"
    },
    {
     "name": "stdout",
     "output_type": "stream",
     "text": [
      "\n"
     ]
    },
    {
     "data": {
      "image/png": "[encoded data removed]",
      "text/plain": [
       "<Figure size 432x288 with 1 Axes>"
      ]
     },
     "metadata": {
      "needs_background": "light"
     },
     "output_type": "display_data"
    },
    {
     "name": "stdout",
     "output_type": "stream",
     "text": [
      "\n"
     ]
    },
    {
     "data": {
      "image/png": "[encoded data removed]",
      "text/plain": [
       "<Figure size 432x288 with 1 Axes>"
      ]
     },
     "metadata": {
      "needs_background": "light"
     },
     "output_type": "display_data"
    },
    {
     "name": "stdout",
     "output_type": "stream",
     "text": [
      "\n"
     ]
    },
    {
     "data": {
      "image/png": "[encoded data removed]",
      "text/plain": [
       "<Figure size 432x288 with 1 Axes>"
      ]
     },
     "metadata": {
      "needs_background": "light"
     },
     "output_type": "display_data"
    },
    {
     "name": "stdout",
     "output_type": "stream",
     "text": [
      "\n"
     ]
    },
    {
     "data": {
      "image/png": "[encoded data removed]",
      "text/plain": [
       "<Figure size 432x288 with 1 Axes>"
      ]
     },
     "metadata": {
      "needs_background": "light"
     },
     "output_type": "display_data"
    },
    {
     "name": "stdout",
     "output_type": "stream",
     "text": [
      "\n"
     ]
    },
    {
     "data": {
      "image/png": "[encoded data removed]",
      "text/plain": [
       "<Figure size 432x288 with 1 Axes>"
      ]
     },
     "metadata": {
      "needs_background": "light"
     },
     "output_type": "display_data"
    },
    {
     "name": "stdout",
     "output_type": "stream",
     "text": [
      "\n"
     ]
    },
    {
     "data": {
      "image/png": "[encoded data removed]",
      "text/plain": [
       "<Figure size 432x288 with 1 Axes>"
      ]
     },
     "metadata": {
      "needs_background": "light"
     },
     "output_type": "display_data"
    },
    {
     "name": "stdout",
     "output_type": "stream",
     "text": [
      "\n"
     ]
    },
    {
     "data": {
      "image/png": "[encoded data removed]",
      "text/plain": [
       "<Figure size 432x288 with 1 Axes>"
      ]
     },
     "metadata": {
      "needs_background": "light"
     },
     "output_type": "display_data"
    },
    {
     "name": "stdout",
     "output_type": "stream",
     "text": [
      "\n"
     ]
    },
    {
     "data": {
      "image/png": "[encoded data removed]",
      "text/plain": [
       "<Figure size 432x288 with 1 Axes>"
      ]
     },
     "metadata": {
      "needs_background": "light"
     },
     "output_type": "display_data"
    },
    {
     "name": "stdout",
     "output_type": "stream",
     "text": [
      "\n"
     ]
    },
    {
     "data": {
      "image/png": "[encoded data removed]",
      "text/plain": [
       "<Figure size 432x288 with 1 Axes>"
      ]
     },
     "metadata": {
      "needs_background": "light"
     },
     "output_type": "display_data"
    },
    {
     "name": "stdout",
     "output_type": "stream",
     "text": [
      "\n"
     ]
    },
    {
     "data": {
      "image/png": "[encoded data removed]",
      "text/plain": [
       "<Figure size 432x288 with 1 Axes>"
      ]
     },
     "metadata": {
      "needs_background": "light"
     },
     "output_type": "display_data"
    },
    {
     "name": "stdout",
     "output_type": "stream",
     "text": [
      "\n"
     ]
    }
   ],
   "source": [
    "for i in numeric_cols: \n",
    "    plt.hist(sample[i])\n",
    "    plt.title(i)\n",
    "    plt.show()\n",
    "    print()"
   ]
  },
  {
   "cell_type": "code",
   "execution_count": null,
   "id": "403b5d6e-e0c0-4096-8d99-c52ba74976a8",
   "metadata": {},
   "outputs": [],
   "source": []
  }
 ],
 "metadata": {
  "kernelspec": {
   "display_name": "Python 3 (ipykernel)",
   "language": "python",
   "name": "python3"
  },
  "language_info": {
   "codemirror_mode": {
    "name": "ipython",
    "version": 3
   },
   "file_extension": ".py",
   "mimetype": "text/x-python",
   "name": "python",
   "nbconvert_exporter": "python",
   "pygments_lexer": "ipython3",
   "version": "3.9.7"
  }
 },
 "nbformat": 4,
 "nbformat_minor": 5
}
