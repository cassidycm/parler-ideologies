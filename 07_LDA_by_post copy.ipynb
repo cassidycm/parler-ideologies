{
 "cells": [
  {
   "cell_type": "markdown",
   "id": "32ce8f5b-2a07-46e8-9938-c85c05c458ff",
   "metadata": {},
   "source": [
    "# LDA by individual post "
   ]
  },
  {
   "cell_type": "markdown",
   "id": "964e6296-d129-4c4c-a97c-2fe5df5961b4",
   "metadata": {},
   "source": [
    "Each vector is a distinct post. Predictions would be performed on single new posts to determine individual probability of belonging to a cluster. \n",
    "\n",
    "Code adapted from \n",
    "- General Assembly Lesson by Caroline Schmitt: Intro to Latent Dirichlet Allocation. \n",
    "- Tutorial from Machine Learning Plus by Selva Prabhakaran https://www.machinelearningplus.com/nlp/topic-modeling-python-sklearn-examples/"
   ]
  },
  {
   "cell_type": "code",
   "execution_count": 1,
   "id": "bce5639f-99b9-4aba-8ae4-e20ae3b24a13",
   "metadata": {},
   "outputs": [],
   "source": [
    "import numpy as np \n",
    "import pandas as pd \n",
    "import matplotlib.pyplot as plt \n",
    "\n",
    "from sklearn.feature_extraction.text import CountVectorizer \n",
    "from sklearn.decomposition import LatentDirichletAllocation \n",
    "from sklearn.model_selection import train_test_split, GridSearchCV\n",
    "\n",
    "np.random.seed(42)"
   ]
  },
  {
   "cell_type": "markdown",
   "id": "873f2560-ac1c-4efc-a7c8-b4b525f6bbdf",
   "metadata": {},
   "source": [
    "## Import preprocessed data"
   ]
  },
  {
   "cell_type": "code",
   "execution_count": 2,
   "id": "4aef6a63-be3a-4519-9cc5-a197a69624d1",
   "metadata": {},
   "outputs": [],
   "source": [
    "df = pd.read_csv('data/posts_01_cleaned_sample.csv')"
   ]
  },
  {
   "cell_type": "code",
   "execution_count": 3,
   "id": "1d1caf45-07e6-4559-8b0c-bf5497e42d2c",
   "metadata": {},
   "outputs": [
    {
     "data": {
      "text/html": [
       "<div>\n",
       "<style scoped>\n",
       "    .dataframe tbody tr th:only-of-type {\n",
       "        vertical-align: middle;\n",
       "    }\n",
       "\n",
       "    .dataframe tbody tr th {\n",
       "        vertical-align: top;\n",
       "    }\n",
       "\n",
       "    .dataframe thead th {\n",
       "        text-align: right;\n",
       "    }\n",
       "</style>\n",
       "<table border=\"1\" class=\"dataframe\">\n",
       "  <thead>\n",
       "    <tr style=\"text-align: right;\">\n",
       "      <th></th>\n",
       "      <th>body</th>\n",
       "    </tr>\n",
       "  </thead>\n",
       "  <tbody>\n",
       "    <tr>\n",
       "      <th>0</th>\n",
       "      <td>Ok, great, now be like Pa!</td>\n",
       "    </tr>\n",
       "    <tr>\n",
       "      <th>1</th>\n",
       "      <td>Glad to see you here on Parler where free spee...</td>\n",
       "    </tr>\n",
       "    <tr>\n",
       "      <th>2</th>\n",
       "      <td>Now we’re getting somewhere👍🇺🇸</td>\n",
       "    </tr>\n",
       "    <tr>\n",
       "      <th>3</th>\n",
       "      <td>Imagine if they gave him truth serum and start...</td>\n",
       "    </tr>\n",
       "    <tr>\n",
       "      <th>4</th>\n",
       "      <td>I don’t think DC police will do much against t...</td>\n",
       "    </tr>\n",
       "  </tbody>\n",
       "</table>\n",
       "</div>"
      ],
      "text/plain": [
       "                                                body\n",
       "0                         Ok, great, now be like Pa!\n",
       "1  Glad to see you here on Parler where free spee...\n",
       "2                     Now we’re getting somewhere👍🇺🇸\n",
       "3  Imagine if they gave him truth serum and start...\n",
       "4  I don’t think DC police will do much against t..."
      ]
     },
     "execution_count": 3,
     "metadata": {},
     "output_type": "execute_result"
    }
   ],
   "source": [
    "df.head()"
   ]
  },
  {
   "cell_type": "code",
   "execution_count": 5,
   "id": "e533fa4e-3e17-41dc-98fe-a4e9be5328ac",
   "metadata": {},
   "outputs": [],
   "source": [
    "# need to dropna in importing step with entire df - REMOVE\n",
    "df = df.dropna().reset_index(drop=True)"
   ]
  },
  {
   "cell_type": "code",
   "execution_count": 5,
   "id": "75bd5ac9-2143-4aba-ba53-4771e9548c84",
   "metadata": {},
   "outputs": [
    {
     "data": {
      "text/html": [
       "<div>\n",
       "<style scoped>\n",
       "    .dataframe tbody tr th:only-of-type {\n",
       "        vertical-align: middle;\n",
       "    }\n",
       "\n",
       "    .dataframe tbody tr th {\n",
       "        vertical-align: top;\n",
       "    }\n",
       "\n",
       "    .dataframe thead th {\n",
       "        text-align: right;\n",
       "    }\n",
       "</style>\n",
       "<table border=\"1\" class=\"dataframe\">\n",
       "  <thead>\n",
       "    <tr style=\"text-align: right;\">\n",
       "      <th></th>\n",
       "      <th>body</th>\n",
       "    </tr>\n",
       "  </thead>\n",
       "  <tbody>\n",
       "    <tr>\n",
       "      <th>0</th>\n",
       "      <td>Ok, great, now be like Pa!</td>\n",
       "    </tr>\n",
       "    <tr>\n",
       "      <th>1</th>\n",
       "      <td>Glad to see you here on Parler where free spee...</td>\n",
       "    </tr>\n",
       "    <tr>\n",
       "      <th>2</th>\n",
       "      <td>Now we’re getting somewhere👍🇺🇸</td>\n",
       "    </tr>\n",
       "    <tr>\n",
       "      <th>3</th>\n",
       "      <td>Imagine if they gave him truth serum and start...</td>\n",
       "    </tr>\n",
       "    <tr>\n",
       "      <th>4</th>\n",
       "      <td>I don’t think DC police will do much against t...</td>\n",
       "    </tr>\n",
       "  </tbody>\n",
       "</table>\n",
       "</div>"
      ],
      "text/plain": [
       "                                                body\n",
       "0                         Ok, great, now be like Pa!\n",
       "1  Glad to see you here on Parler where free spee...\n",
       "2                     Now we’re getting somewhere👍🇺🇸\n",
       "3  Imagine if they gave him truth serum and start...\n",
       "4  I don’t think DC police will do much against t..."
      ]
     },
     "execution_count": 5,
     "metadata": {},
     "output_type": "execute_result"
    }
   ],
   "source": [
    "df.head()"
   ]
  },
  {
   "cell_type": "markdown",
   "id": "4c1a7293-ecd1-4ccb-a738-d57bdab1603a",
   "metadata": {},
   "source": [
    "## Train test split"
   ]
  },
  {
   "cell_type": "code",
   "execution_count": 6,
   "id": "f9e46860-2098-4d4c-a95c-9b5bcd166dd6",
   "metadata": {},
   "outputs": [],
   "source": [
    "X = df['body']"
   ]
  },
  {
   "cell_type": "code",
   "execution_count": 8,
   "id": "14fa2969-ccf7-4f5b-9853-1459b1142455",
   "metadata": {},
   "outputs": [],
   "source": [
    "X_train, X_test = train_test_split(X, test_size=0.1, random_state=42)"
   ]
  },
  {
   "cell_type": "markdown",
   "id": "08c74735-f3f5-49f0-b1a0-c9b21e968e22",
   "metadata": {},
   "source": [
    "## Count Vectorize"
   ]
  },
  {
   "cell_type": "code",
   "execution_count": 9,
   "id": "819e35b1-1f14-49c8-96ea-234acb01ed3d",
   "metadata": {},
   "outputs": [],
   "source": [
    "default_words = list(CountVectorizer(stop_words='english').get_stop_words())\n",
    "custom_stopwords = default_words + ['ve', 're']"
   ]
  },
  {
   "cell_type": "code",
   "execution_count": 11,
   "id": "a3576b0c-1dfb-4cb4-ba42-f76024b2bf5c",
   "metadata": {},
   "outputs": [
    {
     "data": {
      "text/html": [
       "<div>\n",
       "<style scoped>\n",
       "    .dataframe tbody tr th:only-of-type {\n",
       "        vertical-align: middle;\n",
       "    }\n",
       "\n",
       "    .dataframe tbody tr th {\n",
       "        vertical-align: top;\n",
       "    }\n",
       "\n",
       "    .dataframe thead th {\n",
       "        text-align: right;\n",
       "    }\n",
       "</style>\n",
       "<table border=\"1\" class=\"dataframe\">\n",
       "  <thead>\n",
       "    <tr style=\"text-align: right;\">\n",
       "      <th></th>\n",
       "      <th>00</th>\n",
       "      <th>000</th>\n",
       "      <th>00am</th>\n",
       "      <th>01</th>\n",
       "      <th>02</th>\n",
       "      <th>03</th>\n",
       "      <th>04</th>\n",
       "      <th>05</th>\n",
       "      <th>06</th>\n",
       "      <th>07</th>\n",
       "      <th>...</th>\n",
       "      <th>zionist</th>\n",
       "      <th>zip</th>\n",
       "      <th>zombie</th>\n",
       "      <th>zombies</th>\n",
       "      <th>zone</th>\n",
       "      <th>zones</th>\n",
       "      <th>zoom</th>\n",
       "      <th>zuck</th>\n",
       "      <th>zucker</th>\n",
       "      <th>zuckerberg</th>\n",
       "    </tr>\n",
       "  </thead>\n",
       "  <tbody>\n",
       "    <tr>\n",
       "      <th>0</th>\n",
       "      <td>0</td>\n",
       "      <td>0</td>\n",
       "      <td>0</td>\n",
       "      <td>0</td>\n",
       "      <td>0</td>\n",
       "      <td>0</td>\n",
       "      <td>0</td>\n",
       "      <td>0</td>\n",
       "      <td>0</td>\n",
       "      <td>0</td>\n",
       "      <td>...</td>\n",
       "      <td>0</td>\n",
       "      <td>0</td>\n",
       "      <td>0</td>\n",
       "      <td>0</td>\n",
       "      <td>0</td>\n",
       "      <td>0</td>\n",
       "      <td>0</td>\n",
       "      <td>0</td>\n",
       "      <td>0</td>\n",
       "      <td>0</td>\n",
       "    </tr>\n",
       "    <tr>\n",
       "      <th>1</th>\n",
       "      <td>0</td>\n",
       "      <td>0</td>\n",
       "      <td>0</td>\n",
       "      <td>0</td>\n",
       "      <td>0</td>\n",
       "      <td>0</td>\n",
       "      <td>0</td>\n",
       "      <td>0</td>\n",
       "      <td>0</td>\n",
       "      <td>0</td>\n",
       "      <td>...</td>\n",
       "      <td>0</td>\n",
       "      <td>0</td>\n",
       "      <td>0</td>\n",
       "      <td>0</td>\n",
       "      <td>0</td>\n",
       "      <td>0</td>\n",
       "      <td>0</td>\n",
       "      <td>0</td>\n",
       "      <td>0</td>\n",
       "      <td>0</td>\n",
       "    </tr>\n",
       "  </tbody>\n",
       "</table>\n",
       "<p>2 rows × 12541 columns</p>\n",
       "</div>"
      ],
      "text/plain": [
       "   00  000  00am  01  02  03  04  05  06  07  ...  zionist  zip  zombie  \\\n",
       "0   0    0     0   0   0   0   0   0   0   0  ...        0    0       0   \n",
       "1   0    0     0   0   0   0   0   0   0   0  ...        0    0       0   \n",
       "\n",
       "   zombies  zone  zones  zoom  zuck  zucker  zuckerberg  \n",
       "0        0     0      0     0     0       0           0  \n",
       "1        0     0      0     0     0       0           0  \n",
       "\n",
       "[2 rows x 12541 columns]"
      ]
     },
     "execution_count": 11,
     "metadata": {},
     "output_type": "execute_result"
    }
   ],
   "source": [
    "cv = CountVectorizer(min_df = 3, \n",
    "                     max_df = .5, \n",
    "                     stop_words = custom_stopwords, \n",
    "                     strip_accents='ascii', \n",
    "                )\n",
    "cv.fit(X_train)\n",
    "\n",
    "cv_train = cv.transform(X_train)\n",
    "cv_test = cv.transform(X_test)\n",
    "cv_df = pd.DataFrame(cv_train.todense(), columns=cv.get_feature_names_out())\n",
    "cv_df.head(2)"
   ]
  },
  {
   "cell_type": "markdown",
   "id": "d7f1fd8e-bd47-45eb-b9d7-974469b5029b",
   "metadata": {},
   "source": [
    "## Fit LDA model"
   ]
  },
  {
   "cell_type": "code",
   "execution_count": 12,
   "id": "9a8cc7e4-0936-48fa-a2e0-e44a7e4fb780",
   "metadata": {},
   "outputs": [
    {
     "data": {
      "text/plain": [
       "LatentDirichletAllocation(n_components=5, random_state=42)"
      ]
     },
     "execution_count": 12,
     "metadata": {},
     "output_type": "execute_result"
    }
   ],
   "source": [
    "lda = LatentDirichletAllocation(n_components=5, \n",
    "                                random_state=42\n",
    "                               )\n",
    "lda.fit(cv_train)"
   ]
  },
  {
   "cell_type": "code",
   "execution_count": 14,
   "id": "2b8150bb-5ab5-488d-af9a-2e77b50385fb",
   "metadata": {},
   "outputs": [
    {
     "data": {
      "text/plain": [
       "5"
      ]
     },
     "execution_count": 14,
     "metadata": {},
     "output_type": "execute_result"
    }
   ],
   "source": [
    "len(lda.components_)"
   ]
  },
  {
   "cell_type": "code",
   "execution_count": 15,
   "id": "bd3f6c19-ae95-493c-ab72-ffd92414f71b",
   "metadata": {},
   "outputs": [
    {
     "name": "stdout",
     "output_type": "stream",
     "text": [
      "12541\n",
      "12541\n",
      "12541\n",
      "12541\n",
      "12541\n"
     ]
    }
   ],
   "source": [
    "for each in lda.components_:\n",
    "    print(len(each))"
   ]
  },
  {
   "cell_type": "code",
   "execution_count": 17,
   "id": "4559e406-5aff-4229-8d09-0fd27a53736b",
   "metadata": {},
   "outputs": [],
   "source": [
    "features = cv.get_feature_names_out()"
   ]
  },
  {
   "cell_type": "code",
   "execution_count": 22,
   "id": "00e93cf6-2d9f-41a0-a8bf-d2745c849114",
   "metadata": {},
   "outputs": [
    {
     "name": "stdout",
     "output_type": "stream",
     "text": [
      "Topic 0:\n",
      "right\n",
      "great\n",
      "share\n",
      "follow\n",
      "welcome\n",
      "new\n",
      "parler\n",
      "life\n",
      "work\n",
      "god\n",
      "\n",
      "Topic 1:\n",
      "parler\n",
      "looking\n",
      "forward\n",
      "face\n",
      "just\n",
      "alive\n",
      "truth\n",
      "free\n",
      "speech\n",
      "joined\n",
      "\n",
      "Topic 2:\n",
      "good\n",
      "parler\n",
      "people\n",
      "check\n",
      "youtube\n",
      "page\n",
      "videos\n",
      "looking\n",
      "data\n",
      "channel\n",
      "\n",
      "Topic 3:\n",
      "like\n",
      "just\n",
      "dont\n",
      "time\n",
      "need\n",
      "thank\n",
      "know\n",
      "people\n",
      "yes\n",
      "god\n",
      "\n",
      "Topic 4:\n",
      "trump\n",
      "president\n",
      "biden\n",
      "people\n",
      "election\n",
      "just\n",
      "vote\n",
      "know\n",
      "fraud\n",
      "media\n",
      "\n"
     ]
    }
   ],
   "source": [
    "def display_topics(model, feature_names, num_words):\n",
    "    for ix, topic in enumerate(model.components_):\n",
    "        print(f'Topic {ix}:')\n",
    "        words = [feature_names[i] for i in topic.argsort()[:-num_words - 1:-1]]\n",
    "        print('\\n'.join(words))\n",
    "        print()\n",
    "\n",
    "\n",
    "display_topics(lda, features, 10)"
   ]
  },
  {
   "cell_type": "code",
   "execution_count": 1,
   "id": "485c2487-3238-4565-9106-1df4530500c3",
   "metadata": {},
   "outputs": [
    {
     "ename": "NameError",
     "evalue": "name 'LatentDirichletAllocation' is not defined",
     "output_type": "error",
     "traceback": [
      "\u001b[0;31m---------------------------------------------------------------------------\u001b[0m",
      "\u001b[0;31mNameError\u001b[0m                                 Traceback (most recent call last)",
      "\u001b[0;32m/var/folders/tw/90d96q0j6xq841_5j43gdj0c0000gn/T/ipykernel_800/383493996.py\u001b[0m in \u001b[0;36m<module>\u001b[0;34m\u001b[0m\n\u001b[0;32m----> 1\u001b[0;31m lda_8 = LatentDirichletAllocation(n_components=8, \n\u001b[0m\u001b[1;32m      2\u001b[0m                                 \u001b[0mrandom_state\u001b[0m\u001b[0;34m=\u001b[0m\u001b[0;36m42\u001b[0m\u001b[0;34m\u001b[0m\u001b[0;34m\u001b[0m\u001b[0m\n\u001b[1;32m      3\u001b[0m                                )\n\u001b[1;32m      4\u001b[0m \u001b[0mlda_8\u001b[0m\u001b[0;34m.\u001b[0m\u001b[0mfit\u001b[0m\u001b[0;34m(\u001b[0m\u001b[0mcv_train\u001b[0m\u001b[0;34m)\u001b[0m\u001b[0;34m\u001b[0m\u001b[0;34m\u001b[0m\u001b[0m\n",
      "\u001b[0;31mNameError\u001b[0m: name 'LatentDirichletAllocation' is not defined"
     ]
    }
   ],
   "source": [
    "lda_8 = LatentDirichletAllocation(n_components=8, \n",
    "                                random_state=42\n",
    "                               )\n",
    "lda_8.fit(cv_train)"
   ]
  },
  {
   "cell_type": "code",
   "execution_count": 14,
   "id": "fa43e8ee-f00b-414b-9d87-50c40723f5a9",
   "metadata": {
    "tags": []
   },
   "outputs": [
    {
     "data": {
      "text/plain": [
       "5"
      ]
     },
     "execution_count": 14,
     "metadata": {},
     "output_type": "execute_result"
    }
   ],
   "source": [
    "len(lda.components_)"
   ]
  },
  {
   "cell_type": "code",
   "execution_count": 23,
   "id": "0aa87169-b209-41d2-87f9-88d6a932990a",
   "metadata": {},
   "outputs": [
    {
     "name": "stdout",
     "output_type": "stream",
     "text": [
      "Topic 0:\n",
      "right\n",
      "great\n",
      "share\n",
      "follow\n",
      "welcome\n",
      "new\n",
      "parler\n",
      "life\n",
      "work\n",
      "god\n",
      "\n",
      "Topic 1:\n",
      "parler\n",
      "looking\n",
      "forward\n",
      "face\n",
      "just\n",
      "alive\n",
      "truth\n",
      "free\n",
      "speech\n",
      "joined\n",
      "\n",
      "Topic 2:\n",
      "good\n",
      "parler\n",
      "people\n",
      "check\n",
      "youtube\n",
      "page\n",
      "videos\n",
      "looking\n",
      "data\n",
      "channel\n",
      "\n",
      "Topic 3:\n",
      "like\n",
      "just\n",
      "dont\n",
      "time\n",
      "need\n",
      "thank\n",
      "know\n",
      "people\n",
      "yes\n",
      "god\n",
      "\n",
      "Topic 4:\n",
      "trump\n",
      "president\n",
      "biden\n",
      "people\n",
      "election\n",
      "just\n",
      "vote\n",
      "know\n",
      "fraud\n",
      "media\n",
      "\n"
     ]
    }
   ],
   "source": [
    "display_topics(lda, features, 15)"
   ]
  },
  {
   "cell_type": "code",
   "execution_count": 24,
   "id": "80843289-e43f-42e0-b120-eedb526e5ced",
   "metadata": {},
   "outputs": [
    {
     "data": {
      "text/plain": [
       "LatentDirichletAllocation(n_components=25, random_state=42)"
      ]
     },
     "execution_count": 24,
     "metadata": {},
     "output_type": "execute_result"
    }
   ],
   "source": [
    "lda_8 = LatentDirichletAllocation(n_components=25, \n",
    "                                random_state=42\n",
    "                               )\n",
    "lda_8.fit(cv_train)"
   ]
  },
  {
   "cell_type": "code",
   "execution_count": 25,
   "id": "5655bdc2-8bbc-4a26-8df4-e3932739c80c",
   "metadata": {
    "tags": []
   },
   "outputs": [
    {
     "data": {
      "text/plain": [
       "5"
      ]
     },
     "execution_count": 25,
     "metadata": {},
     "output_type": "execute_result"
    }
   ],
   "source": [
    "len(lda.components_)"
   ]
  },
  {
   "cell_type": "code",
   "execution_count": 26,
   "id": "c5331ecf-7dd3-424a-ac69-251b0d3fb175",
   "metadata": {},
   "outputs": [
    {
     "name": "stdout",
     "output_type": "stream",
     "text": [
      "Topic 0:\n",
      "right\n",
      "great\n",
      "share\n",
      "follow\n",
      "welcome\n",
      "new\n",
      "parler\n",
      "life\n",
      "work\n",
      "god\n",
      "\n",
      "Topic 1:\n",
      "parler\n",
      "looking\n",
      "forward\n",
      "face\n",
      "just\n",
      "alive\n",
      "truth\n",
      "free\n",
      "speech\n",
      "joined\n",
      "\n",
      "Topic 2:\n",
      "good\n",
      "parler\n",
      "people\n",
      "check\n",
      "youtube\n",
      "page\n",
      "videos\n",
      "looking\n",
      "data\n",
      "channel\n",
      "\n",
      "Topic 3:\n",
      "like\n",
      "just\n",
      "dont\n",
      "time\n",
      "need\n",
      "thank\n",
      "know\n",
      "people\n",
      "yes\n",
      "god\n",
      "\n",
      "Topic 4:\n",
      "trump\n",
      "president\n",
      "biden\n",
      "people\n",
      "election\n",
      "just\n",
      "vote\n",
      "know\n",
      "fraud\n",
      "media\n",
      "\n"
     ]
    }
   ],
   "source": [
    "display_topics(lda, features, 10)"
   ]
  },
  {
   "cell_type": "markdown",
   "id": "86dffebc-29f3-4ce8-b9d6-495268070dd7",
   "metadata": {
    "tags": []
   },
   "source": [
    "## Examine words in topics"
   ]
  },
  {
   "cell_type": "code",
   "execution_count": null,
   "id": "535055b7-e159-4df9-a739-2a70e352b50a",
   "metadata": {},
   "outputs": [],
   "source": []
  }
 ],
 "metadata": {
  "kernelspec": {
   "display_name": "Python 3 (ipykernel)",
   "language": "python",
   "name": "python3"
  },
  "language_info": {
   "codemirror_mode": {
    "name": "ipython",
    "version": 3
   },
   "file_extension": ".py",
   "mimetype": "text/x-python",
   "name": "python",
   "nbconvert_exporter": "python",
   "pygments_lexer": "ipython3",
   "version": "3.9.7"
  }
 },
 "nbformat": 4,
 "nbformat_minor": 5
}
